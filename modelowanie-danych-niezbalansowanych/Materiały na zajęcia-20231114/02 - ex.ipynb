{
 "cells": [
  {
   "cell_type": "markdown",
   "id": "0d1c2954",
   "metadata": {},
   "source": [
    "![alt text](img/LM.png)\n",
    "# Kurs: Deep Learning, Text Mining i XAI w Pythonie\n",
    "\n",
    "## Autor: Piotr Ćwiakowski\n",
    "\n",
    "### Lekcja 2. Modele typu White Box - ćwiczenia"
   ]
  },
  {
   "cell_type": "markdown",
   "id": "3245864f",
   "metadata": {},
   "source": [
    "## Zadanie 1.\n",
    "\n",
    "Wczytaj zbiór `default.csv`. Przeprowadź prostą diagnostykę danych, a następnie wykonaj walidację krzyżową modeli drzewa decyzyjnego. Najlepsze drzewo zilustruj na wykresie. Poniżej zamieszczamy opis zbioru:\n",
    "\n",
    "Nazwa zmiennej/zmiennych | Opis\n",
    "------------------------ | :-------------------------------------------------------- \n",
    "LIMIT_BAL                | Amount of the given credit (NT dollar): it includes both the individual consumer credit and his/her family (supplementary) credit. \n",
    "SEX                      | Gender (1 = male; 2 = female). \n",
    "EDUCATION                | Education (1 = graduate school; 2 = university; 3 = high school; 4 = others). \n",
    "MARRIAGE                 | Marital status (1 = married; 2 = single; 3 = others). \n",
    "AGE                      | Age (year). \n",
    "PAY_0 - PAY_6            | History of past payment. We tracked the past monthly payment records (from April to September, 2005) as follows: PAY_0 = the repayment status in September, 2005;...;PAY_6 = the repayment status in April, 2005. The measurement scale for the repayment status is: -1 = pay duly; 1 = payment delay for one month; 2 = payment delay for two months; . . .; 8 = payment delay for eight months; 9 = payment delay for nine months and above. \n",
    "BILL_AMT1-BILL_AMT6      | Amount of bill statement (NT dollar). BILL_AMT1 = amount of bill statement in September, 2005; . . .; BILL_AMT6 = amount of bill statement in April, 2005. \n",
    "PAY_AMT1-PAY_AMT6        | Amount of previous payment (NT dollar). PAY_AMT1 = amount paid in September, 2005; . . .;PAY_AMT6 = amount paid in April, 2005. \n",
    "default                  | dependent variable\n"
   ]
  },
  {
   "cell_type": "code",
   "execution_count": null,
   "id": "e8256878",
   "metadata": {},
   "outputs": [],
   "source": []
  },
  {
   "cell_type": "markdown",
   "id": "099fbb93",
   "metadata": {},
   "source": [
    "## Zadanie 2.\n",
    "\n",
    "Wczytaj zbiór `winequality-red.csv` (opis zbioru dostępny na stronie: https://archive.ics.uci.edu/ml/datasets/wine+quality). Przeprowadź prostą diagnostykę danych, a następnie wykonaj tuning modelu GAM i przedstaw wyniku za pomocą wykresów (...)."
   ]
  },
  {
   "cell_type": "code",
   "execution_count": 1,
   "id": "5f3d9bab",
   "metadata": {},
   "outputs": [],
   "source": [
    "# Rozwiązanie:\n",
    "# https://medium.com/just-another-data-scientist/building-interpretable-models-with-generalized-additive-models-in-python-c4404eaf5515"
   ]
  }
 ],
 "metadata": {
  "kernelspec": {
   "display_name": "Python 3 (ipykernel)",
   "language": "python",
   "name": "python3"
  },
  "language_info": {
   "codemirror_mode": {
    "name": "ipython",
    "version": 3
   },
   "file_extension": ".py",
   "mimetype": "text/x-python",
   "name": "python",
   "nbconvert_exporter": "python",
   "pygments_lexer": "ipython3",
   "version": "3.9.12"
  }
 },
 "nbformat": 4,
 "nbformat_minor": 5
}
