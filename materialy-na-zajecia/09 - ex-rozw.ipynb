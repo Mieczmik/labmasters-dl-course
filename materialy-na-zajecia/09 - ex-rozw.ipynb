{
 "cells": [
  {
   "cell_type": "markdown",
   "id": "f2d109e2",
   "metadata": {},
   "source": [
    "![alt text](img/LM.png)\n",
    "# Kurs: Deep Learning, Text Mining i XAI w Pythonie\n",
    "\n",
    "## Autor: Piotr Ćwiakowski\n",
    "\n",
    "### Lekcja 9. Sieci neuronowe MLP - ćwiczenia"
   ]
  },
  {
   "cell_type": "markdown",
   "id": "60fa4e76",
   "metadata": {},
   "source": [
    "# Ćwiczenie 1. \n",
    "Rozbuduj model według następującej instrukcji:\n",
    "\n",
    "1. Architektura modelu:\n",
    "    * Konwolucja z 64 filtrami, 3x3 kernel, 1x1 stride, liniową aktywacją, padding i który zas,\n",
    "    * Batch normalization (zaimportuj z `keras` warstwę `BatchNormalization`), \n",
    "    * Aktywacja \"relu\" (osobna warstwa z kerasowego obiektu `Activation` - https://keras.io/api/layers/activations/),\n",
    "    * warstwę `MaxPooling` z 2x2 pool (kernel), 2x2 stride,\n",
    "    * warstwę `Dropout` z 25% drop rate,\n",
    "    * warstwę `Dense` z 512 neuronami i aktywacją \"relu\",\n",
    "    * warstwę `Dropout` z 25% drop rate,\n",
    "    * odpowiedni warstwę output (do klasyfikacji wieloetykietowej).\n",
    "2. Skompiluj model używając optymalizatora Adamax z learning rate 0.0001 i decay = 1e-6 (optimizer trzeba podać jako funkcję: https://keras.io/api/optimizers/adamax/).\n",
    "3. Dopasuj model do danych.\n",
    "4. Przeprowadź ewaluację modelu."
   ]
  },
  {
   "cell_type": "code",
   "execution_count": 11,
   "id": "63ecfcdd",
   "metadata": {},
   "outputs": [],
   "source": [
    "# Ogólne pakiety\n",
    "import pandas as pd\n",
    "import numpy as np\n",
    "import matplotlib.pyplot as plt\n",
    "\n",
    "# Sieci neuronowe\n",
    "import keras\n",
    "import tensorflow as tf\n",
    "from keras import regularizers\n",
    "from keras.backend import set_session\n",
    "from keras.models import Sequential\n",
    "from keras.layers import Dense, Activation, Dropout, Conv2D, MaxPool2D, Flatten, BatchNormalization\n",
    "from keras.preprocessing.text import Tokenizer\n",
    "from keras.optimizers import adamax_v2\n",
    "from keras.datasets import mnist\n",
    "from keras.utils.all_utils import to_categorical "
   ]
  },
  {
   "cell_type": "code",
   "execution_count": 2,
   "id": "4cba4bf7",
   "metadata": {},
   "outputs": [],
   "source": [
    "(x_train, y_train),(x_test, y_test) = mnist.load_data()\n",
    "x_train.shape, x_test.shape, y_train.shape, y_test.shape\n",
    "\n",
    "# Policzmy liczbę kategorii\n",
    "num_labels = len(np.unique(y_train))\n",
    "\n",
    "# Zmienna objaśniana musi być w formacie one-hot-encoding\n",
    "y_train = to_categorical(y_train)\n",
    "y_test = to_categorical(y_test)\n",
    "y_train.shape, y_test.shape\n",
    "\n",
    "# Normalizacja\n",
    "x_train = x_train/255\n",
    "x_test = x_test/255"
   ]
  },
  {
   "cell_type": "code",
   "execution_count": 6,
   "id": "aede3122",
   "metadata": {},
   "outputs": [],
   "source": [
    "model = Sequential()\n",
    "model.add(Conv2D(filters=64, kernel_size=(3, 3), strides = (1, 1), padding='same', input_shape=(28, 28, 1), activation='linear'))\n",
    "model.add(BatchNormalization())\n",
    "model.add(Activation(activation='relu'))\n",
    "model.add(MaxPool2D(pool_size = (2,2), strides = (2, 2)))\n",
    "model.add(Dropout(rate = .25))\n",
    "model.add(Flatten())\n",
    "model.add(Dense(512, activation='relu'))\n",
    "model.add(Dropout(rate = .25))\n",
    "model.add(Dense(10, activation='softmax'))"
   ]
  },
  {
   "cell_type": "code",
   "execution_count": 7,
   "id": "d870ace4",
   "metadata": {},
   "outputs": [
    {
     "name": "stdout",
     "output_type": "stream",
     "text": [
      "Model: \"sequential_2\"\n",
      "_________________________________________________________________\n",
      " Layer (type)                Output Shape              Param #   \n",
      "=================================================================\n",
      " conv2d (Conv2D)             (None, 28, 28, 64)        640       \n",
      "                                                                 \n",
      " batch_normalization (BatchN  (None, 28, 28, 64)       256       \n",
      " ormalization)                                                   \n",
      "                                                                 \n",
      " activation (Activation)     (None, 28, 28, 64)        0         \n",
      "                                                                 \n",
      " max_pooling2d (MaxPooling2D  (None, 14, 14, 64)       0         \n",
      " )                                                               \n",
      "                                                                 \n",
      " dropout (Dropout)           (None, 14, 14, 64)        0         \n",
      "                                                                 \n",
      " flatten (Flatten)           (None, 12544)             0         \n",
      "                                                                 \n",
      " dense (Dense)               (None, 512)               6423040   \n",
      "                                                                 \n",
      " dropout_1 (Dropout)         (None, 512)               0         \n",
      "                                                                 \n",
      " dense_1 (Dense)             (None, 10)                5130      \n",
      "                                                                 \n",
      "=================================================================\n",
      "Total params: 6,429,066\n",
      "Trainable params: 6,428,938\n",
      "Non-trainable params: 128\n",
      "_________________________________________________________________\n"
     ]
    }
   ],
   "source": [
    "model.summary()"
   ]
  },
  {
   "cell_type": "code",
   "execution_count": 14,
   "id": "3f4d617d",
   "metadata": {},
   "outputs": [],
   "source": [
    "opt = adamax_v2.Adamax(lr=0.0001, decay=1e-6)\n",
    "\n",
    "model.compile(loss=\"categorical_crossentropy\", optimizer=opt, metrics=[\"accuracy\"])"
   ]
  },
  {
   "cell_type": "code",
   "execution_count": 15,
   "id": "dda80a2d",
   "metadata": {},
   "outputs": [
    {
     "name": "stdout",
     "output_type": "stream",
     "text": [
      "Epoch 1/20\n",
      "422/422 [==============================] - 67s 158ms/step - loss: 0.3840 - accuracy: 0.8815 - val_loss: 0.3466 - val_accuracy: 0.9610\n",
      "Epoch 2/20\n",
      "422/422 [==============================] - 85s 202ms/step - loss: 0.1742 - accuracy: 0.9475 - val_loss: 0.0876 - val_accuracy: 0.9750\n",
      "Epoch 3/20\n",
      "422/422 [==============================] - 90s 212ms/step - loss: 0.1261 - accuracy: 0.9625 - val_loss: 0.0693 - val_accuracy: 0.9810\n",
      "Epoch 4/20\n",
      "422/422 [==============================] - 84s 199ms/step - loss: 0.1004 - accuracy: 0.9695 - val_loss: 0.0617 - val_accuracy: 0.9827\n",
      "Epoch 5/20\n",
      "422/422 [==============================] - 88s 208ms/step - loss: 0.0838 - accuracy: 0.9747 - val_loss: 0.0561 - val_accuracy: 0.9852\n",
      "Epoch 6/20\n",
      "422/422 [==============================] - 85s 201ms/step - loss: 0.0708 - accuracy: 0.9788 - val_loss: 0.0532 - val_accuracy: 0.9853\n",
      "Epoch 7/20\n",
      "422/422 [==============================] - 83s 198ms/step - loss: 0.0610 - accuracy: 0.9818 - val_loss: 0.0483 - val_accuracy: 0.9883\n",
      "Epoch 8/20\n",
      "422/422 [==============================] - 84s 200ms/step - loss: 0.0554 - accuracy: 0.9835 - val_loss: 0.0484 - val_accuracy: 0.9865\n",
      "Epoch 9/20\n",
      "422/422 [==============================] - 85s 200ms/step - loss: 0.0485 - accuracy: 0.9852 - val_loss: 0.0462 - val_accuracy: 0.9875\n",
      "Epoch 10/20\n",
      "422/422 [==============================] - 82s 194ms/step - loss: 0.0456 - accuracy: 0.9865 - val_loss: 0.0449 - val_accuracy: 0.9883\n",
      "Epoch 11/20\n",
      "422/422 [==============================] - 85s 200ms/step - loss: 0.0411 - accuracy: 0.9874 - val_loss: 0.0429 - val_accuracy: 0.9882\n",
      "Epoch 12/20\n",
      "422/422 [==============================] - 84s 199ms/step - loss: 0.0394 - accuracy: 0.9884 - val_loss: 0.0417 - val_accuracy: 0.9893\n",
      "Epoch 13/20\n",
      "422/422 [==============================] - 85s 201ms/step - loss: 0.0360 - accuracy: 0.9894 - val_loss: 0.0407 - val_accuracy: 0.9885\n",
      "Epoch 14/20\n",
      "422/422 [==============================] - 84s 199ms/step - loss: 0.0326 - accuracy: 0.9901 - val_loss: 0.0404 - val_accuracy: 0.9893\n",
      "Epoch 15/20\n",
      "422/422 [==============================] - 86s 204ms/step - loss: 0.0307 - accuracy: 0.9908 - val_loss: 0.0392 - val_accuracy: 0.9893\n",
      "Epoch 16/20\n",
      "422/422 [==============================] - 85s 201ms/step - loss: 0.0285 - accuracy: 0.9914 - val_loss: 0.0418 - val_accuracy: 0.9885\n",
      "Epoch 17/20\n",
      "422/422 [==============================] - 90s 214ms/step - loss: 0.0269 - accuracy: 0.9919 - val_loss: 0.0430 - val_accuracy: 0.9883\n",
      "Epoch 18/20\n",
      "422/422 [==============================] - 86s 203ms/step - loss: 0.0252 - accuracy: 0.9924 - val_loss: 0.0402 - val_accuracy: 0.9898\n",
      "Epoch 19/20\n",
      "422/422 [==============================] - 84s 198ms/step - loss: 0.0246 - accuracy: 0.9926 - val_loss: 0.0402 - val_accuracy: 0.9897\n",
      "Epoch 20/20\n",
      "422/422 [==============================] - 83s 197ms/step - loss: 0.0229 - accuracy: 0.9929 - val_loss: 0.0383 - val_accuracy: 0.9892\n"
     ]
    },
    {
     "data": {
      "text/plain": [
       "<keras.callbacks.History at 0x2306e1e9d60>"
      ]
     },
     "execution_count": 15,
     "metadata": {},
     "output_type": "execute_result"
    }
   ],
   "source": [
    "batch_size = 128\n",
    "epochs = 20 \n",
    "# Model trenuje się kilkanaście minut\n",
    "model.fit(x_train, y_train, batch_size=batch_size, epochs=epochs, validation_split=0.1)"
   ]
  }
 ],
 "metadata": {
  "kernelspec": {
   "display_name": "Python 3 (ipykernel)",
   "language": "python",
   "name": "python3"
  },
  "language_info": {
   "codemirror_mode": {
    "name": "ipython",
    "version": 3
   },
   "file_extension": ".py",
   "mimetype": "text/x-python",
   "name": "python",
   "nbconvert_exporter": "python",
   "pygments_lexer": "ipython3",
   "version": "3.10.10"
  }
 },
 "nbformat": 4,
 "nbformat_minor": 5
}
