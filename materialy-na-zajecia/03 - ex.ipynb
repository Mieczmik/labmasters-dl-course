{
 "cells": [
  {
   "cell_type": "markdown",
   "id": "0d1c2954",
   "metadata": {},
   "source": [
    "![alt text](img/LM.png)\n",
    "# Kurs: Deep Learning, Text Mining i XAI w Pythonie\n",
    "\n",
    "## Autor: Piotr Ćwiakowski\n",
    "\n",
    "### Lekcja 3. Zaawansowany ensembling - ćwiczenia"
   ]
  },
  {
   "cell_type": "markdown",
   "id": "bd5c41a4",
   "metadata": {},
   "source": [
    "## Zadanie 1.\n",
    "\n",
    "Wczytaj zbiór `HR_Analytics.csv`. Przeprowadź prostą diagnostykę danych, a następnie wykonaj walidację krzyżową modeli:\n",
    "\n",
    "- lasów losowych,\n",
    "- Extremely randomized trees,\n",
    "- Xgboost,\n",
    "- LightGBM,\n",
    "- Catboost.\n",
    "\n",
    "Poniżej zamieszczamy opis zbioru i krótkie wprowadzenie do problemu:\n",
    "\n",
    "*(..) This dataset designed to understand the factors that lead a person to leave current job (...). By model(s) that uses the current credentials,demographics,experience data you will predict the probability of a candidate to look for a new job or will work for the company, as well as interpreting affected factors on employee decision.*\n",
    "\n",
    "Nazwa zmiennej         | Opis \n",
    "---------------------- | :-------------------------------------------\n",
    "enrollee_id            | Unique ID for candidate\n",
    "city                   | City code\n",
    "city_development_index | Developement index of the city (scaled)\n",
    "gender                 | Gender of candidate\n",
    "relevent_experience    | Relevant experience of candidate\n",
    "enrolled_university    | Type of University course enrolled if any\n",
    "education_level        | Education level of candidate\n",
    "major_discipline       | Education major discipline of candidate\n",
    "experience             | Candidate total experience in years\n",
    "company_size           | No of employees in current employer's company\n",
    "company_type           | Type of current employer\n",
    "lastnewjob             | Difference in years between previous job and current job\n",
    "training_hours         | training hours completed\n",
    "target                 | 0 – Not looking for job change, 1 – Looking for a job change\n",
    "\n",
    "Źródło danych: https://www.kaggle.com/datasets/arashnic/hr-analytics-job-change-of-data-scientists"
   ]
  },
  {
   "cell_type": "code",
   "execution_count": null,
   "id": "35afc969",
   "metadata": {},
   "outputs": [],
   "source": []
  },
  {
   "cell_type": "markdown",
   "id": "3245864f",
   "metadata": {},
   "source": [
    "## Zadanie 2.\n",
    "\n",
    "Wczytaj zbiór `default.csv`. Przeprowadź prostą diagnostykę danych, a następnie wykonaj walidację krzyżową modeli:\n",
    "\n",
    "- lasów losowych,\n",
    "- Extremely randomized trees,\n",
    "- Xgboost,\n",
    "- LightGBM,\n",
    "- Catboost.\n",
    "\n",
    "Poniżej zamieszczamy opis zbioru:\n",
    "\n",
    "Nazwa zmiennej/zmiennych | Opis\n",
    "------------------------ | :-------------------------------------------------------- \n",
    "LIMIT_BAL                | Amount of the given credit (NT dollar): it includes both the individual consumer credit and his/her family (supplementary) credit. \n",
    "SEX                      | Gender (1 = male; 2 = female). \n",
    "EDUCATION                | Education (1 = graduate school; 2 = university; 3 = high school; 4 = others). \n",
    "MARRIAGE                 | Marital status (1 = married; 2 = single; 3 = others). \n",
    "AGE                      | Age (year). \n",
    "PAY_0 - PAY_6            | History of past payment. We tracked the past monthly payment records (from April to September, 2005) as follows: PAY_0 = the repayment status in September, 2005;...;PAY_6 = the repayment status in April, 2005. The measurement scale for the repayment status is: -1 = pay duly; 1 = payment delay for one month; 2 = payment delay for two months; . . .; 8 = payment delay for eight months; 9 = payment delay for nine months and above. \n",
    "BILL_AMT1-BILL_AMT6      | Amount of bill statement (NT dollar). BILL_AMT1 = amount of bill statement in September, 2005; . . .; BILL_AMT6 = amount of bill statement in April, 2005. \n",
    "PAY_AMT1-PAY_AMT6        | Amount of previous payment (NT dollar). PAY_AMT1 = amount paid in September, 2005; . . .;PAY_AMT6 = amount paid in April, 2005. \n",
    "default                  | dependent variable"
   ]
  },
  {
   "cell_type": "code",
   "execution_count": null,
   "id": "e8256878",
   "metadata": {},
   "outputs": [],
   "source": []
  }
 ],
 "metadata": {
  "kernelspec": {
   "display_name": "Python 3 (ipykernel)",
   "language": "python",
   "name": "python3"
  },
  "language_info": {
   "codemirror_mode": {
    "name": "ipython",
    "version": 3
   },
   "file_extension": ".py",
   "mimetype": "text/x-python",
   "name": "python",
   "nbconvert_exporter": "python",
   "pygments_lexer": "ipython3",
   "version": "3.9.12"
  }
 },
 "nbformat": 4,
 "nbformat_minor": 5
}
