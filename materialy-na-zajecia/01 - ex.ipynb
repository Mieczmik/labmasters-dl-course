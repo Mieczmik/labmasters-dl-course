{
 "cells": [
  {
   "cell_type": "markdown",
   "id": "0d1c2954",
   "metadata": {},
   "source": [
    "![alt text](img/LM.png)\n",
    "# Kurs: Deep Learning, Text Mining i XAI w Pythonie\n",
    "\n",
    "## Autor: Piotr Ćwiakowski\n",
    "\n",
    "### Lekcja 1. Wyjaśnialne uczenie maszynowe - ćwiczenia"
   ]
  },
  {
   "cell_type": "markdown",
   "id": "3245864f",
   "metadata": {},
   "source": [
    "## Zadanie 1.\n",
    "\n",
    "Wczytaj zbiór `titanic2.csv`. Opis zbioru poniżej:\n",
    "\n",
    "Nazwa zmiennej | Opis \n",
    ":------------- | :--------------------------------------\n",
    "Pclass         | Passenger class (1 = 1st; 2 = 2nd; 3 = 3rd)\n",
    "Survived       | Survival (0 = No; 1 = Yes)\n",
    "name           | Passenger name\n",
    "sex            | Passenger gender\n",
    "age            | Passenger age\n",
    "sibsp          | Number of Siblings/Spouses Aboard of a Passenger\n",
    "parch          | Number of Parents/Children Aboard of a Passenger\n",
    "ticket         | Ticket Number\n",
    "fare           | Passenger Fare (British pound)\n",
    "cabin          | Cabin Number\n",
    "embarked       | Port of Embarkation (C = Cherbourg; Q = Queenstown; S = Southampton)\n",
    "boat           | Lifeboat\n",
    "body           | Body Identification Number\n",
    "home.dest      | Home/Destination\n",
    "\n",
    "Wykonaj następujące polecenia:"
   ]
  },
  {
   "cell_type": "markdown",
   "id": "928ddf07",
   "metadata": {},
   "source": [
    "* przygotuj zbiór do analizy (sprawdź czy są braki danych, usuń nieprzydatne zmienne oraz zmienne stanowiące przeciek informacji, zamień zmienne nominalne na binarne etc.) oraz podziel zbiór na treningowy i testowy. Przygotuj obiekty `features` i `target`."
   ]
  },
  {
   "cell_type": "code",
   "execution_count": 1,
   "id": "27fc4405",
   "metadata": {},
   "outputs": [],
   "source": [
    "# Podstawowe pakiety\n",
    "import math\n",
    "import numpy as np\n",
    "import pandas as pd\n",
    "import matplotlib.pyplot as plt\n",
    "import seaborn as sns\n",
    "\n",
    "# Ustawienia graficzne\n",
    "sns.set(style='whitegrid')\n",
    "sns.set_palette(\"bright\")\n",
    "%matplotlib inline\n",
    "\n",
    "# Machine Learning\n",
    "from sklearn import preprocessing\n",
    "from sklearn.model_selection import train_test_split\n",
    "from sklearn.model_selection import StratifiedKFold\n",
    "from sklearn.model_selection import KFold\n",
    "from sklearn.inspection import permutation_importance\n",
    "from sklearn.preprocessing import StandardScaler, LabelEncoder\n",
    "from sklearn.metrics import mean_squared_error\n",
    "from sklearn.metrics import confusion_matrix, roc_curve, auc, precision_recall_curve, average_precision_score, roc_auc_score\n",
    "\n",
    "# Modele ML\n",
    "from sklearn import linear_model\n",
    "from sklearn.linear_model import LogisticRegression\n",
    "from sklearn.ensemble import RandomForestClassifier\n",
    "from xgboost import XGBClassifier, XGBRegressor\n",
    "from helpers import run_xgb\n",
    "\n",
    "# Selekcja zmiennych\n",
    "from boruta import BorutaPy\n",
    "from sklearn.feature_selection import RFE\n",
    "\n",
    "# XAI\n",
    "from pdpbox import pdp, info_plots\n",
    "from lime import lime_tabular\n",
    "import dalex as dx"
   ]
  },
  {
   "cell_type": "code",
   "execution_count": 2,
   "id": "f9bc2334",
   "metadata": {},
   "outputs": [
    {
     "name": "stdout",
     "output_type": "stream",
     "text": [
      "['pclass', 'age', 'sibsp', 'parch', 'fare', 'sex_male', 'embarked_Q', 'embarked_S']\n"
     ]
    },
    {
     "data": {
      "text/html": [
       "<div>\n",
       "<style scoped>\n",
       "    .dataframe tbody tr th:only-of-type {\n",
       "        vertical-align: middle;\n",
       "    }\n",
       "\n",
       "    .dataframe tbody tr th {\n",
       "        vertical-align: top;\n",
       "    }\n",
       "\n",
       "    .dataframe thead th {\n",
       "        text-align: right;\n",
       "    }\n",
       "</style>\n",
       "<table border=\"1\" class=\"dataframe\">\n",
       "  <thead>\n",
       "    <tr style=\"text-align: right;\">\n",
       "      <th></th>\n",
       "      <th>pclass</th>\n",
       "      <th>survived</th>\n",
       "      <th>age</th>\n",
       "      <th>sibsp</th>\n",
       "      <th>parch</th>\n",
       "      <th>fare</th>\n",
       "      <th>sex_male</th>\n",
       "      <th>embarked_Q</th>\n",
       "      <th>embarked_S</th>\n",
       "    </tr>\n",
       "  </thead>\n",
       "  <tbody>\n",
       "    <tr>\n",
       "      <th>0</th>\n",
       "      <td>1</td>\n",
       "      <td>1</td>\n",
       "      <td>29.0000</td>\n",
       "      <td>0</td>\n",
       "      <td>0</td>\n",
       "      <td>211.3375</td>\n",
       "      <td>0</td>\n",
       "      <td>0</td>\n",
       "      <td>1</td>\n",
       "    </tr>\n",
       "    <tr>\n",
       "      <th>1</th>\n",
       "      <td>1</td>\n",
       "      <td>1</td>\n",
       "      <td>0.9167</td>\n",
       "      <td>1</td>\n",
       "      <td>2</td>\n",
       "      <td>151.5500</td>\n",
       "      <td>1</td>\n",
       "      <td>0</td>\n",
       "      <td>1</td>\n",
       "    </tr>\n",
       "    <tr>\n",
       "      <th>2</th>\n",
       "      <td>1</td>\n",
       "      <td>0</td>\n",
       "      <td>2.0000</td>\n",
       "      <td>1</td>\n",
       "      <td>2</td>\n",
       "      <td>151.5500</td>\n",
       "      <td>0</td>\n",
       "      <td>0</td>\n",
       "      <td>1</td>\n",
       "    </tr>\n",
       "    <tr>\n",
       "      <th>3</th>\n",
       "      <td>1</td>\n",
       "      <td>0</td>\n",
       "      <td>30.0000</td>\n",
       "      <td>1</td>\n",
       "      <td>2</td>\n",
       "      <td>151.5500</td>\n",
       "      <td>1</td>\n",
       "      <td>0</td>\n",
       "      <td>1</td>\n",
       "    </tr>\n",
       "    <tr>\n",
       "      <th>4</th>\n",
       "      <td>1</td>\n",
       "      <td>0</td>\n",
       "      <td>25.0000</td>\n",
       "      <td>1</td>\n",
       "      <td>2</td>\n",
       "      <td>151.5500</td>\n",
       "      <td>0</td>\n",
       "      <td>0</td>\n",
       "      <td>1</td>\n",
       "    </tr>\n",
       "  </tbody>\n",
       "</table>\n",
       "</div>"
      ],
      "text/plain": [
       "   pclass  survived      age  sibsp  parch      fare  sex_male  embarked_Q  \\\n",
       "0       1         1  29.0000      0      0  211.3375         0           0   \n",
       "1       1         1   0.9167      1      2  151.5500         1           0   \n",
       "2       1         0   2.0000      1      2  151.5500         0           0   \n",
       "3       1         0  30.0000      1      2  151.5500         1           0   \n",
       "4       1         0  25.0000      1      2  151.5500         0           0   \n",
       "\n",
       "   embarked_S  \n",
       "0           1  \n",
       "1           1  \n",
       "2           1  \n",
       "3           1  \n",
       "4           1  "
      ]
     },
     "metadata": {},
     "output_type": "display_data"
    },
    {
     "name": "stdout",
     "output_type": "stream",
     "text": [
      "(836, 8) (209, 8)\n"
     ]
    }
   ],
   "source": [
    "# Wczytanie danych\n",
    "titanic = pd.read_csv('data/titanic2.csv', sep=';', decimal=',')"
   ]
  },
  {
   "cell_type": "markdown",
   "id": "d0e14935",
   "metadata": {},
   "source": [
    "* wykonaj model przewidujący przeżycie pasażerów na statku Titanic wykorzystując logit, lasy losowe, xgboost oraz dowolne inne znane Ci modele (np. SVM lub KNN). Policz metryki dopasowania dla tych modeli (Accuracy, ROCAUC, Precyzję, Czułość). Dodatkowo możesz spróbować narysować krzywą ROC (można to dość prosto zrobić wykorzystując pakiet Dalex - wyszukaj w Internecie odpowiednie polecenia). Dla modeli opartych o drzewa decyzyjne (z ang. *tree based*) policz różne rankingi ważności zmiennych. Czy wiesz jak stworzyć podobny ranking dla pozostałych metod?"
   ]
  },
  {
   "cell_type": "code",
   "execution_count": 3,
   "id": "7b270155",
   "metadata": {},
   "outputs": [],
   "source": []
  },
  {
   "cell_type": "code",
   "execution_count": null,
   "id": "148cfc7a",
   "metadata": {
    "scrolled": true
   },
   "outputs": [],
   "source": []
  },
  {
   "cell_type": "markdown",
   "id": "0ce2636e",
   "metadata": {},
   "source": [
    "* Dla kilku najważniejszych (i najlepiej ciągłych) zmiennych policz oczekiwane odpowiedzi dla różnych modeli na podstawie historycznych danych. Następnie dla najlepszego modelu policz kontrfaktyczne wykresy PDP, ALE, ICE (dla tych samych zmiennych).  Zinterpretuj wyniki. Zadanie wykonaj dla zbioru testowego, jeśli okaże się za mały, wygeneruj prognozy dla całego zbioru. Czy między zmiennymi zachodzą ciekawe interakcje?"
   ]
  },
  {
   "cell_type": "code",
   "execution_count": null,
   "id": "7638a607",
   "metadata": {},
   "outputs": [],
   "source": []
  },
  {
   "cell_type": "markdown",
   "id": "f831d7a9",
   "metadata": {},
   "source": [
    "* Wybierz z danych (ze zbioru testowego):\n",
    "    - 2 pasażerów, którzy przeżyli i model prognozuje ten fakt poprawnie,\n",
    "    - 2 pasażerów, którzy przeżyli i model prognozuje ten fakt błędnie,\n",
    "    - 2 pasażerów, którzy nie przeżyli i model prognozuje ten fakt poprawnie,\n",
    "    - 2 pasażerów, którzy nie przeżyli i model prognozuje ten fakt błędnie.\n",
    "    \n",
    "Nastepnie na podstawie wykresu Breakdown, wartości Shapleya, lokalnych surogatów (LIME) oraz wykresów Ceteris Pariubs (dla najważniejszych zmiennych) spróbuj zastanowić się, dlaczego model popełnia w niektórych przypadkach błędy.    "
   ]
  },
  {
   "cell_type": "code",
   "execution_count": null,
   "id": "1608dc7c",
   "metadata": {},
   "outputs": [],
   "source": []
  },
  {
   "cell_type": "markdown",
   "id": "d231683a",
   "metadata": {},
   "source": [
    "* Spróbuj poprawić model regresji logistycznej za pomocą zmiennych przekształconych modelem lasów losowych."
   ]
  },
  {
   "cell_type": "code",
   "execution_count": null,
   "id": "4d13a28b",
   "metadata": {},
   "outputs": [],
   "source": []
  },
  {
   "cell_type": "markdown",
   "id": "403db782",
   "metadata": {},
   "source": [
    "# Zadanie 2."
   ]
  },
  {
   "cell_type": "markdown",
   "id": "82f6b477",
   "metadata": {},
   "source": [
    "Wczytaj zbiór apartments. Wykonaj następujące polecenia:"
   ]
  },
  {
   "cell_type": "code",
   "execution_count": 3,
   "id": "d11de721",
   "metadata": {},
   "outputs": [
    {
     "data": {
      "text/html": [
       "<div>\n",
       "<style scoped>\n",
       "    .dataframe tbody tr th:only-of-type {\n",
       "        vertical-align: middle;\n",
       "    }\n",
       "\n",
       "    .dataframe tbody tr th {\n",
       "        vertical-align: top;\n",
       "    }\n",
       "\n",
       "    .dataframe thead th {\n",
       "        text-align: right;\n",
       "    }\n",
       "</style>\n",
       "<table border=\"1\" class=\"dataframe\">\n",
       "  <thead>\n",
       "    <tr style=\"text-align: right;\">\n",
       "      <th></th>\n",
       "      <th>m2_price</th>\n",
       "      <th>construction_year</th>\n",
       "      <th>surface</th>\n",
       "      <th>floor</th>\n",
       "      <th>no_rooms</th>\n",
       "      <th>district</th>\n",
       "    </tr>\n",
       "  </thead>\n",
       "  <tbody>\n",
       "    <tr>\n",
       "      <th>1</th>\n",
       "      <td>5897</td>\n",
       "      <td>1953</td>\n",
       "      <td>25</td>\n",
       "      <td>3</td>\n",
       "      <td>1</td>\n",
       "      <td>Srodmiescie</td>\n",
       "    </tr>\n",
       "    <tr>\n",
       "      <th>2</th>\n",
       "      <td>1818</td>\n",
       "      <td>1992</td>\n",
       "      <td>143</td>\n",
       "      <td>9</td>\n",
       "      <td>5</td>\n",
       "      <td>Bielany</td>\n",
       "    </tr>\n",
       "    <tr>\n",
       "      <th>3</th>\n",
       "      <td>3643</td>\n",
       "      <td>1937</td>\n",
       "      <td>56</td>\n",
       "      <td>1</td>\n",
       "      <td>2</td>\n",
       "      <td>Praga</td>\n",
       "    </tr>\n",
       "    <tr>\n",
       "      <th>4</th>\n",
       "      <td>3517</td>\n",
       "      <td>1995</td>\n",
       "      <td>93</td>\n",
       "      <td>7</td>\n",
       "      <td>3</td>\n",
       "      <td>Ochota</td>\n",
       "    </tr>\n",
       "    <tr>\n",
       "      <th>5</th>\n",
       "      <td>3013</td>\n",
       "      <td>1992</td>\n",
       "      <td>144</td>\n",
       "      <td>6</td>\n",
       "      <td>5</td>\n",
       "      <td>Mokotow</td>\n",
       "    </tr>\n",
       "  </tbody>\n",
       "</table>\n",
       "</div>"
      ],
      "text/plain": [
       "   m2_price  construction_year  surface  floor  no_rooms     district\n",
       "1      5897               1953       25      3         1  Srodmiescie\n",
       "2      1818               1992      143      9         5      Bielany\n",
       "3      3643               1937       56      1         2        Praga\n",
       "4      3517               1995       93      7         3       Ochota\n",
       "5      3013               1992      144      6         5      Mokotow"
      ]
     },
     "execution_count": 3,
     "metadata": {},
     "output_type": "execute_result"
    }
   ],
   "source": [
    "import dalex as dx\n",
    "import pandas as pd\n",
    "import numpy as np\n",
    "\n",
    "data = dx.datasets.load_apartments()\n",
    "data.head()"
   ]
  },
  {
   "cell_type": "markdown",
   "id": "b3f2b394",
   "metadata": {},
   "source": [
    "* przygotuj zbiór do analizy (sprawdź czy są braki danych, usuń nieprzydatne zmienne, zamień zmienne nominalne na binarne etc.) oraz podziel zbiór na treningowy i testowy. Przygotuj obiekt `features` i `target`."
   ]
  },
  {
   "cell_type": "code",
   "execution_count": null,
   "id": "e41a88ac",
   "metadata": {},
   "outputs": [],
   "source": []
  },
  {
   "cell_type": "markdown",
   "id": "85528479",
   "metadata": {},
   "source": [
    "* wykonaj model prognozujący ceny nieruchomości (`m2_price`) wykorzystując regresję liniową, lasy losowe, xgboost oraz dowolne inne znane Ci modele (np. SVM lub KNN). Policz metryki dopasowania dla tych modeli (RMSE, MAE, MAPE, RMSLE). Dla modeli opartych o drzewa decyzyjne (z ang. *tree based*) policz różne rankingi ważności zmiennych. Czy wiesz jak stworzyć podobny ranking dla pozostałych metod?"
   ]
  },
  {
   "cell_type": "code",
   "execution_count": null,
   "id": "79280648",
   "metadata": {},
   "outputs": [],
   "source": []
  },
  {
   "cell_type": "markdown",
   "id": "1e307620",
   "metadata": {},
   "source": [
    "* Wykorzystując pakiet Dalex, dokonaj analizy rozkładu reszt w różnych modelach. Zinterpretuj wyniki"
   ]
  },
  {
   "cell_type": "code",
   "execution_count": null,
   "id": "8e3b2df4",
   "metadata": {},
   "outputs": [],
   "source": []
  },
  {
   "cell_type": "markdown",
   "id": "2a06f916",
   "metadata": {},
   "source": [
    "* Wykonaj wykresy PDP, ALE, ICE i porównaj sposób działania zmiennych w różnych modelach. Zinterpretuj wyniki. Czy między zmiennymi zachodzą ciekawe interakcje?"
   ]
  },
  {
   "cell_type": "code",
   "execution_count": null,
   "id": "90344d58",
   "metadata": {},
   "outputs": [],
   "source": []
  },
  {
   "cell_type": "markdown",
   "id": "acf6ab72",
   "metadata": {},
   "source": [
    "Sprawdź mechanizm generowania prognoz dla kilku obserwacji z różnych obszarów rozkładu zmiennej objaśnianej (np. lewy ogon, środek, prawy ogon) za pomocą wykresu Breakdown, wartości Shapleya, lokalnych surogatów (LIME) oraz wykresów `What-if`. Czy w różnych półkach cenowych zmienne oddziałują odmiennie?"
   ]
  },
  {
   "cell_type": "code",
   "execution_count": null,
   "id": "58af6249",
   "metadata": {},
   "outputs": [],
   "source": []
  },
  {
   "cell_type": "markdown",
   "id": "516b8411",
   "metadata": {},
   "source": [
    "* spróbuj poprawic model regresji liniowej wykorzystując do tego zmienne przekształcone za pomocą modelu lasów losowych."
   ]
  },
  {
   "cell_type": "code",
   "execution_count": null,
   "id": "e8256878",
   "metadata": {},
   "outputs": [],
   "source": []
  }
 ],
 "metadata": {
  "kernelspec": {
   "display_name": "Python 3 (ipykernel)",
   "language": "python",
   "name": "python3"
  },
  "language_info": {
   "codemirror_mode": {
    "name": "ipython",
    "version": 3
   },
   "file_extension": ".py",
   "mimetype": "text/x-python",
   "name": "python",
   "nbconvert_exporter": "python",
   "pygments_lexer": "ipython3",
   "version": "3.10.9"
  }
 },
 "nbformat": 4,
 "nbformat_minor": 5
}
