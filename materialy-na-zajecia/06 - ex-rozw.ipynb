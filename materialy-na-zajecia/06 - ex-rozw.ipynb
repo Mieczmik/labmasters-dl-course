{
 "cells": [
  {
   "cell_type": "markdown",
   "id": "61341201",
   "metadata": {},
   "source": [
    "![alt text](img/LM.png)\n",
    "# Kurs: Deep Learning, Text Mining i XAI w Pythonie\n",
    "\n",
    "## Autor: Piotr Ćwiakowski\n",
    "\n",
    "### Lekcja 6. NLP: Uczenie nadzorowane i nienadzorowane"
   ]
  },
  {
   "cell_type": "markdown",
   "id": "7b0dadf9",
   "metadata": {},
   "source": [
    "# Zadanie 1.\n",
    "\n",
    "Przygotuj macierz DTM dla polskiego korpusu zapisów obrad Rady Polityki Pieniężnej znajdujących się w folderze `minutes_nbp_pl`. W tym celu:\n",
    "\n",
    "1) Wczytaj dane pdf do jednej listy,"
   ]
  },
  {
   "cell_type": "code",
   "execution_count": 16,
   "id": "e64c11a6",
   "metadata": {},
   "outputs": [],
   "source": [
    "# Pakiety podstawowe\n",
    "import re\n",
    "import os\n",
    "import PyPDF2\n",
    "from os import listdir\n",
    "import string\n",
    "import pickle\n",
    "import pandas as pd\n",
    "import numpy as np\n",
    "import matplotlib.pyplot as plt\n",
    "from itertools import islice\n",
    "\n",
    "# Pakiety do NLP\n",
    "import nltk # nltk.download() \n",
    "import spacy\n",
    "from nltk.corpus import stopwords # nltk.download('stopwords')\n",
    "# nltk.download('averaged_perceptron_tagger')\n",
    "from nltk.corpus import wordnet\n",
    "from nltk.stem.porter import PorterStemmer\n",
    "from nltk.stem import WordNetLemmatizer\n",
    "from textblob import TextBlob, Word\n",
    "from sklearn.feature_extraction.text import TfidfVectorizer, CountVectorizer\n",
    "from wordcloud import WordCloud, STOPWORDS\n",
    "from spacy import displacy\n",
    "\n",
    "import Levenshtein as lev\n",
    "from fuzzywuzzy import fuzz\n",
    "from fuzzywuzzy import process"
   ]
  },
  {
   "cell_type": "code",
   "execution_count": 17,
   "id": "67219ec0",
   "metadata": {},
   "outputs": [],
   "source": [
    "sp = spacy.load('pl_core_news_sm') #wczytanie modelu językowego\n",
    "stop_words = stopwords.words('english') # Stopwords po angielsku\n",
    "\n",
    "# Przydatne polecenie:\n",
    "# !python -m spacy validate\n",
    "# https://spacy.io/api/cli"
   ]
  },
  {
   "cell_type": "code",
   "execution_count": null,
   "id": "3b92aa40",
   "metadata": {
    "scrolled": true
   },
   "outputs": [],
   "source": [
    "# lista_plikow = listdir('dataTM/minutes_nbp_pl/')\n",
    "# minutes = []\n",
    "\n",
    "# for plik in lista_plikow[0:4]:\n",
    "#     print(plik)\n",
    "#     with open(r'dataTM/minutes_nbp_pl/' + plik, mode='rb') as fp:\n",
    "#         pdf_doc = PyPDF2.PdfFileReader(fp)\n",
    "#         doc = ''\n",
    "#         for i in range(pdf_doc.numPages):\n",
    "#             page_to_print = pdf_doc.getPage(i)\n",
    "#             doc += page_to_print.extractText() # docs.append szybsze, ale potem i tak trzeba będzie skleić teksty.a\n",
    "#             # Usuńmy entery pomiędzy literami:\n",
    "# #             doc=re.sub(r'(\\w)\\n(\\w)', '\\\\1\\\\2', doc)\n",
    "#             # Usuńmy wszystkie entery\n",
    "#             doc=re.sub(r'\\n', '', doc)\n",
    "#         minutes.append(doc)"
   ]
  },
  {
   "cell_type": "code",
   "execution_count": 36,
   "id": "115fdf7b",
   "metadata": {},
   "outputs": [],
   "source": [
    "with open('minutes_pl.p', 'rb') as fp:\n",
    "    minutes = pickle.load(fp)"
   ]
  },
  {
   "cell_type": "code",
   "execution_count": 19,
   "id": "dc5a14ba",
   "metadata": {
    "scrolled": true
   },
   "outputs": [
    {
     "data": {
      "text/plain": [
       "'   1/4  444444444444444444444444444444444444444444444Opis  dyskusji  na  posiedzeniu  decyzyjnym  Rady  Polityki Pieniężnej w dniu 17 marca 2020 r. Dyskutując na temat bieżącej sytuacji gospodarczej członkowie Rady zwracali uwagę, że  wskutek  pandemii  COVID-19  oraz  działań  podejmowanych  przez wiele  państw zmierzających  do  ograniczenia  jej  dalszego  rozprzestrzeniania się, koniunktura  w gospodarce światowej istotnie się osłabiła. W szczególności wyraźnie spowolniła dynamika aktywności gospodarczej w sektorze usług, pogorszyły się nastroje konsumentów, a wiele firm na świecie czasowo wstrzymało produkcję . W tych warunkach silnie wzrosła też niepewność dotycząca perspektyw wzrostu PKB w  gospodarce światowej oraz  nastąpiło wyraźne pogorszenie  nastrojów  na  rynkach finansowych. Silnie spadły  ceny wielu  surowców,  w  tym  ropy  naftowej,  oraz nastąpiła deprecjacja walut części gospodarek wschodzących . Wskazywano,  że choć wedle  oficjalnych  danych w  Chinach rozprzestrzenianie  się epidemii koronawirusa wygasa, w ślad za czym aktywność w tej gospodarce powinna być stopniowo przywracana, to epidemia rozprzestrzenia się w  wielu innych krajach. W efekcie silnie  obniżane  są prognozy aktywności dla gospodarki  światowej,  a  w strefie euro prawdopodobna  jest recesja w  bieżącym  roku. Oceniano,  że  w dalszej  perspektywie – zgodnie  z  aktualnymi  prognozami – powinna nastąpić poprawa  koniunktury,  jednak jej tempo  będzie  zależało  od  skuteczności  działań  hamujących  epidemię,  a  także  wpływu zaburzeń na dochody i nastroje podmiotów gospodarczych w dłuższym okresie.  W celu  ograniczenia  negatywnych  gospodarczych  skutków  pandemii wiele  państw wprowadza  bądź  zapowiada  wprowadzenie silnie  stymulacyjnych działań po  stronie polityki fiskalnej.  Jednocześnie wiele banków centralnych na świecie, zarówno z gospodarek rozwiniętych, jak i wschodzących, obniża stopy  procentowe,  wprowadza bądź rozszerza programy skupu aktywów finansowych  lub zwiększa płynność sektora bankowego. Rezerwa Federalna Stanów Zjednoczonych obniżyła stopy procentowe w pobliże zera, ponownie  uruchomiła  skup  aktywów  oraz  zwiększyła  skalę  płynności  na  rynku finansowym. Europejski  Bank  Centralny, ze  względu  na trwale ujemny  poziom  stóp procentowych, nie obniżył stóp procentowych, ale poluzował warunki monetarne poprzez istotne zwiększenie skali skupu  aktywów oraz operacji  zasilających banki w  płynność. Jednocześnie wiele innych banków centralnych poluzowało politykę pieniężną.  Działania  banków  centralnych na  świecie – poprzez  wsparcie  płynnościowe  dla gospodarki, a także obniżenie kosztów obsługi zadłużenia – będą ograniczać negatywne gospodarcze skutki pandemii. Większość członków Rady oceniła, że złagodzenie polityki pieniężnej na świecie będzie oddziaływać w kierunku poprawy sytuacji  finansowej  oraz nastrojów podmiotów gospodarczych. Zwracano także uwagę, że będzie ono oddziaływać w  kierunku niższych rentowności obligacji skarbowych, co zwiększy przestrzeń fiskalną niezbędną  do  sfinansowania  działań  związanych  z  epidemią  oraz  pakietami stymulacyjnymi. Niektórzy  członkowie  Rady  byli  zdania,  że skuteczność części działań    2/4  444444444444444444444444444444444444444444444banków centralnych we wspieraniu koniunktury gospodarczej będzie w krótkim okresie ograniczona ze względu na podażowy charakter obecnych wstrząsów .  W Polsce koniunktura w pierwszych miesiącach bieżącego roku była relatywnie dobra, choć dane wskazywały na stopniowe obniżanie się tempa wzrostu gospodarczego. Jednak rozprzestrzenianie  się koronawirusa  przyczyniło się  do  pogorszenia  nastrojów gospodarczych, a wprowadzane restrykcje dotyczące działalności części sektorów, w tym sektora usług, przyczynią się do ograniczenia aktywności gospodarczej. Członkowie Rady zwracali uwagę, że epidemia koronawirusa będzie oddziaływała w kierunku ograniczenia popytu i podaży wielu usług, a także – poprzez obniżenie dochodów – zmniejszy popyt na znaczną część towarów niebędących dobrami  pierwszej potrzeby. Jednocześnie w kierunku niższej aktywności gospodarczej  będzie oddziaływało obniżenie się popytu zagranicznego. Członkowie Rady zwracali również uwagę na podażowe konsekwencje  rozprzestrzeniania się koronawirusa, w tym na przerwanie części łańcuchów dostaw oraz zmniejszenie liczby pracowników ze względu na konieczność  pozostania w domach.   Członkowie  Rady  zwracali także uwagę na wysoką niepewność  dotyczącą  dalszego kształtowania się koniunktury w Polsce. Podkreślano, że obecne prognozy sugerują silne obniżenie dynamiki  PKB w  krótkim  okresie.  Oceniano,  że w  średnim  okresie  można oczekiwać poprawy koniunktury,  jednak dynamika aktywności gospodarczej zależeć będzie przede wszystkim od skali, zasięgu i czasu t rwania pandemii.  Według danych GUS inflacja  w  lutym 2020  r. wyniosła 4,7% r/r. Wskazywano, że w kolejnych  miesiącach  inflacja  najprawdopodobniej  wyraźnie  się  obniży. Sprzyjać  temu będzie oczekiwany spadek cen wielu usług, które pozostają najbardziej naraż one na spadek popytu w obecnych warunkach gospodarczych. Jednocześnie można oczekiwać obniżenia się  dynamiki cen  dóbr  trwałych. W  efekcie również inflacja  bazowa istotnie spadnie. Podkreślano, że silne obniżenie się cen surowców na rynkach światowych, w tym ropy naftowej,  będzie dodatkowym  istotnym  czynnikiem przyczyniającym  się do spadku dynamiki  cen w  kolejnych  kwartałach. Biorąc to  pod  uwagę większość  członków  Rady oceniała, że w ostatnim okresie wzrosło prawdopodobieństwo szybszego niż o czekiwano w marcowej projekcji obniżenia się inflacji w bieżącym roku oraz kształtowania się inflacji poniżej celu inflacyjnego NBP w horyzoncie oddziaływania polityki pieniężnej.   Niektórzy członkowie Rady wskazywali, że obecne wstrząsy makroekonomiczne mają także charakter podażowy, co może hamować obniżanie się inflacji, chociaż mogą wzmóc presję na wzrost cen dóbr pierwszej potrzeby.  Większość członków Rady oceniała, że  na obecnym posiedzeniu  stopy procentowe NBP powinny zostać obniżone. Członkowie ci byli zdania, że obniżka stóp procentowych NBP przyczyni  się  do  obniżenia  rat kredytów  zaciągniętych  w  oparciu  o  zmienną  stopę procentową przez przedsiębiorstwa i gospodarstwa domowe. Obniżenie kosztów obsługi zadłużenia będzie więc łagodzić  straty przedsiębiorstw oraz  gospodarstw  domowych związane z przestojami produkcyjnymi, niższymi dochodami oraz niższym popytem na produkowane towary i usługi. Jednocześnie niższe raty kredytowe będą ograniczać koszty dla zadłużonych gospodarstw  domowych,  w  tym dla  osób samozatrudnionych  bądź pracujących w ramach umów cywilnoprawnych, którzy są w dużym stopniu narażeni na    3/4  444444444444444444444444444444444444444444444ryzyko  utraty  dochodów. W  efekcie  złagodzenie  polityki  pieniężnej  będzie także oddziaływać w kierunku  ograniczenia ryzyka nie wypłacalności podmiotów gospodarczych . Członkowie ci wskazywali, że choć banki zapowiadają możliwość czasowego zawieszenia spłat kredytu, to działanie to – choć samo w sobie byłoby pożądane – będzie się wiązać jedynie z  przesunięciem zobowiązań  kredytowych w  czasie. Większość członków  Rady podkreślała  również,  że  obniżka  stóp  procentowych będzie  oddziaływać  w  kierunku obniżenia  rentowności  obligacji skarbowych  i kosztów  obsługi  długu  publicznego,  co zwiększy przestrzeń dla niezbędnej stymulacji fiskalnej .  Niektórzy członkowie Rady oceniali, że o ile na obecnym posiedzeniu należy obniżyć stopy  procentowe, jednak skala obniżki stóp procentowych NBP powinna być niewielka. Członkowie  ci  byli  zdania,  że  skuteczniejszym  instrumentem  w  przeciwdziałaniu negatywnym  skutkom  gospodarczym epidemii  koronawirusa  mogą  być  obecnie niestandardowe instrumenty  polityki  pieniężnej. Pojawiła  się  opinia,  że  możliwość stosowania przez NBP tego rodzaju działań może  być ograniczona nadmierną obniżką stóp procentowych. Niektórzy członkowie Rady oceniali,  że  stopy  procentowe  NBP  powinny  pozostać niezmienione na  obecnym  posiedzeniu.  Argumentowali  oni, że w  obecnych  warunkach obniżenie stóp procentowych NBP będzie miało ograniczony wpływ na realną gospodarkę, bowiem źródła wstrząsu gospodarczego  są egzogeniczne, a barierą dla akcji kredytowej jest obecnie niski popyt na kredyt i wysoka  niepewność w gospodarce .  Członkowie  Rady ocenili,  że dla  ograniczenia wpływu zaburzeń  płynnościowych związanych z pandemią wskazane jest także zwiększenie płynności przez NBP w sektorze bankowym. Dlatego też należy  obniżyć stopę rezerwy obowiązkowej  (wraz z podniesieni em oprocentowania tej rezerwy do poziomu stopy referencyjnej) oraz prowadzić operacje repo zasilające sektor bankowy w płynność.  Podkreślano także, że w obliczu istotnego obniżenia płynności  rynku  skarbowych  papierów  wartościowych należy rozpocząć prowadzenie operacji skupu obligacji skarbowych na rynku wtórnym w ramach strukturalnych operacji otwartego rynku. Celem tych operacji będzie zmiana długoterminowej struktury płynności w sektorze bankowym oraz utrzymanie płynności rynku wtórnego obligacji skarbowych. Podkreślano także,  że  skup obligacji  skarbowych  na  rynku  wtórnym wzmocni oddziaływanie obniżenia stóp procentowych NBP na gospodarkę, tj. wzmocni mechanizm transmisji monetarnej . Członkowie Rady ocenili, że w celu ograniczenia ryzyka wpływu aktualnych zaburzeń gospodarczych na podaż kredytu uzasadnione jest  także uruchomienie kredytu wekslowego przez NBP, który będzie umożliwiał bankom refinansowanie akcji kredytowej dla firm, w tym małych i średnich.  Wskazywano przy tym, że głównym narzędziem wspierającym akcję kredytową dla  małych  i  średnich  przedsiębiorstw w  obecnych  warunkach,  tj.  istotnego wzrostu niepewności i podwyższonego ryzyka kredytowego, powinno być jednak przede wszystkim rozszerzenie programu państwowych gwarancji  kredytowych prowadzanego przez Bank Gospodarstwa Krajowego .  Większość  członków  Rady  oceniła, że dla ograniczenia negatywnych konsekwencji gospodarczych rozprzestrzeniania się koronawirusa  należy poluzować warunki monetarne.    4/4  444444444444444444444444444444444444444444444Będzie to sprzyjać ożywieniu krajowej aktywności gospodarczej po okresie zaburzeń oraz ograniczy ryzyko kształtowania się  inflacji poniżej celu inflacyjnego NBP w średnim okresie . Na posiedzeniu zgłoszono wniosek o obniżenie stopy referencyjnej NBP o 0,5 pkt proc., zawężenie symetrycznego korytarza stóp operacji depozytowo-kredytowych do łącznie 1,0 pkt  proc. wokół  stopy  referencyjnej,  obniżenie  stopy  redyskonta  weksli  do  1,05% oraz wprowadzenie stopy dyskonta weksli na poziomie 1,1% . Wniosek został przyjęty.   Na posiedzeniu zgłoszono wniosek o obniżenie stopy rezerwy obowiązkowej z 3,5% do 0,5%, a także wniosek o podwyższenie oprocentowania rezerwy obowiązkowej z 0,5% do poziomu stopy referencyjnej NBP. Oba wnioski zostały przyjęte.  Na posiedzeniu zgłoszono również wniosek o obniżenie stopy rezerwy obowiązkowej z 3,5% do 0,25%. Wniosek nie został przyjęty. Rada  ustaliła  stopy  procentowe  NBP  na  następującym  poziomie: stopa  referencyjna 1,00%;  stopa  lombardowa  1,50%;  stopa  depozytowa  0,50%;  stopa  redyskontowa weksli 1,05%; stopa dyskontowa weksli 1,10%.      Data publikacji: 9 kwietnia 2020 r. '"
      ]
     },
     "execution_count": 19,
     "metadata": {},
     "output_type": "execute_result"
    }
   ],
   "source": [
    "minutes[0]"
   ]
  },
  {
   "cell_type": "markdown",
   "id": "f298d8f7",
   "metadata": {},
   "source": [
    "2) Oczyść dane, usuń stopwords (w tym też takie specyficzne dla tego korpusu) i wykonaj lematyzację,"
   ]
  },
  {
   "cell_type": "code",
   "execution_count": 34,
   "id": "53de86df",
   "metadata": {},
   "outputs": [],
   "source": [
    "stop_words = pd.read_csv('stopwords_pl.txt', encoding='utf8', header=None)[0].to_list()\n",
    "\n",
    "# minutes = minutesCopy.copy()\n",
    "\n",
    "# Tokenizacja po białych znakach (spacjach, enterach, etc.)\n",
    "for i, doc in enumerate(minutes):\n",
    "    # usuwanie podwójnych spacji oraz przede wszystkim '\\s '\n",
    "    doc = re.sub(r'\\s+', ' ', doc)\n",
    "    # Zamiana liter na małe\n",
    "    doc = doc.lower()\n",
    "    # Usuwanie liczb (opcjonalne)\n",
    "    doc = re.sub(r'\\d+', '', doc)\n",
    "    # Dzielenie tekstu na słowa (tokeny)\n",
    "    minutes[i] =  doc.split()\n",
    "    # Usuwanie stopwords\n",
    "    minutes[i] = [word for word in minutes[i] if word not in stop_words and word != '']\n",
    "    # Usuwanie znaków interpunkcyjnych (trzeba się zastanowic, szczegolnie po angielsku)\n",
    "    table = str.maketrans('', '', string.punctuation)\n",
    "    minutes[i] = [w.translate(table) for w in minutes[i]]\n",
    "    \n",
    "# https://machinelearningmastery.com/clean-text-machine-learning-python/\n",
    "# https://stackabuse.com/python-for-nlp-tokenization-stemming-and-lemmatization-with-spacy-library/bb\n",
    "\n",
    "from nltk.probability import FreqDist\n",
    "\n",
    "# Znajdźmy najpopularniejsze słowa przed tokenizacją\n",
    "fdist = FreqDist(sum(minutes, []))\n",
    "fdist.plot(30,cumulative=False)\n",
    "plt.show()\n",
    "\n",
    "for i, minute in enumerate(minutes):\n",
    "    doc = sp(' '.join(minute))\n",
    "    minutes[i] = [token.lemma_ for token in doc]\n",
    "\n",
    "# Znajdźmy najpopularniejsze słowa po tokenizacji (w poszukiwaniu nowych stopwords)\n",
    "fdist = FreqDist(sum(minutes, []))\n",
    "fdist.plot(30,cumulative=False)\n",
    "plt.show()\n",
    "\n",
    "# Usuńmy stopwords\n",
    "for i, doc in enumerate(minutes):\n",
    "    minutes[i] = [word for word in minutes[i] if word not in ['rada', 'stopa', 'członek', '–', 'nbp', '', ' ']]\n",
    "\n",
    "# Znajdźmy najpopularniejsze słowa po usunięciu stopwords\n",
    "fdist = FreqDist(sum(minutes, []))\n",
    "fdist.plot(30,cumulative=False)\n",
    "plt.show()"
   ]
  },
  {
   "cell_type": "markdown",
   "id": "fc725f63",
   "metadata": {},
   "source": [
    "3) policz macierz DTM dla wag TF-IDF"
   ]
  },
  {
   "cell_type": "code",
   "execution_count": null,
   "id": "ddffcfc7",
   "metadata": {},
   "outputs": [],
   "source": []
  },
  {
   "cell_type": "markdown",
   "id": "b8a207d2",
   "metadata": {},
   "source": [
    "4) Wykonaj feature engineering dla korpusu - dodatkowo policz datę dla każdego dokumentu (można to wyciągnąć z nazwy) i zapisz jako osobną kolumnę w formie TF-IDF."
   ]
  },
  {
   "cell_type": "code",
   "execution_count": null,
   "id": "6bb3954a",
   "metadata": {},
   "outputs": [],
   "source": []
  },
  {
   "cell_type": "markdown",
   "id": "576bb532",
   "metadata": {},
   "source": [
    "5) dla danych licznościowych (ang. *count*) policz dla kilku najważniejszych słów (\"popyt\", \"wzrost\", \"inflacja\", \"polska\", \"płace\", \"niepewnosć\") zaprezentuj na wykresie zmiany w częstościach w czasie. "
   ]
  },
  {
   "cell_type": "code",
   "execution_count": null,
   "id": "d9576d38",
   "metadata": {},
   "outputs": [],
   "source": []
  },
  {
   "cell_type": "markdown",
   "id": "aaefafe9",
   "metadata": {},
   "source": [
    "# Zadanie 2.\n",
    "\n",
    "Wczytaj recenzje filmów znajdujące się w folderze `Movie reviews` i uporządkuj je do postaci DTM z wagami TF. Następnie wyeksportuj plik do formatu binarnego (pickle). "
   ]
  },
  {
   "cell_type": "code",
   "execution_count": null,
   "id": "87c05835",
   "metadata": {},
   "outputs": [],
   "source": []
  }
 ],
 "metadata": {
  "kernelspec": {
   "display_name": "Python 3 (ipykernel)",
   "language": "python",
   "name": "python3"
  },
  "language_info": {
   "codemirror_mode": {
    "name": "ipython",
    "version": 3
   },
   "file_extension": ".py",
   "mimetype": "text/x-python",
   "name": "python",
   "nbconvert_exporter": "python",
   "pygments_lexer": "ipython3",
   "version": "3.10.9"
  }
 },
 "nbformat": 4,
 "nbformat_minor": 5
}
