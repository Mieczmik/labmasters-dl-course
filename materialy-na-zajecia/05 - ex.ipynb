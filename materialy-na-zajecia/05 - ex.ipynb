{
 "cells": [
  {
   "cell_type": "markdown",
   "metadata": {},
   "source": [
    "![alt text](img/LM.png)\n",
    "# Kurs: Deep Learning, Text Mining i XAI w Pythonie\n",
    "\n",
    "## Autor: Piotr Ćwiakowski\n",
    "\n",
    "### Lekcja 5. Wyrażenia regularne - ćwiczenia"
   ]
  },
  {
   "cell_type": "markdown",
   "metadata": {},
   "source": [
    "## Ćwiczenie 1.\n",
    "\n",
    "Korzystając z wyrażeń regularnych wykonaj następujące polecenia dla zadanego tekstu."
   ]
  },
  {
   "cell_type": "code",
   "execution_count": 3,
   "metadata": {},
   "outputs": [],
   "source": [
    "text = '''Litwo! Ojczyzno moja! Ty jesteś jak zdrowie,\n",
    "Ile cię trzeba cenić, ten tylko się dowie,\n",
    "Kto cię stracił. Dziś piękność twą w całej ozdobie\n",
    "Widzę i opisuję, bo tęsknię po tobie\n",
    "Panno święta, co Jasnej bronisz Częstochowy\n",
    "I w Ostrej świecisz Bramie! Ty, co gród zamkowy\n",
    "Nowogródzki ochraniasz z jego wiernym ludem!\n",
    "Jak mnie dziecko do zdrowia powróciłaś cudem,\n",
    "Gdy od płaczącej matki pod Twoją opiekę\n",
    "Ofiarowany, martwą podniosłem powiekę\n",
    "I zaraz mogłem pieszo do Twych świątyń progu\n",
    "Iść za wrócone życie podziękować Bogu),\n",
    "Tak nas powrócisz cudem na Ojczyzny łono.\n",
    "Tymczasem przenoś moją duszę utęsknioną\n",
    "Do tych pagórków leśnych, do tych łąk zielonych,\n",
    "Szeroko nad błękitnym Niemnem rozciągnionych;\n",
    "Do tych pól malowanych zbożem rozmaitem,\n",
    "Wyzłacanych pszenicą, posrebrzanych żytem;\n",
    "Gdzie bursztynowy świerzop, gryka jak śnieg biała,\n",
    "Gdzie panieńskim rumieńcem dzięcielina pała,\n",
    "A wszystko przepasane jakby wstęgą, miedzą\n",
    "Zieloną, na niej z rzadka ciche grusze siedzą.\n",
    "'''"
   ]
  },
  {
   "cell_type": "code",
   "execution_count": 4,
   "metadata": {},
   "outputs": [],
   "source": [
    "import re"
   ]
  },
  {
   "cell_type": "markdown",
   "metadata": {},
   "source": [
    "* Policz (korzystając z find all) ile razy występuje w inwokacji Pana Tadeusza:\n",
    "    * \"ci\"\n",
    "    * \"ych\""
   ]
  },
  {
   "cell_type": "code",
   "execution_count": null,
   "metadata": {},
   "outputs": [],
   "source": []
  },
  {
   "cell_type": "markdown",
   "metadata": {},
   "source": [
    "* Policz ile wyrazów jest w poniższym tekście, zapisz wszystkie wyrazy do listy."
   ]
  },
  {
   "cell_type": "code",
   "execution_count": null,
   "metadata": {},
   "outputs": [],
   "source": []
  },
  {
   "cell_type": "markdown",
   "metadata": {},
   "source": [
    "* Policz jaka jest średnia liczba wyrazów na linijkę."
   ]
  },
  {
   "cell_type": "code",
   "execution_count": null,
   "metadata": {},
   "outputs": [],
   "source": []
  },
  {
   "cell_type": "markdown",
   "metadata": {},
   "source": [
    "* Wyświetl wszystkie wyrazy, które są dłuższe niż 5 liter."
   ]
  },
  {
   "cell_type": "code",
   "execution_count": null,
   "metadata": {},
   "outputs": [],
   "source": []
  },
  {
   "cell_type": "markdown",
   "metadata": {},
   "source": [
    "* Wyświetl wszystkie wyrazy, które zaczynają się na literę \"p\" są dłuższe niż 4 znakowe i krótsze niż 8 znakowe."
   ]
  },
  {
   "cell_type": "code",
   "execution_count": null,
   "metadata": {},
   "outputs": [],
   "source": []
  },
  {
   "cell_type": "markdown",
   "metadata": {},
   "source": [
    "* Znajdź wszystkie wyrazy po których wstawiony został wykrzyknik."
   ]
  },
  {
   "cell_type": "code",
   "execution_count": null,
   "metadata": {},
   "outputs": [],
   "source": []
  },
  {
   "cell_type": "markdown",
   "metadata": {},
   "source": [
    "* Znajdź wszystkie wyrazy po których wstawiony został jakikolwiek znak (przecinek, kropka, średnik, wykrzyknik, etc)."
   ]
  },
  {
   "cell_type": "code",
   "execution_count": null,
   "metadata": {},
   "outputs": [],
   "source": []
  },
  {
   "cell_type": "markdown",
   "metadata": {},
   "source": [
    "* Znajdź wszystkie słowa, które mają co najmniej 4 litery, gdzie pierwsze dwie litery są w alfabecie od a do m, a kolejne dwie od n do z (jeżeli jest więcej liter to mogą być dowolne)."
   ]
  },
  {
   "cell_type": "code",
   "execution_count": null,
   "metadata": {},
   "outputs": [],
   "source": []
  },
  {
   "cell_type": "markdown",
   "metadata": {},
   "source": [
    "* Zastanów się jak powyższe polecenia powinny się zmienić jeżeli chcesz /nie chcesz aby wynik był zależny od wielkości liter."
   ]
  },
  {
   "cell_type": "code",
   "execution_count": null,
   "metadata": {},
   "outputs": [],
   "source": []
  },
  {
   "cell_type": "markdown",
   "metadata": {},
   "source": [
    "## Ćwiczenie 2.\n",
    "\n",
    "Pracując linia po linii, dla każdej linii:\n",
    "* Znajdź wszystkie linie, gdzie po pierwszym lub ostatnim wyrazie w linii wstawiono wykrzyknik.\n",
    "* Znajdź wszystkie linie, gdzie w ostatnim wyrazie w linii wstawiony został jakikolwiek znak (przecinek, kropka, średnik, wykrzyknik, etc).\n",
    "* Korzystając z look ahead i behind znajdź wszystkie fragmenty tekstu, które są pomiędzy literami (gd) a (ci) nie zwracając uwagi na wielkość liter."
   ]
  },
  {
   "cell_type": "code",
   "execution_count": 65,
   "metadata": {},
   "outputs": [
    {
     "name": "stdout",
     "output_type": "stream",
     "text": [
      "Litwo! Ojczyzno moja! Ty jesteś jak zdrowie,\n",
      "Nowogródzki ochraniasz z jego wiernym ludem!\n"
     ]
    }
   ],
   "source": [
    "for linia in text.splitlines():\n",
    "    if len(re.findall('(^\\\\b\\w+!)|(\\\\b\\w+!$)', linia))>0:\n",
    "        print(linia)"
   ]
  },
  {
   "cell_type": "code",
   "execution_count": 67,
   "metadata": {},
   "outputs": [
    {
     "name": "stdout",
     "output_type": "stream",
     "text": [
      "Litwo! Ojczyzno moja! Ty jesteś jak zdrowie,\n",
      "Ile cię trzeba cenić, ten tylko się dowie,\n",
      "Nowogródzki ochraniasz z jego wiernym ludem!\n",
      "Jak mnie dziecko do zdrowia powróciłaś cudem,\n",
      "Iść za wrócone życie podziękować Bogu),\n",
      "Tak nas powrócisz cudem na Ojczyzny łono.\n",
      "Do tych pagórków leśnych, do tych łąk zielonych,\n",
      "Szeroko nad błękitnym Niemnem rozciągnionych;\n",
      "Do tych pól malowanych zbożem rozmaitem,\n",
      "Wyzłacanych pszenicą, posrebrzanych żytem;\n",
      "Gdzie bursztynowy świerzop, gryka jak śnieg biała,\n",
      "Gdzie panieńskim rumieńcem dzięcielina pała,\n",
      "Zieloną, na niej z rzadka ciche grusze siedzą.\n"
     ]
    }
   ],
   "source": [
    "for linia in text.splitlines():\n",
    "    if len(re.findall('[^\\w\\s]$', linia))>0:\n",
    "        print(linia)"
   ]
  },
  {
   "cell_type": "code",
   "execution_count": 72,
   "metadata": {},
   "outputs": [
    {
     "data": {
      "text/plain": [
       "['zie panieńskim rumieńcem dzię']"
      ]
     },
     "execution_count": 72,
     "metadata": {},
     "output_type": "execute_result"
    }
   ],
   "source": [
    "re.findall('(?<=gd).*(?=ci)', text.lower())"
   ]
  },
  {
   "cell_type": "markdown",
   "metadata": {},
   "source": [
    "## Ćwiczenie 3.\n",
    "\n",
    "Wykorzystując grupowanie znaków, zamień wektor: `['Sklep 1', 'Sklep 32', 'Sklepy 117', 'Sklepowo 18791', 'Sklep 002', 'Sklepik 16', 'Sklepowy 1165']` na `[\"1 Sklep\", \"32 Sklep\", \"117 Sklepy\", \"18791 Sklepowo\", \"002 Sklep\", \"16 Sklepik\", \"1165 Sklepowy\"]`"
   ]
  },
  {
   "cell_type": "code",
   "execution_count": null,
   "metadata": {},
   "outputs": [],
   "source": []
  },
  {
   "cell_type": "markdown",
   "metadata": {},
   "source": [
    "## Ćwiczenie 4.\n",
    "\n",
    "Zbuduj wyrażenie regularne, które znajdzie numery telefonów w poniższym wektorze:"
   ]
  },
  {
   "cell_type": "code",
   "execution_count": 3,
   "metadata": {},
   "outputs": [],
   "source": [
    "numery = (\"785-234-432\", \"555 575 325\", \"Ania\", \"pomarańcza\", \"11\", \"198 234 235\", \n",
    "          \"923-444-565\", \"876-543-212\",\"876.543.212\")"
   ]
  }
 ],
 "metadata": {
  "kernelspec": {
   "display_name": "Python 3 (ipykernel)",
   "language": "python",
   "name": "python3"
  },
  "language_info": {
   "codemirror_mode": {
    "name": "ipython",
    "version": 3
   },
   "file_extension": ".py",
   "mimetype": "text/x-python",
   "name": "python",
   "nbconvert_exporter": "python",
   "pygments_lexer": "ipython3",
   "version": "3.10.9"
  }
 },
 "nbformat": 4,
 "nbformat_minor": 2
}
