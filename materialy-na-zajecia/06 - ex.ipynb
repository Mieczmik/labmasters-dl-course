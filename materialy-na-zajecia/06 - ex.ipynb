{
 "cells": [
  {
   "cell_type": "markdown",
   "id": "61341201",
   "metadata": {},
   "source": [
    "![alt text](img/LM.png)\n",
    "# Kurs: Deep Learning, Text Mining i XAI w Pythonie\n",
    "\n",
    "## Autor: Piotr Ćwiakowski\n",
    "\n",
    "### Lekcja 6. NLP: Uczenie nadzorowane i nienadzorowane"
   ]
  },
  {
   "cell_type": "markdown",
   "id": "7b0dadf9",
   "metadata": {},
   "source": [
    "# Zadanie 1.\n",
    "\n",
    "Przygotuj macierz DTM dla polskiego korpusu zapisów obrad Rady Polityki Pieniężnej znajdujących się w folderze `minutes_nbp_pl`. W tym celu:\n",
    "\n",
    "1) Wczytaj dane pdf do jednej listy,"
   ]
  },
  {
   "cell_type": "code",
   "execution_count": 1,
   "id": "e64c11a6",
   "metadata": {},
   "outputs": [],
   "source": []
  },
  {
   "cell_type": "markdown",
   "id": "f298d8f7",
   "metadata": {},
   "source": [
    "2) Oczyść dane, usuń stopwords (w tym też takie specyficzne dla tego korpusu) i wykonaj lematyzację,"
   ]
  },
  {
   "cell_type": "code",
   "execution_count": null,
   "id": "aec5d6f2",
   "metadata": {},
   "outputs": [],
   "source": []
  },
  {
   "cell_type": "markdown",
   "id": "fc725f63",
   "metadata": {},
   "source": [
    "3) policz macierz DTM dla wag TF-IDF"
   ]
  },
  {
   "cell_type": "code",
   "execution_count": null,
   "id": "ddffcfc7",
   "metadata": {},
   "outputs": [],
   "source": []
  },
  {
   "cell_type": "markdown",
   "id": "b8a207d2",
   "metadata": {},
   "source": [
    "4) Wykonaj feature engineering dla korpusu - dodatkowo policz datę dla każdego dokumentu (można to wyciągnąć z nazwy) i zapisz jako osobną kolumnę w formie TF-IDF."
   ]
  },
  {
   "cell_type": "code",
   "execution_count": null,
   "id": "5441c166",
   "metadata": {},
   "outputs": [],
   "source": []
  },
  {
   "cell_type": "markdown",
   "id": "576bb532",
   "metadata": {},
   "source": [
    "5) dla danych licznościowych (ang. *count*) policz dla kilku najważniejszych słów (\"popyt\", \"wzrost\", \"inflacja\", \"polska\", \"płace\", \"niepewnosć\") zaprezentuj na wykresie zmiany w częstościach w czasie. "
   ]
  },
  {
   "cell_type": "code",
   "execution_count": null,
   "id": "d9576d38",
   "metadata": {},
   "outputs": [],
   "source": []
  },
  {
   "cell_type": "markdown",
   "id": "aaefafe9",
   "metadata": {},
   "source": [
    "# Zadanie 2.\n",
    "\n",
    "Wczytaj recenzje filmów znajdujące się w folderze `Movie reviews` i uporządkuj je do postaci DTM z wagami TF. Następnie wyeksportuj plik do formatu binarnego (pickle). "
   ]
  },
  {
   "cell_type": "code",
   "execution_count": null,
   "id": "87c05835",
   "metadata": {},
   "outputs": [],
   "source": []
  }
 ],
 "metadata": {
  "kernelspec": {
   "display_name": "Python 3 (ipykernel)",
   "language": "python",
   "name": "python3"
  },
  "language_info": {
   "codemirror_mode": {
    "name": "ipython",
    "version": 3
   },
   "file_extension": ".py",
   "mimetype": "text/x-python",
   "name": "python",
   "nbconvert_exporter": "python",
   "pygments_lexer": "ipython3",
   "version": "3.10.9"
  }
 },
 "nbformat": 4,
 "nbformat_minor": 5
}
