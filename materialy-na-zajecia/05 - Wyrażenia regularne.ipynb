{
 "cells": [
  {
   "cell_type": "markdown",
   "metadata": {},
   "source": [
    "![alt text](img/LM.png)\n",
    "# Kurs: Deep Learning, Text Mining i XAI w Pythonie\n",
    "### Prowadzący: Piotr Ćwiakowski\n",
    "### Autorzy: Piotr Ćwiakowski, Maciej Wilamowski\n",
    "\n",
    "## Lekcja 5. Wyrażenia regularne\n",
    "\n",
    "### Spis treści:\n",
    "\n",
    "1. Wprowadzenie  \n",
    "2. Funkcje tekstowe\n",
    "3. Podstawowe kwantyfikatory  \n",
    "4. Szukanie wzoru w specyficznej lokalizacji  \n",
    "5. Nazwy grup  \n",
    "6. Asercje lookarounds\n",
    "7. Kompilacja regex  "
   ]
  },
  {
   "cell_type": "markdown",
   "metadata": {},
   "source": [
    "## 1. Wprowadzenie\n",
    "Wyrażenia regularne to wzorce, które opisują łańcuchy symboli. Istnieje cała teoretyczna dziedzina informatyki zajmująca się językami regularnymi. Z naszego punktu widzenia to zbiór zasad, które pozwalają na definiowanie charakterytycznych struktur tekstu (adres email, numer telefonu, adres IP etc.). Samo wyrażenie regularne to nic innego jak ciąg znaków zbudowanych według pewnych sztywno określonych reguł. Następnie inne teksty/stringi są analizowane, żeby sprawdzić czy w całości lub który ich fragment pasuje do danego wyrażenia regularnego.\n",
    "\n",
    "Wyrażenia regularne to od dawna rozwijaną dziedzina algorytmiki. Dzięki temu implementacje tych rozwiązań są bardzo szybkie i pozwalają na efektywną pracę z tekstem. Przede wszystkim na wyszukiwanie i zamienianie, ale również na strukturalizowanie tekstów (np. przy pracy z logami). Zobaczmy jak praca z wyrażeniami regularnymi wygląda w praktyce. Zacznijmy od najprostszego przykładu w którym znajdziemy wszystkie fragmenty pasujące do danego wyrażenia regularnego. Kiedy wyszukamy całość stringa to oczywiście znajdziemy jedno wystąpienie. Oczywiście możemy również wyszukiwać fragmentów, co pozwoli na ich wylistowanie (do poszukiwania pozycji warto używać funkcji `search`)."
   ]
  },
  {
   "cell_type": "code",
   "execution_count": 1,
   "metadata": {},
   "outputs": [],
   "source": [
    "import re"
   ]
  },
  {
   "cell_type": "code",
   "execution_count": 2,
   "metadata": {
    "scrolled": true
   },
   "outputs": [
    {
     "name": "stdout",
     "output_type": "stream",
     "text": [
      "['abcdeadbce']\n",
      "['abcde']\n",
      "['bc', 'bc']\n"
     ]
    }
   ],
   "source": [
    "text = \"abcdeadbce\"\n",
    "print(re.findall(\"abcdeadbce\", text))\n",
    "print(re.findall(\"abcde\", text))\n",
    "print(re.findall(\"bc\", text))"
   ]
  },
  {
   "cell_type": "markdown",
   "metadata": {},
   "source": [
    "Dla uproszczenia będziemy w przyszłości listę zamieniać z powrotem na string, aby zwiększyć czytelność."
   ]
  },
  {
   "cell_type": "markdown",
   "metadata": {},
   "source": [
    "## 2. Funkcje tekstowe"
   ]
  },
  {
   "cell_type": "markdown",
   "metadata": {},
   "source": [
    "Wyrażenia regularne używamy zwykle w połączeniu z funkcjami tekstowymi. Przypomnijmy najważniejsze z nich i przypomnijmy, że w pythonie funkcje tekstowe to (przeważnie) metody obiektu tekstowego:"
   ]
  },
  {
   "cell_type": "code",
   "execution_count": 3,
   "metadata": {},
   "outputs": [
    {
     "name": "stdout",
     "output_type": "stream",
     "text": [
      "ala ma kota\n",
      "Ala ma kota\n",
      "ALA MA KOTA\n",
      "ala ma kota\n",
      "aLA mA kOTA\n",
      "Ala Ma Kota\n"
     ]
    }
   ],
   "source": [
    "print('Ala ma kOta'.casefold())\n",
    "print('ala ma kota'.capitalize())\n",
    "print('ala ma kota'.upper())\n",
    "print('ala ma kota'.lower())\n",
    "print('Ala Ma Kota'.swapcase())\n",
    "print('ala ma kota'.title())"
   ]
  },
  {
   "cell_type": "code",
   "execution_count": 4,
   "metadata": {},
   "outputs": [
    {
     "name": "stdout",
     "output_type": "stream",
     "text": [
      "    ala ma kota     \n",
      "4\n"
     ]
    }
   ],
   "source": [
    "print('ala ma kota'.center(20))\n",
    "print('ala ma kota'.count('a'))"
   ]
  },
  {
   "cell_type": "code",
   "execution_count": 5,
   "metadata": {},
   "outputs": [
    {
     "name": "stdout",
     "output_type": "stream",
     "text": [
      "True\n",
      "True\n",
      "0\n",
      "0\n"
     ]
    }
   ],
   "source": [
    "print('ala ma kota'.startswith('a'))\n",
    "print('ala ma kota'.endswith('a'))\n",
    "print('ala ma kota'.index('a'))\n",
    "print('ala ma kota'.find('a'))"
   ]
  },
  {
   "cell_type": "code",
   "execution_count": 6,
   "metadata": {},
   "outputs": [],
   "source": [
    "# Wiele metod stringów jest niezwektoryzowanych, trzeba używać pętli:\n",
    "# lok = 0\n",
    "\n",
    "# for i in range('ala ma kota'.count('a')):\n",
    "#     lok = 'ala ma kota'.index('a', lok)\n",
    "#     print(lok, 'ala ma kota'[lok])\n",
    "#     lok += 1"
   ]
  },
  {
   "cell_type": "code",
   "execution_count": 7,
   "metadata": {},
   "outputs": [
    {
     "name": "stdout",
     "output_type": "stream",
     "text": [
      "piotr ma kota\n",
      "10\n",
      "10\n"
     ]
    }
   ],
   "source": [
    "print('ala ma kota'.replace('ala', 'piotr'))\n",
    "print('ala ma kota'.rfind('a'))\n",
    "print('ala ma kota'.rindex('a'))"
   ]
  },
  {
   "cell_type": "code",
   "execution_count": 8,
   "metadata": {},
   "outputs": [
    {
     "name": "stdout",
     "output_type": "stream",
     "text": [
      "For only 49.00 dolars!\n"
     ]
    }
   ],
   "source": [
    "txt = \"For only {price:.2f} dolars!\"\n",
    "print(txt.format(price = 49))"
   ]
  },
  {
   "cell_type": "code",
   "execution_count": 9,
   "metadata": {},
   "outputs": [
    {
     "data": {
      "text/plain": [
       "'For only 67.00 dolars!'"
      ]
     },
     "execution_count": 9,
     "metadata": {},
     "output_type": "execute_result"
    }
   ],
   "source": [
    "price = 67\n",
    "f\"For only {price:.2f} dolars!\""
   ]
  },
  {
   "cell_type": "code",
   "execution_count": 10,
   "metadata": {},
   "outputs": [
    {
     "data": {
      "text/plain": [
       "'For only 67,00 dollars!'"
      ]
     },
     "execution_count": 10,
     "metadata": {},
     "output_type": "execute_result"
    }
   ],
   "source": [
    "# Na marginesie: Najprostszy sposób zamiany kropek na przecinki:\n",
    "f\"For only {price:.2f} dollars!\".replace('.', ',')"
   ]
  },
  {
   "cell_type": "code",
   "execution_count": 11,
   "metadata": {},
   "outputs": [
    {
     "name": "stdout",
     "output_type": "stream",
     "text": [
      "False\n",
      "False\n",
      "False\n",
      "False\n"
     ]
    }
   ],
   "source": [
    "print('ala ma kota'.isalnum())\n",
    "print('ala ma kota'.isalpha())\n",
    "print('56.00'.isdecimal())\n",
    "print('ala ma kota'.isdigit())"
   ]
  },
  {
   "cell_type": "code",
   "execution_count": 12,
   "metadata": {},
   "outputs": [
    {
     "name": "stdout",
     "output_type": "stream",
     "text": [
      "False\n",
      "True\n",
      "True\n",
      "True\n"
     ]
    }
   ],
   "source": [
    "print('ala ma kota'.isidentifier())\n",
    "print('ala ma kota'.islower())\n",
    "print('5645'.isnumeric())\n",
    "print('ala ma kota'.isprintable())"
   ]
  },
  {
   "cell_type": "code",
   "execution_count": 13,
   "metadata": {},
   "outputs": [
    {
     "name": "stdout",
     "output_type": "stream",
     "text": [
      "True\n",
      "False\n",
      "False\n"
     ]
    }
   ],
   "source": [
    "print(' '.isspace())\n",
    "print('Ala ma kota'.istitle())\n",
    "print('ALA Ma KOTA'.isupper())"
   ]
  },
  {
   "cell_type": "code",
   "execution_count": 14,
   "metadata": {},
   "outputs": [
    {
     "name": "stdout",
     "output_type": "stream",
     "text": [
      "ala ma kota_________\n",
      "_________ala ma kota\n",
      "ala ma kota  \n",
      "  ala ma kota\n",
      "ala ma kota\n",
      "ala ma kota\n",
      "0000000050\n"
     ]
    }
   ],
   "source": [
    "print('ala ma kota'.ljust(20, '_'))\n",
    "print('ala ma kota'.rjust(20, '_'))\n",
    "print('   ala ma kota  '.lstrip())\n",
    "print('  ala ma kota  '.rstrip())\n",
    "print('  ala ma kota  '.strip())\n",
    "print('ala ma kota'.zfill(10))\n",
    "print('50'.zfill(10))"
   ]
  },
  {
   "cell_type": "code",
   "execution_count": 15,
   "metadata": {},
   "outputs": [],
   "source": [
    "# Przykład.\n",
    "# Załóżmy trzy kolumny z danymi: rok, miesiąc, dzień:\n",
    "# ROK   MIESIAC DZIEN\n",
    "# 1998   4        2\n",
    "\n",
    "# ROK = 1998\n",
    "# MIESIAC = 11\n",
    "# DZIEN = 12\n",
    "\n",
    "# str(DZIEN) + '-' + str(MIESIAC) + '-' + str(ROK)\n",
    "# '0' + str(DZIEN) + '-' + '0' + str(MIESIAC) + '-' + str(ROK)\n",
    "# str(DZIEN).zfill(2) + '-' + str(MIESIAC).zfill(2) + '-' + str(ROK)"
   ]
  },
  {
   "cell_type": "code",
   "execution_count": 16,
   "metadata": {},
   "outputs": [
    {
     "name": "stdout",
     "output_type": "stream",
     "text": [
      "('Al', 'a', ' ma kota')\n",
      "('Ala ma kot', 'a', '')\n"
     ]
    }
   ],
   "source": [
    "print('Ala ma kota'.partition('a'))\n",
    "print('Ala ma kota'.rpartition('a'))"
   ]
  },
  {
   "cell_type": "code",
   "execution_count": 17,
   "metadata": {},
   "outputs": [
    {
     "name": "stdout",
     "output_type": "stream",
     "text": [
      "['ala', 'ma', 'kota']\n",
      "['ala', 'ma kota']\n",
      "['ala ma', 'kota']\n"
     ]
    }
   ],
   "source": [
    "print('ala ma kota'.split(' '))\n",
    "print('ala ma kota'.split(' ', 1))\n",
    "print('ala ma kota'.rsplit(' ', 1))"
   ]
  },
  {
   "cell_type": "code",
   "execution_count": 18,
   "metadata": {},
   "outputs": [
    {
     "name": "stdout",
     "output_type": "stream",
     "text": [
      "['ala ma kota']\n",
      "['ala', 'ma', 'kota']\n",
      "['ala', 'ma', 'kota']\n",
      "['ala', 'ma', 'kota']\n",
      "['ala', 'ma kota']\n"
     ]
    }
   ],
   "source": [
    "print('ala ma kota'.splitlines())\n",
    "print('ala\\nma\\nkota'.splitlines())\n",
    "print('ala\\rma\\rkota'.splitlines())\n",
    "print('ala\\r\\nma\\r\\nkota'.splitlines())\n",
    "print('''ala\n",
    "ma kota'''.splitlines())"
   ]
  },
  {
   "cell_type": "code",
   "execution_count": 19,
   "metadata": {},
   "outputs": [
    {
     "name": "stdout",
     "output_type": "stream",
     "text": [
      "ala ma kota\n"
     ]
    }
   ],
   "source": [
    "print(' '.join(['ala', 'ma', 'kota']))"
   ]
  },
  {
   "cell_type": "code",
   "execution_count": 20,
   "metadata": {},
   "outputs": [
    {
     "name": "stdout",
     "output_type": "stream",
     "text": [
      "{97: '123', 98: '456', 99: '789'}\n"
     ]
    }
   ],
   "source": [
    "# 97, 98, 99 - kody UNICODE\n",
    "dict = {\"a\": \"123\", \"b\": \"456\", \"c\": \"789\"}\n",
    "string = \"abc\"\n",
    "print(string.maketrans(dict))"
   ]
  },
  {
   "cell_type": "code",
   "execution_count": 21,
   "metadata": {},
   "outputs": [
    {
     "name": "stdout",
     "output_type": "stream",
     "text": [
      "Original string: abcdef\n",
      "Translated string: idef\n"
     ]
    }
   ],
   "source": [
    "# first string\n",
    "firstString = \"abc\"\n",
    "secondString = \"ghi\"\n",
    "thirdString = \"ab\"\n",
    "\n",
    "string = \"abcdef\"\n",
    "print(\"Original string:\", string)\n",
    "\n",
    "translation = string.maketrans(firstString, secondString, thirdString)\n",
    "\n",
    "# translate string\n",
    "print(\"Translated string:\", string.translate(translation))"
   ]
  },
  {
   "cell_type": "markdown",
   "metadata": {},
   "source": [
    "Funkcje tekstowe znajdujące się w module `re` poznamy w toku lekcji."
   ]
  },
  {
   "cell_type": "markdown",
   "metadata": {},
   "source": [
    "## 3. Podstawowe klasy znaków i kwantyfikatory\n",
    "Przyjrzyjmy się teraz temu co powoduje, że wyrażenia regularne pozwalają na znacznie więcej niż zwykły search. Są to kwantyfikatory i klasy znaków - znaki specjalne które będą interpretowane jako fragment wyrażenia regularnego, a nie zwykły tekst. Pierwsza grupa dotyczy \"treści\" znaków:\n",
    "* .  to dowolny znak\n",
    "* \\s to biały znak (spacja, tab, nowa linia)\n",
    "* \\d to dowolna cyfra\n",
    "* \\w to dowolna litera lub cyfra\n",
    "\n",
    "Każde z powyższych zawiera również negację kiedy jest pisane wielką literą ( \\S, \\W, \\D).\n",
    "\n",
    "Druga dotyczy liczby powtórzeń (umieszczamy je po informacji o znaku):\n",
    "* *: przynajmniej zero powtórzeń danego znaku.\n",
    "* +: przynajmniej jedno powtórzenie danego znaku.\n",
    "* ?: Najwyżej jedno powtórzenie\n",
    "* {n}: Dokładnie n powtórzeń\n",
    "* {n,}: Co najmniej n powtórzeń \n",
    "* {n,m}: Pomiędzy n a m powtórzeń\n",
    "* {,m}: Co najwyżej m powtórzeń"
   ]
  },
  {
   "cell_type": "code",
   "execution_count": 22,
   "metadata": {},
   "outputs": [],
   "source": [
    "# Zapis pierwszych trzech kantyfikatorów za pomocą nawiasów klamrowych:\n",
    "# . - {0,}\n",
    "# + - {1,}\n",
    "# ? - {,1}"
   ]
  },
  {
   "cell_type": "code",
   "execution_count": 23,
   "metadata": {},
   "outputs": [
    {
     "name": "stdout",
     "output_type": "stream",
     "text": [
      "['a', 'b', 'c', 'd', 'e', 'a', 'd', 'b', 'c', 'e']\n",
      "abcdeadbce\n"
     ]
    }
   ],
   "source": [
    "text = \"abcdeadbce\"\n",
    "# Poniższy przykład zwróci nam każdy znak w naszym stringu\n",
    "print(re.findall(\".\", text))\n",
    "print(\"\".join(re.findall(\".\", text)))"
   ]
  },
  {
   "cell_type": "code",
   "execution_count": 24,
   "metadata": {},
   "outputs": [
    {
     "name": "stdout",
     "output_type": "stream",
     "text": [
      "The quick brown fox jumps over the lazy dogaaabcdeadbce ściółka żądli9872-23-3234-343-3234ala_ma_kota+a\n",
      "The quick brown fox jumps over the lazy dog\n",
      "aaabcdeadbce ściółka żądli\n",
      "9872-23-3234-343-3234\n",
      "ala_ma_kota+a\n"
     ]
    }
   ],
   "source": [
    "# Co możemy zobaczyć również na trudniejszym przykładzie\n",
    "text = '''The quick brown fox jumps over the lazy dog\n",
    "aaabcdeadbce ściółka żądli\n",
    "9872-23-3234-343-3234\n",
    "ala_ma_kota+a'''\n",
    "print(\"\".join(re.findall(\".\", text)))\n",
    "print(text)"
   ]
  },
  {
   "cell_type": "markdown",
   "metadata": {},
   "source": [
    "Jak widać \"zniknęły\" nam znaki nowej linii. O znakach nowej linii warto pamiętać, że mogą być różnie traktowane w zależności od konfiguracji wyrażeń regularnych. Czasami wyszukiwanie będzie następować po liniach. Zobaczmy teraz jak na naszym dłuższym przykładzie zachowa się każdy z iteratorów."
   ]
  },
  {
   "cell_type": "code",
   "execution_count": 25,
   "metadata": {},
   "outputs": [
    {
     "data": {
      "text/plain": [
       "[' ', ' ', ' ', ' ', ' ', ' ', ' ', ' ', '\\n', ' ', ' ', '\\n', '\\n']"
      ]
     },
     "execution_count": 25,
     "metadata": {},
     "output_type": "execute_result"
    }
   ],
   "source": [
    "re.findall(\"\\s\", text)"
   ]
  },
  {
   "cell_type": "code",
   "execution_count": 26,
   "metadata": {},
   "outputs": [
    {
     "name": "stdout",
     "output_type": "stream",
     "text": [
      "Liczba białych znaków 13\n",
      "Cyfry: 98722332343433234\n",
      "Litery lub cyfry: Thequickbrownfoxjumpsoverthelazydogaaabcdeadbceściółkażądli98722332343433234ala_ma_kotaa\n"
     ]
    }
   ],
   "source": [
    "print(\"Liczba białych znaków\", len(re.findall(\"\\s\", text)))\n",
    "print(\"Cyfry:\", \"\".join(re.findall(\"\\d\", text)))\n",
    "print(\"Litery lub cyfry:\", \"\".join(re.findall(\"\\w\", text)))"
   ]
  },
  {
   "cell_type": "markdown",
   "metadata": {},
   "source": [
    "W powyższym przykładzie zwróćmy uwagę na to, że podkreślenie jest traktowane jak znak słowny (\\w). Zobaczmy też jak zachowają się przeciwieństwa."
   ]
  },
  {
   "cell_type": "code",
   "execution_count": 27,
   "metadata": {
    "scrolled": true
   },
   "outputs": [
    {
     "name": "stdout",
     "output_type": "stream",
     "text": [
      "Liczba NIE białych znaków 93\n",
      "NIE Cyfry: The quick brown fox jumps over the lazy dog\n",
      "aaabcdeadbce ściółka żądli\n",
      "----\n",
      "ala_ma_kota+a\n",
      "NIE litery lub NIE cyfry:         \n",
      "  \n",
      "----\n",
      "+\n"
     ]
    }
   ],
   "source": [
    "print(\"Liczba NIE białych znaków\", len(re.findall(\"\\S\", text)))\n",
    "print(\"NIE Cyfry:\", \"\".join(re.findall(\"\\D\", text)))\n",
    "print(\"NIE litery lub NIE cyfry:\", \"\".join(re.findall(\"\\W\", text)))"
   ]
  },
  {
   "cell_type": "markdown",
   "metadata": {},
   "source": [
    "Sprawdźmy jak możemy teraz wykorzystać operatory ilościowe w połączeniu z powyższymi przykładami."
   ]
  },
  {
   "cell_type": "code",
   "execution_count": 28,
   "metadata": {},
   "outputs": [
    {
     "name": "stdout",
     "output_type": "stream",
     "text": [
      "Podwójne 'a':\n",
      " ['aa']\n",
      "Pojedyncze lub podwójne 'a':\n",
      " ['a', 'aa', 'a', 'a', 'a', 'a', 'a', 'a', 'a', 'a']\n",
      "Przynajmniej jedno 'a':\n",
      " ['a', 'aaa', 'a', 'a', 'a', 'a', 'a', 'a', 'a']\n",
      "Podwójne 'a' po którym następuje 'b':\n",
      " ['aab']\n",
      "Przynajmniej jedno 'a' i coś:\n",
      " ['az', 'aa', 'ab', 'ad', 'a ', 'al', 'a_', 'a_', 'a+', 'a']\n"
     ]
    }
   ],
   "source": [
    "print(\"Podwójne 'a':\\n\",\n",
    "      re.findall(\"a{2}\", text))\n",
    "print(\"Pojedyncze lub podwójne 'a':\\n\",\n",
    "      re.findall(\"a{1,2}\", text))\n",
    "print(\"Przynajmniej jedno 'a':\\n\",\n",
    "      re.findall(\"a+\", text))\n",
    "# Warto porównać wyniki dwóch powyższych wyszukiwań\n",
    "print(\"Podwójne 'a' po którym następuje 'b':\\n\",\n",
    "      re.findall(\"a{2}b\", text))\n",
    "print(\"Przynajmniej jedno 'a' i coś:\\n\",\n",
    "      re.findall(\"a.?\", text))"
   ]
  },
  {
   "cell_type": "markdown",
   "metadata": {},
   "source": [
    "Kwantyfikatory dzielą się leniwe i chciwe. Chciwe biorą maksymalny możliwy podciąg, leniwe minimalny. Zobaczmy różnicę:"
   ]
  },
  {
   "cell_type": "code",
   "execution_count": 29,
   "metadata": {},
   "outputs": [
    {
     "name": "stdout",
     "output_type": "stream",
     "text": [
      "Działanie kwantyfikatora chciwego:\n",
      " ['aababcdeadb']\n",
      "Działanie kwantyfikatora leniwego:\n",
      " ['aab', 'ab', 'adb']\n"
     ]
    }
   ],
   "source": [
    "text = 'aababcdeadbce ściółka żądli'\n",
    "\n",
    "print(\"Działanie kwantyfikatora chciwego:\\n\",\n",
    "      re.findall(\"a.*b\", text))\n",
    "print(\"Działanie kwantyfikatora leniwego:\\n\",\n",
    "      re.findall(\"a.*?b\", text))"
   ]
  },
  {
   "cell_type": "markdown",
   "metadata": {},
   "source": [
    "Kwantyfikatory leniwe:\n",
    "\n",
    "* ??: 0 lub 1, preferowane 0.  \n",
    "* +?: 1 lub więcej, preferowane mniej  \n",
    "* *?: 0 lub więcej, preferowane mniej  \n",
    "* {n,}?: n lub więcej, preferowane mniej  \n",
    "* {n,m}?: pomiędzy n i m, preferowane mniej  \n",
    "* {,m}?: najwyżej m, preferowane mniej  \n",
    "\n",
    "Przeanalizujmy przykłady:"
   ]
  },
  {
   "cell_type": "code",
   "execution_count": 30,
   "metadata": {},
   "outputs": [
    {
     "name": "stdout",
     "output_type": "stream",
     "text": [
      "['CC', 'C']\n",
      "['C', 'C', 'C']\n",
      "['CCCL']\n",
      "['CCC']\n",
      "['CCC']\n",
      "['CC']\n",
      "['CLXXX']\n",
      "['CL']\n"
     ]
    }
   ],
   "source": [
    "x = \"1888 is the longest year in Roman numerals: MDCCCLXXXVIII\"\n",
    "print(re.findall(\"CC?\", x)) # C i C co najmniej raz\n",
    "print(re.findall(\"CC??\", x)) # C i C maksymalnie raz, ale wolimy zero\n",
    "print(re.findall(\"C{2,3}.?\", x))\n",
    "print(re.findall(\"C{2,3}?.?\", x))\n",
    "print(re.findall(\"C{2,}\", x))\n",
    "print(re.findall(\"C{2,}?\", x))\n",
    "print(re.findall(\"C[LX]+\", x))\n",
    "print(re.findall(\"C[LX]+?\",x))"
   ]
  },
  {
   "cell_type": "markdown",
   "metadata": {},
   "source": [
    "Możliwe jest również definiowanie klasy znaków, gdzie pomagają dwa symbole specjalne: \n",
    "* \\- w nawiasie kwadratowym oznacza wybranie przedziału znaków zgodnie z porządkiem ASCII: http://www.asciitable.com/ \n",
    "* ^ w nawiasie kwadratowym oznacza negację (wybierz wszystko oprócz)"
   ]
  },
  {
   "cell_type": "code",
   "execution_count": 31,
   "metadata": {},
   "outputs": [
    {
     "name": "stdout",
     "output_type": "stream",
     "text": [
      "['A', 'l', 'a']\n",
      "['A', '[', 'l', 'a']\n",
      "[]\n",
      "['[']\n",
      "['1', 'd', '-']\n"
     ]
    }
   ],
   "source": [
    "print(re.findall('[A-Za-z]', 'A[la'))\n",
    "print(re.findall('[A-z]', 'A[la'))\n",
    "print(re.findall('[^A-z]', 'A[la'))\n",
    "print(re.findall('[^A-Za-z]', 'A[la'))\n",
    "print(re.findall('[5-91d-f\\\\-]', 'A12gd-'))"
   ]
  },
  {
   "cell_type": "markdown",
   "metadata": {},
   "source": [
    "Dodatkowo możemy korzystać ze znaku `|` (alternatywa), który pozwala na znalezienie jednego z kilku wzorców:"
   ]
  },
  {
   "cell_type": "code",
   "execution_count": 32,
   "metadata": {},
   "outputs": [],
   "source": [
    "text = '''The quick brown fox jumps over the lazy dog\n",
    "aaabcdeadbce ściółka żądli\n",
    "9872-23-3234-343-3234\n",
    "ala_ma_kota+a'''"
   ]
  },
  {
   "cell_type": "code",
   "execution_count": 33,
   "metadata": {},
   "outputs": [
    {
     "name": "stdout",
     "output_type": "stream",
     "text": [
      "Ciągi dwuliterowe zawierające jakieś litery od b do e:\n",
      " ['bc', 'de', 'db', 'ce']\n",
      "Ciągi dwuliterowe zawierające jakieś litery od b do e lub trzyliterowe od a do e:\n",
      " ['aaa', 'bc', 'de', 'adb', 'ce']\n",
      "Ciągi dwuliterowe zawierające jakieś litery od b do e lub trzyliterowe od a do e lub dwuliterowe od c do k:\n",
      " ['he', 'ic', 'he', 'aaa', 'bc', 'de', 'adb', 'ce', 'ci']\n"
     ]
    }
   ],
   "source": [
    "print(\"Ciągi dwuliterowe zawierające jakieś litery od b do e:\\n\",\n",
    "      re.findall(\"[b-e]{2}\", text))\n",
    "print(\"Ciągi dwuliterowe zawierające jakieś litery od b do e lub trzyliterowe od a do e:\\n\",\n",
    "      re.findall(\"[b-e]{2}|[a-e]{3}\", text))\n",
    "print(\"Ciągi dwuliterowe zawierające jakieś litery od b do e lub trzyliterowe od a do e lub dwuliterowe od c do k:\\n\",\n",
    "      re.findall(\"[b-e]{2}|[a-e]{3}|[c-k]{2}\", text))"
   ]
  },
  {
   "cell_type": "markdown",
   "metadata": {},
   "source": [
    "### Usuwanie znaków interpunkcyjnych\n",
    "W wyrażeniach regularnych Pythona nie ma symbolu obejmującego wszystkie znaki interpunkcyjne. Jednak dość często chcemy oczyścić wczytany tekst ze wszystkich znaków interpunkcyjnych. Zobaczmy jak to można zrobić:"
   ]
  },
  {
   "cell_type": "code",
   "execution_count": 34,
   "metadata": {},
   "outputs": [
    {
     "data": {
      "text/plain": [
       "\"Hello world I'm a boy you're a girl\""
      ]
     },
     "execution_count": 34,
     "metadata": {},
     "output_type": "execute_result"
    }
   ],
   "source": [
    "import string\n",
    "\n",
    "' '.join(word.strip(string.punctuation) for word in \"Hello, world. I'm a boy, you're a girl.\".split())"
   ]
  },
  {
   "cell_type": "code",
   "execution_count": 35,
   "metadata": {},
   "outputs": [
    {
     "name": "stdout",
     "output_type": "stream",
     "text": [
      "hello world hes told me\n"
     ]
    }
   ],
   "source": [
    "p = re.compile(\"[\" + re.escape(string.punctuation) + \"]\")\n",
    "print(p.sub(\"\", \"\\\"hello world!\\\", he's told me.\"))"
   ]
  },
  {
   "cell_type": "markdown",
   "metadata": {},
   "source": [
    "### Więcej ciekawych przykładów:\n",
    "* https://stackoverflow.com/questions/18429143/strip-punctuation-with-regex-python"
   ]
  },
  {
   "cell_type": "markdown",
   "metadata": {},
   "source": [
    "## 4. Szukanie wzoru w specyficznej lokalizacji\n",
    "Możemy również zdefiniować w jakim miejscu ma pojawić się dane wyrażenie.\n",
    "* ^: szuka wzorca na początku ciągu znaków.\n",
    "* $: szuka wzorca na końcu ciągu znaków.\n",
    "* \\b: szuka wzorca na początku, lub końcu wyrazu\n",
    "* \\B: szuka wzorca który nie jest na początku lub końcu żadnego wyrazu "
   ]
  },
  {
   "cell_type": "code",
   "execution_count": 36,
   "metadata": {},
   "outputs": [
    {
     "name": "stdout",
     "output_type": "stream",
     "text": [
      "dowolny wyraz na początku stringa:\n",
      " ['The']\n"
     ]
    }
   ],
   "source": [
    "print(\"dowolny wyraz na początku stringa:\\n\",\n",
    "      re.findall(\"^\\S+\", text))"
   ]
  },
  {
   "cell_type": "code",
   "execution_count": 37,
   "metadata": {},
   "outputs": [
    {
     "name": "stdout",
     "output_type": "stream",
     "text": [
      "dowolny wyraz na końcu stringa:\n",
      " ['ala_ma_kota+a']\n"
     ]
    }
   ],
   "source": [
    "print(\"dowolny wyraz na końcu stringa:\\n\",\n",
    "      re.findall(\"\\S+$\", text))"
   ]
  },
  {
   "cell_type": "code",
   "execution_count": 38,
   "metadata": {},
   "outputs": [
    {
     "name": "stdout",
     "output_type": "stream",
     "text": [
      "'a' na początku słowa:\n",
      " ['a', 'a']\n"
     ]
    }
   ],
   "source": [
    "text = '''The quick brown Fox jumps over the lazy dog\n",
    "aaabcdeadbce ściółka żądli\n",
    "9872-23-3234-343-3234\n",
    "ala_ma_kota'''\n",
    "print(\"'a' na początku słowa:\\n\",\n",
    "      re.findall(\"\\\\ba\", text))"
   ]
  },
  {
   "cell_type": "code",
   "execution_count": 39,
   "metadata": {},
   "outputs": [
    {
     "name": "stdout",
     "output_type": "stream",
     "text": [
      "'a' na początku słowa:\n",
      " ['a', 'a']\n"
     ]
    }
   ],
   "source": [
    "# Musimy pamiętać, że dla Pythona string to coś co też trzeba odkodować\n",
    "# o ile nie wskażemy wprost przez przedrostek r,\n",
    "# że to surowy tekst to musimy wstawić znak ucieczki przez \\b\n",
    "print(\"'a' na początku słowa:\\n\",\n",
    "      re.findall(r\"\\ba\", text))"
   ]
  },
  {
   "cell_type": "code",
   "execution_count": 40,
   "metadata": {},
   "outputs": [
    {
     "name": "stdout",
     "output_type": "stream",
     "text": [
      "'a' na początku stringa:\n",
      " []\n"
     ]
    }
   ],
   "source": [
    "print(\"'a' na początku stringa:\\n\",\n",
    "      re.findall(r\"^a\", text))"
   ]
  },
  {
   "cell_type": "code",
   "execution_count": 41,
   "metadata": {},
   "outputs": [
    {
     "name": "stdout",
     "output_type": "stream",
     "text": [
      "'a' na końcu słowa:\n",
      " ['a', 'a']\n"
     ]
    }
   ],
   "source": [
    "print(\"'a' na końcu słowa:\\n\",\n",
    "      re.findall(r\"a\\b\", text))"
   ]
  },
  {
   "cell_type": "code",
   "execution_count": 42,
   "metadata": {},
   "outputs": [
    {
     "name": "stdout",
     "output_type": "stream",
     "text": [
      "'a' nie na końcu słowa:\n",
      " ['a', 'a', 'a', 'a', 'a', 'a', 'a', 'a']\n"
     ]
    }
   ],
   "source": [
    "print(\"'a' nie na końcu słowa:\\n\",\n",
    "      re.findall(r\"a\\B\", text))"
   ]
  },
  {
   "cell_type": "code",
   "execution_count": 43,
   "metadata": {},
   "outputs": [
    {
     "name": "stdout",
     "output_type": "stream",
     "text": [
      "'a' nie na początku słowa:\n",
      " ['a', 'a', 'a', 'a', 'a', 'a', 'a', 'a']\n"
     ]
    }
   ],
   "source": [
    "print(\"'a' nie na początku słowa:\\n\",\n",
    "      re.findall(r\"\\Ba\", text))"
   ]
  },
  {
   "cell_type": "code",
   "execution_count": 44,
   "metadata": {},
   "outputs": [
    {
     "name": "stdout",
     "output_type": "stream",
     "text": [
      "Słowa rozpoczynane wielką literą:\n",
      " ['The', 'Fox']\n",
      "Słowa rozpoczynane wielką literą:\n",
      " ['The', 'Fox']\n"
     ]
    }
   ],
   "source": [
    "# Uwzględniamy tylko początek ciągu znaków a nie początek linii.\n",
    "print(\"Słowa rozpoczynane wielką literą:\\n\",\n",
    "      re.findall(r\"\\b[A-Z]\\w*\", text))\n",
    "\n",
    "print(\"Słowa rozpoczynane wielką literą:\\n\",\n",
    "      re.findall(r\"\\b[A-Z][A-Za-z]*\", text))"
   ]
  },
  {
   "cell_type": "markdown",
   "metadata": {},
   "source": [
    "Wyrażenia ^ i $ to kotwice, ponieważ wskazują na konkretną pozycję w tekście.\n",
    "Z kolei granice (boundaries) wskazują pozycje relatywne: np. początek każdego wyrazu.\n",
    "Więcej informacji zanjdziemy np. tutaj:\n",
    "http://www.rexegg.com/regex-boundaries.html#wordboundary"
   ]
  },
  {
   "cell_type": "markdown",
   "metadata": {},
   "source": [
    "## 5. Grupy i nazwy grup\n",
    "\n",
    "Niekiedy definiując klasę ciągów znaków chcemy traktować pewien ciąg jako jeden spójny,\n",
    "nierozdzielalny kawałek. W tym celu ujmujemy w nawiasy segment, który ma stanowić całość.\n",
    "Przykładowo, klasę złożoną z napisów typu X, XYX, XYXYX itd. możemy zdefiniować jako \"(XY)*X\".\n",
    "Kwantyfikator nie odnosi się wtedy do ostatniego znaku, ale do ciągów znaków."
   ]
  },
  {
   "cell_type": "code",
   "execution_count": 45,
   "metadata": {},
   "outputs": [
    {
     "data": {
      "text/plain": [
       "[<re.Match object; span=(0, 2), match='XX'>,\n",
       " None,\n",
       " None,\n",
       " <re.Match object; span=(0, 3), match='XYX'>,\n",
       " <re.Match object; span=(0, 3), match='XYX'>]"
      ]
     },
     "execution_count": 45,
     "metadata": {},
     "output_type": "execute_result"
    }
   ],
   "source": [
    "[re.match(\"XY*X\", x) for x in (\"XXX\", \"XY\", \"YXY\", \"XYXYXYYXY\", \"XYX\")]"
   ]
  },
  {
   "cell_type": "code",
   "execution_count": 46,
   "metadata": {},
   "outputs": [
    {
     "data": {
      "text/plain": [
       "[<re.Match object; span=(0, 1), match='X'>,\n",
       " <re.Match object; span=(0, 1), match='X'>,\n",
       " None,\n",
       " <re.Match object; span=(0, 5), match='XYXYX'>,\n",
       " <re.Match object; span=(0, 3), match='XYX'>]"
      ]
     },
     "execution_count": 46,
     "metadata": {},
     "output_type": "execute_result"
    }
   ],
   "source": [
    "[re.match(\"(XY)*X\", x) for x in (\"XXX\", \"XY\", \"YXY\", \"XYXYXYYXY\", \"XYX\")]"
   ]
  },
  {
   "cell_type": "markdown",
   "metadata": {},
   "source": [
    "Grupy mają swoje aliasy - numer znalezionej grupy. Można odwołaś się do niej, np. przy podmienianiu stringów. Przydatne, przestudiujmy przykłady:"
   ]
  },
  {
   "cell_type": "code",
   "execution_count": 47,
   "metadata": {},
   "outputs": [
    {
     "name": "stdout",
     "output_type": "stream",
     "text": [
      "ababc and ABC\n",
      "aabbc aand ABC\n"
     ]
    }
   ],
   "source": [
    "print(re.sub('(ab)', '\\\\1\\\\1', \"abc and ABC\"))\n",
    "print(re.sub('([ab])', '\\\\1\\\\1', \"abc and ABC\"))\n",
    "# re.sub('[ab]', '\\\\1\\\\1', \"abc and ABC\") # nie zadziała"
   ]
  },
  {
   "cell_type": "code",
   "execution_count": 48,
   "metadata": {},
   "outputs": [
    {
     "name": "stdout",
     "output_type": "stream",
     "text": [
      "ABCDABCD\n",
      "YXX\n",
      "ABCDABCD\n"
     ]
    }
   ],
   "source": [
    "# Zwróćmy uwagę jeszcze na ten przykład:\n",
    "print(re.sub('.*([A-Z]{4})(X)([A-Z]{4}).*', '\\\\1\\\\3', \"YXABCDXABCDYX\"))\n",
    "#       YX    ABCD   X    ABCD   YX\n",
    "# symbole \\\\n wrażliwe są jedynie na grupy:\n",
    "print(re.sub('(.*)([A-Z]{4})(X)([A-Z]{4}).*', '\\\\1\\\\3', \"YXABCDXABCDYX\"))\n",
    "print(re.sub('(.*)([A-Z]{4})(X)([A-Z]{4}).*', '\\\\2\\\\4',\"YXABCDXABCDYX\"))"
   ]
  },
  {
   "cell_type": "markdown",
   "metadata": {},
   "source": [
    "Wyrażenia regularne pozwalają na robienie złożonych wyszukiwań, gdzie podamy również nazwy grup. Jest to szczególnie przydatne kiedy będziemy pracować z ustrukturalizowanym lub semi-ustrukturalizowanym tekstem. Przykładowe zastosowania to:\n",
    "* parsowanie logów\n",
    "* analiza postów/chatów\n",
    "* nagłówków wiadomości pocztowych"
   ]
  },
  {
   "cell_type": "code",
   "execution_count": 49,
   "metadata": {},
   "outputs": [
    {
     "name": "stdout",
     "output_type": "stream",
     "text": [
      "{'time': '17:23', 'user': '@maciek', 'text': ' lorem ipsum'}\n",
      "{'time': '17:25', 'user': '+piotrek', 'text': ' walorem'}\n",
      "{'time': '17:26', 'user': '-maciek', 'text': ' text text +'}\n"
     ]
    }
   ],
   "source": [
    "lines = [ '| 17:23 <@maciek> lorem ipsum',\n",
    "'| 17:25 <+piotrek> walorem',\n",
    "'| 17:26 <-maciek> text text +']\n",
    "for line in lines:\n",
    "    group = re.search(r'(?P<time>\\d{2}:\\d{2})\\s<(?P<user>.*)>(?P<text>.*)', line)\n",
    "    # Sprawdźmy czy udało się coś znaleźć\n",
    "    if group:\n",
    "        print(group.groupdict())"
   ]
  },
  {
   "cell_type": "markdown",
   "metadata": {},
   "source": [
    "Powyższy przykład będzie bardzo pomocny w poznaniu jeszcze jednego zagadnienia. Zobaczmy co się stanie jeżeli w miejscu gdzie jest tekst, umieścimy dozwolony znak \">\". Spowoduje to umieszczenie dużej części tekstu wewnątrz pola dla usera."
   ]
  },
  {
   "cell_type": "code",
   "execution_count": 50,
   "metadata": {},
   "outputs": [
    {
     "name": "stdout",
     "output_type": "stream",
     "text": [
      "{'time': '17:23', 'user': '@maciek', 'text': ' lorem ipsum'}\n",
      "{'time': '17:25', 'user': '+piotrek', 'text': ' walorem'}\n",
      "{'time': '17:26', 'user': '-maciek> text text', 'text': ' +'}\n"
     ]
    }
   ],
   "source": [
    "import re\n",
    "lines = [ '| 17:23 <@maciek> lorem ipsum',\n",
    "'| 17:25 <+piotrek> walorem',\n",
    "'| 17:26 <-maciek> text text> +']\n",
    "for line in lines:\n",
    "    group = re.search(r'(?P<time>\\d{2}:\\d{2})\\s<(?P<user>.*)>(?P<text>.*)', line)\n",
    "    # Sprawdźmy czy udało się coś znaleźć\n",
    "    if group:\n",
    "        print(group.groupdict())"
   ]
  },
  {
   "cell_type": "markdown",
   "metadata": {},
   "source": [
    "Przyczyną/rozwiązaniem tego problemu jest greedy search (przeciwieństwo: lazy search). Najtrudniej jest wyszukać kombinację jak powyżej przeszukując linię od początku do końca. W tym celu po kwantyfikatorze dotyczącym długości możemy wstawić znak zapytania, który pozwoli nam na stwierdzenie, ze wyszukiwanie ma być leniwe - najkrótszego (a nie najdłuższego) wystąpienia, które spełnia warunek."
   ]
  },
  {
   "cell_type": "code",
   "execution_count": 51,
   "metadata": {},
   "outputs": [
    {
     "name": "stdout",
     "output_type": "stream",
     "text": [
      "{'time': '17:23', 'user': '@maciek', 'text': ' lorem ipsum'}\n",
      "{'time': '17:25', 'user': '+piotrek', 'text': ' walorem'}\n",
      "{'time': '17:26', 'user': '-maciek', 'text': ' text text> +'}\n"
     ]
    }
   ],
   "source": [
    "import re\n",
    "lines = [ '| 17:23 <@maciek> lorem ipsum',\n",
    "'| 17:25 <+piotrek> walorem',\n",
    "'| 17:26 <-maciek> text text> +']\n",
    "for line in lines:\n",
    "    group = re.search(r'(?P<time>\\d{2}:\\d{2})\\s<(?P<user>.*?)>(?P<text>.*)', line)\n",
    "    # Sprawdźmy czy udało się coś znaleźć\n",
    "    if group:\n",
    "        print(group.groupdict())"
   ]
  },
  {
   "cell_type": "markdown",
   "metadata": {},
   "source": [
    "## 6. asercje \"Lookarounds\"\n",
    "Niekiedy, wyszukując pewne wyrażenie, interesuje nas tylko taki przypadek, który poprzedza/okala lub po którym następuje określony inny ciąg znaków. Ograniczeniem jest niestety fakt, że asercja musi składać się ze skończonej liczby znaków,"
   ]
  },
  {
   "cell_type": "code",
   "execution_count": 52,
   "metadata": {},
   "outputs": [
    {
     "name": "stdout",
     "output_type": "stream",
     "text": [
      "['100', '15']\n",
      "['15']\n",
      "['100', '1']\n",
      "['100']\n",
      "['100']\n"
     ]
    }
   ],
   "source": [
    "# Następowanie (pozytywne/negatywne)\n",
    "print(re.findall('\\\\d+', '100 osób wydało na lody średnio 15 zł'))\n",
    "print(re.findall('\\\\d+(?= zł)', '100 osób wydało na lody średnio 15 zł'))\n",
    "print(re.findall('\\\\d+(?! zł)', '100 osób wydało na lody średnio 15 zł'))\n",
    "print(re.findall('\\\\d+(?! zł|\\\\d+)', '100 osób wydało na lody średnio 15 zł'))\n",
    "print(re.findall('\\\\d+(?!\\\\d* zł)', '100 osób wydało na lody średnio 15 zł'))"
   ]
  },
  {
   "cell_type": "code",
   "execution_count": 53,
   "metadata": {},
   "outputs": [
    {
     "name": "stdout",
     "output_type": "stream",
     "text": [
      "['100']\n",
      "['00', '120']\n",
      "['100']\n"
     ]
    }
   ],
   "source": [
    "# Poprzedzanie (pozytywne/negatywne)\n",
    "print(re.findall('(?<=Sprzedano\\\\s)\\\\d+', 'Sprzedano 100 sztuk, kupiono 120'))\n",
    "print(re.findall('(?<!Sprzedano\\\\s)\\\\d+', 'Sprzedano 100 sztuk, kupiono 120'))\n",
    "print(re.findall('Sprzedano (\\\\d+)', 'Sprzedano 100 sztuk, kupiono 120'))"
   ]
  },
  {
   "cell_type": "markdown",
   "metadata": {},
   "source": [
    "## 7. Kompilowanie\n",
    "Na koniec warto napisać trzy słowa o efektywności. Za każdy razem kiedy korzystamy z polecenia z wyrażeniem regularnym jest ono kompilowane od nowa (o ile interpreter się nie zorientuje i nie zoptymalizuje naszego działania). Z tego powodu kiedy wykorzystujemy wyrażenia regularne w pętli warto raz je skompilować na początku a później już tylko wykonywać."
   ]
  },
  {
   "cell_type": "code",
   "execution_count": 54,
   "metadata": {},
   "outputs": [
    {
     "name": "stdout",
     "output_type": "stream",
     "text": [
      "{'time': '17:23', 'user': '@maciek', 'text': ' lorem ipsum'}\n",
      "{'time': '17:25', 'user': '+piotrek', 'text': ' walorem'}\n",
      "{'time': '17:26', 'user': '-maciek', 'text': ' text text> +'}\n"
     ]
    }
   ],
   "source": [
    "import re\n",
    "lines = [ '| 17:23 <@maciek> lorem ipsum',\n",
    "'| 17:25 <+piotrek> walorem',\n",
    "'| 17:26 <-maciek> text text> +']\n",
    "pattern = re.compile(r'(?P<time>\\d{2}:\\d{2})\\s<(?P<user>.*?)>(?P<text>.*)')\n",
    "for line in lines:\n",
    "    group = re.search(pattern, line)\n",
    "    # Sprawdźmy czy udało się coś znaleźć\n",
    "    if group:\n",
    "        print(group.groupdict())"
   ]
  },
  {
   "cell_type": "markdown",
   "metadata": {},
   "source": [
    "# 8. Podsumowanie\n",
    "\n",
    "Praca z wyrażeniami regularnymi może poczatkowo sprawiać wiele problemów, być bardzo nieintuicyjna. Nie zmienia to faktu, iż jest to bardzo szybkie i przydatne narzędzie. Co więcej wyrażenia regularne są obsługiwane przez chyba wszystkie języki programowania, co powoduje, że jest to w uniwersalna umiejętność. Na szczęście w internecie możemy znaleźć bardzo wiele gotowych przepisów, jeżeli odpowiednio sformułujemy zapytanie to szybko znajdziemy odpowiedź na stackoverflow.\n",
    "\n",
    "Oprócz tego istnieje wiele tutoriali:\n",
    "* https://www.guru99.com/python-regular-expressions-complete-tutorial.html\n",
    "* https://developers.google.com/edu/python/regular-expressions\n",
    "* https://www.regular-expressions.info/quickstart.html\n",
    "* http://www.rexegg.com/\n",
    "\n",
    "Oraz narzedzi do prostego testowania wyrazeń regularnych:\n",
    "* https://regex101.com/\n",
    "* https://regexr.com/"
   ]
  }
 ],
 "metadata": {
  "kernelspec": {
   "display_name": "Python 3 (ipykernel)",
   "language": "python",
   "name": "python3"
  },
  "language_info": {
   "codemirror_mode": {
    "name": "ipython",
    "version": 3
   },
   "file_extension": ".py",
   "mimetype": "text/x-python",
   "name": "python",
   "nbconvert_exporter": "python",
   "pygments_lexer": "ipython3",
   "version": "3.10.9"
  }
 },
 "nbformat": 4,
 "nbformat_minor": 2
}
