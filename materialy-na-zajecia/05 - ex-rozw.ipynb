{
 "cells": [
  {
   "cell_type": "markdown",
   "metadata": {},
   "source": [
    "![alt text](img/LM.png)\n",
    "# Kurs: Deep Learning, Text Mining i XAI w Pythonie\n",
    "\n",
    "## Autor: Piotr Ćwiakowski\n",
    "\n",
    "### 5 Lekcja . Wyrażenia regularne - ćwiczenia\n",
    "Korzystając z wyrażeń regularnych wykonaj następujące polecenia dla zadanego tekstu."
   ]
  },
  {
   "cell_type": "code",
   "execution_count": 1,
   "metadata": {},
   "outputs": [],
   "source": [
    "text = '''Litwo! Ojczyzno moja! Ty jesteś jak zdrowie,\n",
    "Ile cię trzeba cenić, ten tylko się dowie,\n",
    "Kto cię stracił. Dziś piękność twą w całej ozdobie\n",
    "Widzę i opisuję, bo tęsknię po tobie\n",
    "Panno święta, co Jasnej bronisz Częstochowy\n",
    "I w Ostrej świecisz Bramie! Ty, co gród zamkowy\n",
    "Nowogródzki ochraniasz z jego wiernym ludem!\n",
    "Jak mnie dziecko do zdrowia powróciłaś cudem,\n",
    "Gdy od płaczącej matki pod Twoją opiekę\n",
    "Ofiarowany, martwą podniosłem powiekę\n",
    "I zaraz mogłem pieszo do Twych świątyń progu\n",
    "Iść za wrócone życie podziękować Bogu),\n",
    "Tak nas powrócisz cudem na Ojczyzny łono.\n",
    "Tymczasem przenoś moją duszę utęsknioną\n",
    "Do tych pagórków leśnych, do tych łąk zielonych,\n",
    "Szeroko nad błękitnym Niemnem rozciągnionych;\n",
    "Do tych pól malowanych zbożem rozmaitem,\n",
    "Wyzłacanych pszenicą, posrebrzanych żytem;\n",
    "Gdzie bursztynowy świerzop, gryka jak śnieg biała,\n",
    "Gdzie panieńskim rumieńcem dzięcielina pała,\n",
    "A wszystko przepasane jakby wstęgą, miedzą\n",
    "Zieloną, na niej z rzadka ciche grusze siedzą.\n",
    "'''"
   ]
  },
  {
   "cell_type": "code",
   "execution_count": null,
   "metadata": {},
   "outputs": [],
   "source": [
    "import re"
   ]
  },
  {
   "cell_type": "markdown",
   "metadata": {},
   "source": [
    "* Policz (korzystając z find all) ile razy występuje w inwokacji Pana Tadeusza:\n",
    "    * \"ci\"\n",
    "    * \"ych\""
   ]
  },
  {
   "cell_type": "code",
   "execution_count": 2,
   "metadata": {},
   "outputs": [
    {
     "name": "stdout",
     "output_type": "stream",
     "text": [
      "10\n",
      "['ci', 'ci', 'ci', 'ci', 'ci', 'ci', 'ci', 'ci', 'ci', 'ci']\n",
      "10\n",
      "['ych', 'ych', 'ych', 'ych', 'ych', 'ych', 'ych', 'ych', 'ych', 'ych']\n"
     ]
    }
   ],
   "source": [
    "print(len(re.findall(\"ci\", text)))\n",
    "print((re.findall(\"ci\", text)))\n",
    "print(len(re.findall(\"ych\", text)))\n",
    "print((re.findall(\"ych\", text)))"
   ]
  },
  {
   "cell_type": "markdown",
   "metadata": {},
   "source": [
    "* Policz ile wyrazów jest w poniższym tekście, zapisz wszystkie wyrazy do listy."
   ]
  },
  {
   "cell_type": "code",
   "execution_count": 3,
   "metadata": {},
   "outputs": [
    {
     "name": "stdout",
     "output_type": "stream",
     "text": [
      "145\n",
      "['Litwo', 'Ojczyzno', 'moja', 'Ty', 'jesteś', 'jak', 'zdrowie', 'Ile', 'cię', 'trzeba', 'cenić', 'ten', 'tylko', 'się', 'dowie', 'Kto', 'cię', 'stracił', 'Dziś', 'piękność', 'twą', 'w', 'całej', 'ozdobie', 'Widzę', 'i', 'opisuję', 'bo', 'tęsknię', 'po', 'tobie', 'Panno', 'święta', 'co', 'Jasnej', 'bronisz', 'Częstochowy', 'I', 'w', 'Ostrej', 'świecisz', 'Bramie', 'Ty', 'co', 'gród', 'zamkowy', 'Nowogródzki', 'ochraniasz', 'z', 'jego', 'wiernym', 'ludem', 'Jak', 'mnie', 'dziecko', 'do', 'zdrowia', 'powróciłaś', 'cudem', 'Gdy', 'od', 'płaczącej', 'matki', 'pod', 'Twoją', 'opiekę', 'Ofiarowany', 'martwą', 'podniosłem', 'powiekę', 'I', 'zaraz', 'mogłem', 'pieszo', 'do', 'Twych', 'świątyń', 'progu', 'Iść', 'za', 'wrócone', 'życie', 'podziękować', 'Bogu', 'Tak', 'nas', 'powrócisz', 'cudem', 'na', 'Ojczyzny', 'łono', 'Tymczasem', 'przenoś', 'moją', 'duszę', 'utęsknioną', 'Do', 'tych', 'pagórków', 'leśnych', 'do', 'tych', 'łąk', 'zielonych', 'Szeroko', 'nad', 'błękitnym', 'Niemnem', 'rozciągnionych', 'Do', 'tych', 'pól', 'malowanych', 'zbożem', 'rozmaitem', 'Wyzłacanych', 'pszenicą', 'posrebrzanych', 'żytem', 'Gdzie', 'bursztynowy', 'świerzop', 'gryka', 'jak', 'śnieg', 'biała', 'Gdzie', 'panieńskim', 'rumieńcem', 'dzięcielina', 'pała', 'A', 'wszystko', 'przepasane', 'jakby', 'wstęgą', 'miedzą', 'Zieloną', 'na', 'niej', 'z', 'rzadka', 'ciche', 'grusze', 'siedzą']\n"
     ]
    }
   ],
   "source": [
    "print(len(re.findall(\"\\w+\", text)))\n",
    "print((re.findall(\"\\w+\", text)))"
   ]
  },
  {
   "cell_type": "markdown",
   "metadata": {},
   "source": [
    "* Policz jaka jest średnia liczba wyrazów na linijkę."
   ]
  },
  {
   "cell_type": "code",
   "execution_count": 4,
   "metadata": {},
   "outputs": [
    {
     "data": {
      "text/plain": [
       "6.590909090909091"
      ]
     },
     "execution_count": 4,
     "metadata": {},
     "output_type": "execute_result"
    }
   ],
   "source": [
    "wordsPerline = []\n",
    "for line in text.split(\"\\n\"):\n",
    "    if len(line) > 0:\n",
    "        wordsPerline.append(len(re.findall(\"\\w+\", line)))\n",
    "wordsPerline\n",
    "import numpy as np\n",
    "np.mean(wordsPerline)"
   ]
  },
  {
   "cell_type": "markdown",
   "metadata": {},
   "source": [
    "* Wyświetl wszystkie wyrazy, które są dłuższe niż 5 liter."
   ]
  },
  {
   "cell_type": "code",
   "execution_count": 5,
   "metadata": {},
   "outputs": [
    {
     "data": {
      "text/plain": [
       "6.590909090909091"
      ]
     },
     "execution_count": 5,
     "metadata": {},
     "output_type": "execute_result"
    }
   ],
   "source": [
    "# Można również:\n",
    "word_count = [len(x.split()) for x in text.splitlines()]\n",
    "sum(word_count)/len(text.splitlines())\n",
    "len(text.split())/len(text.splitlines())"
   ]
  },
  {
   "cell_type": "code",
   "execution_count": 6,
   "metadata": {},
   "outputs": [
    {
     "name": "stdout",
     "output_type": "stream",
     "text": [
      "['Ojczyzno', 'jesteś', 'zdrowie', 'trzeba', 'stracił', 'piękność', 'ozdobie', 'opisuję', 'tęsknię', 'święta', 'Jasnej', 'bronisz', 'Częstochowy', 'Ostrej', 'świecisz', 'Bramie', 'zamkowy', 'Nowogródzki', 'ochraniasz', 'wiernym', 'dziecko', 'zdrowia', 'powróciłaś', 'płaczącej', 'opiekę', 'Ofiarowany', 'martwą', 'podniosłem', 'powiekę', 'mogłem', 'pieszo', 'świątyń', 'wrócone', 'podziękować', 'powrócisz', 'Ojczyzny', 'Tymczasem', 'przenoś', 'utęsknioną', 'pagórków', 'leśnych', 'zielonych', 'Szeroko', 'błękitnym', 'Niemnem', 'rozciągnionych', 'malowanych', 'zbożem', 'rozmaitem', 'Wyzłacanych', 'pszenicą', 'posrebrzanych', 'bursztynowy', 'świerzop', 'panieńskim', 'rumieńcem', 'dzięcielina', 'wszystko', 'przepasane', 'wstęgą', 'miedzą', 'Zieloną', 'rzadka', 'grusze', 'siedzą']\n"
     ]
    }
   ],
   "source": [
    "print((re.findall(\"\\w{6,}\", text)))"
   ]
  },
  {
   "cell_type": "markdown",
   "metadata": {},
   "source": [
    "* Wyświetl wszystkie wyrazy, które zaczynają się na literę \"p\" są dłuższe niż 4 znakowe i krótsze niż 8 znakowe."
   ]
  },
  {
   "cell_type": "code",
   "execution_count": 7,
   "metadata": {},
   "outputs": [
    {
     "data": {
      "text/plain": [
       "['powiekę', 'pieszo', 'progu', 'przenoś']"
      ]
     },
     "execution_count": 7,
     "metadata": {},
     "output_type": "execute_result"
    }
   ],
   "source": [
    "# Wyświetl wszystkie wyrazy, które zaczynają się na literę \"p\" są dłuższe niż 4 znakowe i krótsze niż 8 znakowe.\n",
    "re.findall(r'\\bp\\w{4,6}\\b', text)"
   ]
  },
  {
   "cell_type": "markdown",
   "metadata": {},
   "source": [
    "* Znajdź wszystkie wyrazy po których wstawiony został wykrzyknik."
   ]
  },
  {
   "cell_type": "code",
   "execution_count": 8,
   "metadata": {
    "scrolled": true
   },
   "outputs": [
    {
     "data": {
      "text/plain": [
       "['Litwo', 'moja', 'Bramie', 'ludem']"
      ]
     },
     "execution_count": 8,
     "metadata": {},
     "output_type": "execute_result"
    }
   ],
   "source": [
    "# Znajdź wszystkie wyrazy po których wstawiony został wykrzyknik.\n",
    "[x.replace('!', '') for x in re.findall(r'\\w+\\b!', text)]"
   ]
  },
  {
   "cell_type": "markdown",
   "metadata": {},
   "source": [
    "* Znajdź wszystkie wyrazy po których wstawiony został jakikolwiek znak (przecinek, kropka, średnik, wykrzyknik, etc)."
   ]
  },
  {
   "cell_type": "code",
   "execution_count": 9,
   "metadata": {},
   "outputs": [
    {
     "name": "stdout",
     "output_type": "stream",
     "text": [
      "['Litwo!', 'moja!', 'zdrowie,', 'cenić,', 'dowie,', 'stracił.', 'opisuję,', 'święta,', 'Bramie!', 'Ty,', 'ludem!', 'cudem,', 'Ofiarowany,', 'łono.', 'leśnych,', 'zielonych,', 'rozmaitem,', 'pszenicą,', 'świerzop,', 'biała,', 'pała,', 'wstęgą,', 'Zieloną,', 'siedzą.']\n",
      "['Litwo!', 'moja!', 'zdrowie,', 'cenić,', 'dowie,', 'stracił.', 'opisuję,', 'święta,', 'Bramie!', 'Ty,', 'ludem!', 'cudem,', 'Ofiarowany,', 'Bogu)', 'łono.', 'leśnych,', 'zielonych,', 'rozciągnionych;', 'rozmaitem,', 'pszenicą,', 'żytem;', 'świerzop,', 'biała,', 'pała,', 'wstęgą,', 'Zieloną,', 'siedzą.']\n",
      "['Litwo', 'moja', 'zdrowie', 'cenić', 'dowie', 'stracił', 'opisuję', 'święta', 'Bramie', 'Ty', 'ludem', 'cudem', 'Ofiarowany', 'Bogu', 'łono', 'leśnych', 'zielonych', 'rozciągnionych', 'rozmaitem', 'pszenicą', 'żytem', 'świerzop', 'biała', 'pała', 'wstęgą', 'Zieloną', 'siedzą']\n"
     ]
    }
   ],
   "source": [
    "# Znajdź wszystkie wyrazy po których wstawiony został jakikolwiek znak (przecinek, kropka, średnik, wykrzyknik, etc).\n",
    "print(re.findall(r'\\w+\\b[!?,.]', text))\n",
    "print(re.findall(r'\\w+\\b\\S', text))\n",
    "print([x[:-1] for x in re.findall(r'\\w+\\b\\S', text)])"
   ]
  },
  {
   "cell_type": "code",
   "execution_count": 10,
   "metadata": {},
   "outputs": [
    {
     "name": "stdout",
     "output_type": "stream",
     "text": [
      "['Litwo!', 'moja!', 'zdrowie,', 'cenić,', 'dowie,', 'stracił.', 'opisuję,', 'święta,', 'Bramie!', 'Ty,', 'ludem!', 'cudem,', 'Ofiarowany,', 'Bogu)', 'łono.', 'leśnych,', 'zielonych,', 'rozciągnionych;', 'rozmaitem,', 'pszenicą,', 'żytem;', 'świerzop,', 'biała,', 'pała,', 'wstęgą,', 'Zieloną,', 'siedzą.']\n"
     ]
    }
   ],
   "source": [
    "pattern = re.compile(\"\\w+[^\\s\\w]\")\n",
    "print((re.findall(pattern, text)))"
   ]
  },
  {
   "cell_type": "markdown",
   "metadata": {},
   "source": [
    "* Znajdź wszystkie słowa, które mają co najmniej 4 litery, gdzie pierwsze dwie litery są w alfabecie od a do m, a kolejne dwie od n do z (jeżeli jest więcej liter to mogą być dowolne)."
   ]
  },
  {
   "cell_type": "code",
   "execution_count": 11,
   "metadata": {},
   "outputs": [
    {
     "data": {
      "text/plain": [
       "['jesteś', 'martwą', 'leśnych']"
      ]
     },
     "execution_count": 11,
     "metadata": {},
     "output_type": "execute_result"
    }
   ],
   "source": [
    "# Znajdź wszystkie słowa, które mają co najmniej 4 litery, \n",
    "# gdzie pierwsze dwie litery są w alfabecie od a do m, \n",
    "# a kolejne dwie od n do z (jeżeli jest więcej liter to mogą być dowolne).\n",
    "re.findall(r'\\b[a-mąęćł]{2}[n-zńóśżź]{2}\\w+', text)"
   ]
  },
  {
   "cell_type": "markdown",
   "metadata": {},
   "source": [
    "* Zastanów się jak powyższe polecenia powinny się zmienić jeżeli chcesz /nie chcesz aby wynik był zależny od wielkości liter."
   ]
  },
  {
   "cell_type": "code",
   "execution_count": 12,
   "metadata": {},
   "outputs": [
    {
     "data": {
      "text/plain": [
       "['Litwo', 'jesteś', 'Jasnej', 'martwą', 'leśnych']"
      ]
     },
     "execution_count": 12,
     "metadata": {},
     "output_type": "execute_result"
    }
   ],
   "source": [
    "re.findall(r'\\b[a-mA-MąęćłĄĘĆŁ]{2}[n-zN-ZńóśżźŃÓŚŻŹ]{2}\\w+', text)\n",
    "re.findall(r'\\b[a-mąęćł]{2}[n-zńóśżź]{2}\\w+', text, flags = re.IGNORECASE)"
   ]
  },
  {
   "cell_type": "markdown",
   "metadata": {},
   "source": [
    "## Ćwiczenie 2.\n",
    "\n",
    "Pracując linia po linii, dla każdej linii:\n",
    "* Znajdź wszystkie linie, gdzie po pierwszym lub ostatnim wyrazie w linii wstawiono wykrzyknik.\n",
    "* Znajdź wszystkie linie, gdzie w ostatnim wyrazie w linii wstawiony został jakikolwiek znak (przecinek, kropka, średnik, wykrzyknik, etc).\n",
    "* Korzystając z look ahead i behind znajdź wszystkie fragmenty tekstu, które są pomiędzy literami (gd) a (ci) nie zwracając na wielkość liter."
   ]
  },
  {
   "cell_type": "code",
   "execution_count": 69,
   "metadata": {},
   "outputs": [
    {
     "name": "stdout",
     "output_type": "stream",
     "text": [
      "['Litwo!', 'ludem!']\n",
      "['Litwo!', 'ludem!']\n"
     ]
    }
   ],
   "source": [
    "wyniki = []\n",
    "for line in text.split(\"\\n\"):\n",
    "    res = re.findall(r\"^\\w+!|\\w+!$\", line)\n",
    "    if len(res)>0:\n",
    "        wyniki.extend(res)\n",
    "print(wyniki)\n",
    "wyniki=[]\n",
    "[wyniki.extend(re.findall(r\"^\\w+!|\\w+!$\", line)) for line in text.split(\"\\n\")]\n",
    "print(wyniki)"
   ]
  },
  {
   "cell_type": "code",
   "execution_count": 96,
   "metadata": {},
   "outputs": [
    {
     "data": {
      "text/plain": [
       "['zie panieńskim rumieńcem dzię']"
      ]
     },
     "execution_count": 96,
     "metadata": {},
     "output_type": "execute_result"
    }
   ],
   "source": [
    "# Korzystając z look ahead i behind znajdź wszystkie fragmenty tekstu, \n",
    "# które są pomiędzy literami (gd) a (ci) nie zwracając na wielkość liter.\n",
    "re.findall(r\"(?<=gd).+(?=ci)\", text.lower())"
   ]
  },
  {
   "cell_type": "markdown",
   "metadata": {},
   "source": [
    "## Ćwiczenie 3.\n",
    "\n",
    "Wykorzystując grupowanie znaków, zamień wektor: `['Sklep 1', 'Sklep 32', 'Sklepy 117', 'Sklepowo 18791', 'Sklep 002', 'Sklepik 16', 'Sklepowy 1165']` na `[\"1 Sklep\", \"32 Sklep\", \"117 Sklepy\", \"18791 Sklepowo\", \"002 Sklep\", \"16 Sklepik\", \"1165 Sklepowy\"]`"
   ]
  },
  {
   "cell_type": "code",
   "execution_count": 12,
   "metadata": {},
   "outputs": [
    {
     "data": {
      "text/plain": [
       "['1 Sklep',\n",
       " '32 Sklep',\n",
       " '117 Sklepy',\n",
       " '18791 Sklepowo',\n",
       " '002 Sklep',\n",
       " '16 Sklepik',\n",
       " '1165 Sklepowy']"
      ]
     },
     "execution_count": 12,
     "metadata": {},
     "output_type": "execute_result"
    }
   ],
   "source": [
    "sklepy = ['Sklep 1', 'Sklep 32', 'Sklepy 117', 'Sklepowo 18791', 'Sklep 002', 'Sklepik 16', 'Sklepowy 1165']\n",
    "\n",
    "[re.sub('(\\\\w+) (\\\\d+)', '\\\\2 \\\\1', x) for x in sklepy]"
   ]
  },
  {
   "cell_type": "markdown",
   "metadata": {},
   "source": [
    "## Ćwiczenie 4.\n",
    "\n",
    "Zbuduj wyrażenie regularne które znajdzie numery telefonów w poniższym wektorze:"
   ]
  },
  {
   "cell_type": "code",
   "execution_count": 13,
   "metadata": {},
   "outputs": [],
   "source": [
    "numery = (\"785-234-432\", \"555 575 325\", \"Ania\", \"pomarańcza\", \"11\", \"198 234 235\", \n",
    "          \"923-444-565\", \"876-543-212\",\"876.543.212\")"
   ]
  }
 ],
 "metadata": {
  "kernelspec": {
   "display_name": "Python 3 (ipykernel)",
   "language": "python",
   "name": "python3"
  },
  "language_info": {
   "codemirror_mode": {
    "name": "ipython",
    "version": 3
   },
   "file_extension": ".py",
   "mimetype": "text/x-python",
   "name": "python",
   "nbconvert_exporter": "python",
   "pygments_lexer": "ipython3",
   "version": "3.9.12"
  }
 },
 "nbformat": 4,
 "nbformat_minor": 2
}
