{
 "cells": [
  {
   "cell_type": "markdown",
   "id": "f2d109e2",
   "metadata": {},
   "source": [
    "![alt text](img/LM.png)\n",
    "# Kurs: Deep Learning, Text Mining i XAI w Pythonie\n",
    "\n",
    "## Autor: Piotr Ćwiakowski\n",
    "\n",
    "### Lekcja 9. Sieci neuronowe MLP - ćwiczenia"
   ]
  },
  {
   "cell_type": "markdown",
   "id": "60fa4e76",
   "metadata": {},
   "source": [
    "# Ćwiczenie 1. \n",
    "Rozbuduj model według następującej instrukcji:\n",
    "\n",
    "1. Architektura modelu:\n",
    "    * Konwolucja z 64 filtrami, 3x3 kernel, 1x1 stride, liniową aktywacją, \"same\" padding\n",
    "    * Batch normalization\n",
    "    * Aktywacja \"relu\"\n",
    "    * Max pooling z 2x2 pool (kernel), 2x2 stride\n",
    "    * dropout z 25% drop rate\n",
    "    * dense layer z 512 neuronami i aktywacją \"relu\"\n",
    "    * dropout layer z 25% drop rate\n",
    "    * odpowiedni layer jako output (do klasyfikacji wieloetykietowej\n",
    "\n",
    "2. Skompiluj model używając optymalizatora Adamax z learning rate 0.0001 i decay = 1e-6.\n",
    "3. Dopasuj model do danych.\n",
    "4. Przeprowadź ewaluację modelu.\n"
   ]
  },
  {
   "cell_type": "code",
   "execution_count": null,
   "id": "63ecfcdd",
   "metadata": {},
   "outputs": [],
   "source": []
  }
 ],
 "metadata": {
  "kernelspec": {
   "display_name": "Python 3 (ipykernel)",
   "language": "python",
   "name": "python3"
  },
  "language_info": {
   "codemirror_mode": {
    "name": "ipython",
    "version": 3
   },
   "file_extension": ".py",
   "mimetype": "text/x-python",
   "name": "python",
   "nbconvert_exporter": "python",
   "pygments_lexer": "ipython3",
   "version": "3.10.10"
  }
 },
 "nbformat": 4,
 "nbformat_minor": 5
}
