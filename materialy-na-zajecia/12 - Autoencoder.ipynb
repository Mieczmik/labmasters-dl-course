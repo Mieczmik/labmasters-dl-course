{
 "cells": [
  {
   "cell_type": "markdown",
   "id": "1b129747",
   "metadata": {},
   "source": [
    "![alt text](img/LM.png)\n",
    "# Kurs: Deep Learning, Text Mining i XAI w Pythonie\n",
    "\n",
    "## Autor: Piotr Ćwiakowski\n",
    "\n",
    "### Lekcja 12. Autoencodery\n",
    "\n",
    "### Spis treści\n",
    "\n",
    "1. Wprowadzenie\n",
    "2. Przegląd architektur"
   ]
  },
  {
   "cell_type": "markdown",
   "id": "909d5bc8",
   "metadata": {},
   "source": [
    "# 1 Wprowadzenie\n",
    "\n",
    "Autoencodery to typy sieci neuronowych, które służą obróbce danych.  Sieć uczy się odtwarzać z informacji przetworzonej w neuronach warstwę dane wejściowe. Odtworzone dane wejściowe są jednak informacją uogólnioną i najczęściej nie zawierają już szumu w danych. Zadanie to jest zatem częścią uczenia nienadzorowanego (z ang. *unsupervised learning*) zwanego również *representation learning*.\n",
    "\n",
    "Autoenkodery składają się z trzech komponentów:\n",
    "\n",
    "- enkodera (odpowiada za redukcję/uogólnienie infomacji w celu jej skompresowania),\n",
    "- kodu (skompresowanej informacji),\n",
    "- dekodera (odpowiada za dekodowanie skompresowanej informacji.\n",
    "\n",
    "Ponadto autoenkodery jako funkcję straty wykorzystują różnicę między warstwą wejściową i wyjściową (czyli *de facto* nie ma odrębnej zmiennej objaśniającej - objaśniamy informację wejściową).\n",
    "\n",
    "<img src=\"img/A1.png\" width=\"40%\">\n",
    "Źródło: https://towardsdatascience.com/applied-deep-learning-part-3-autoencoders-1c083af4d798\n",
    "\n",
    "Bardziej szczegółowe spojrzenie w konstrukcję Autoenkoderów pozwala dostrzec, że jest symetryczna sieć MLP (feedforward i fully-connected). Warstwa środkowa składa się z pojedynczej warstwy kodowej.\n",
    "\n",
    "<img src=\"img/A2.png\" width=\"50%\">\n",
    "Źródło: https://towardsdatascience.com/applied-deep-learning-part-3-autoencoders-1c083af4d798\n",
    "\n",
    "Najważniejsze hiperparametry tej sieci to:\n",
    "\n",
    "- liczba unitów w warstwie kodowej,\n",
    "- liczba warstw enkodera/dekodora,\n",
    "- liczba unitów enkodera/dekodera\n",
    "- funkcja straty (typowe funkcje to  *binary crossentropy* jeśli wejściowe dane są z zakresu [0, 1] i *mean squared error* w przeciwnym przypadku).\n",
    "\n",
    "Co do zasady Autoenkodery są symetryczne (pod względem liczby warstw i perceptronów) ale nie jest wymóg bezwzględny i możemy taką sieć dowolnie kształtować.\n",
    "\n",
    "### Więcej informacji\n",
    "* https://towardsdatascience.com/applied-deep-learning-part-1-artificial-neural-networks-d7834f67a4f6\n",
    "* https://en.wikipedia.org/wiki/Autoencoder\n",
    "* https://www.jeremyjordan.me/autoencoders/\n",
    "* https://www.v7labs.com/blog/autoencoders-guide"
   ]
  },
  {
   "cell_type": "markdown",
   "id": "5d346949",
   "metadata": {},
   "source": [
    "# 2 Przegląd architektur\n",
    "\n",
    "Na stronie https://blog.keras.io/building-autoencoders-in-keras.html można znaleźć wiele przykładów enkoderów stworzonych w pakiecie keras. Wszystkie są wytrenowane na zbiorze MNIST."
   ]
  },
  {
   "cell_type": "markdown",
   "id": "af9fff23",
   "metadata": {},
   "source": [
    "### Wczytanie pakietów i przygotowanie danych"
   ]
  },
  {
   "cell_type": "code",
   "execution_count": 1,
   "id": "d315e09c",
   "metadata": {},
   "outputs": [
    {
     "name": "stdout",
     "output_type": "stream",
     "text": [
      "(60000, 784)\n",
      "(10000, 784)\n"
     ]
    }
   ],
   "source": [
    "import keras\n",
    "import numpy as np\n",
    "import matplotlib.pyplot as plt\n",
    "from keras import layers\n",
    "from keras import regularizers\n",
    "from keras.datasets import mnist\n",
    "\n",
    "(x_train, _), (x_test, _) = mnist.load_data()\n",
    "\n",
    "x_train = x_train.astype('float32') / 255.\n",
    "x_test = x_test.astype('float32') / 255.\n",
    "x_train = x_train.reshape((len(x_train), np.prod(x_train.shape[1:])))\n",
    "x_test = x_test.reshape((len(x_test), np.prod(x_test.shape[1:])))\n",
    "print(x_train.shape)\n",
    "print(x_test.shape)"
   ]
  },
  {
   "cell_type": "markdown",
   "id": "771ccbd0",
   "metadata": {},
   "source": [
    "## 2.1 Pierwszy przykład"
   ]
  },
  {
   "cell_type": "code",
   "execution_count": 2,
   "id": "7243302e",
   "metadata": {},
   "outputs": [
    {
     "name": "stdout",
     "output_type": "stream",
     "text": [
      "Model: \"model\"\n",
      "_________________________________________________________________\n",
      " Layer (type)                Output Shape              Param #   \n",
      "=================================================================\n",
      " input_1 (InputLayer)        [(None, 784)]             0         \n",
      "                                                                 \n",
      " dense (Dense)               (None, 32)                25120     \n",
      "                                                                 \n",
      " dense_1 (Dense)             (None, 784)               25872     \n",
      "                                                                 \n",
      "=================================================================\n",
      "Total params: 50,992\n",
      "Trainable params: 50,992\n",
      "Non-trainable params: 0\n",
      "_________________________________________________________________\n"
     ]
    }
   ],
   "source": [
    "# Liczba unitów w warstwie kodowej\n",
    "encoding_dim = 32  # 32 floats -> zakładamy kompresję o współczynniku 24.5 (784/32)\n",
    "\n",
    "# Zakładamy input jako wiersz z 784 liczbami\n",
    "input_img = keras.Input(shape=(784,))\n",
    "\n",
    "# Warstwa kodująca\n",
    "encoded = layers.Dense(encoding_dim, activation='relu')(input_img)\n",
    "\n",
    "# Warstwa dekodująca\n",
    "decoded = layers.Dense(784, activation='sigmoid')(encoded)\n",
    "\n",
    "# This model maps an input to its reconstruction\n",
    "autoencoder = keras.Model(input_img, decoded)\n",
    "autoencoder.summary()"
   ]
  },
  {
   "cell_type": "code",
   "execution_count": 3,
   "id": "789f5714",
   "metadata": {},
   "outputs": [],
   "source": [
    "# Zapiszemy też osobno obydwa komponenty, żeby można było podejrzeć jak działa enkoder:\n",
    "\n",
    "# Enkoder (w formie referencji)\n",
    "encoder = keras.Model(input_img, encoded)\n",
    "# Warstwa zakodowana\n",
    "encoded_input = keras.Input(shape=(encoding_dim,))\n",
    "# Ekstracja warstwy dekodera z sieci\n",
    "decoder_layer = autoencoder.layers[-1]\n",
    "# Zapisanie jako osobnego \"modelu\" w formie referencji\n",
    "decoder = keras.Model(encoded_input, decoder_layer(encoded_input))"
   ]
  },
  {
   "cell_type": "code",
   "execution_count": 4,
   "id": "c4445a20",
   "metadata": {},
   "outputs": [],
   "source": [
    "# kompilacja\n",
    "autoencoder.compile(optimizer='adam', loss='binary_crossentropy')"
   ]
  },
  {
   "cell_type": "code",
   "execution_count": 5,
   "id": "2bf0a233",
   "metadata": {},
   "outputs": [
    {
     "name": "stdout",
     "output_type": "stream",
     "text": [
      "Epoch 1/50\n",
      "235/235 [==============================] - 2s 5ms/step - loss: 0.2787 - val_loss: 0.1910\n",
      "Epoch 2/50\n",
      "235/235 [==============================] - 1s 5ms/step - loss: 0.1706 - val_loss: 0.1526\n",
      "Epoch 3/50\n",
      "235/235 [==============================] - 1s 5ms/step - loss: 0.1431 - val_loss: 0.1331\n",
      "Epoch 4/50\n",
      "235/235 [==============================] - 1s 4ms/step - loss: 0.1282 - val_loss: 0.1217\n",
      "Epoch 5/50\n",
      "235/235 [==============================] - 1s 5ms/step - loss: 0.1190 - val_loss: 0.1139\n",
      "Epoch 6/50\n",
      "235/235 [==============================] - 1s 4ms/step - loss: 0.1124 - val_loss: 0.1081\n",
      "Epoch 7/50\n",
      "235/235 [==============================] - 1s 4ms/step - loss: 0.1071 - val_loss: 0.1034\n",
      "Epoch 8/50\n",
      "235/235 [==============================] - 1s 5ms/step - loss: 0.1028 - val_loss: 0.0997\n",
      "Epoch 9/50\n",
      "235/235 [==============================] - 1s 5ms/step - loss: 0.0997 - val_loss: 0.0973\n",
      "Epoch 10/50\n",
      "235/235 [==============================] - 1s 5ms/step - loss: 0.0976 - val_loss: 0.0956\n",
      "Epoch 11/50\n",
      "235/235 [==============================] - 1s 5ms/step - loss: 0.0963 - val_loss: 0.0944\n",
      "Epoch 12/50\n",
      "235/235 [==============================] - 1s 5ms/step - loss: 0.0954 - val_loss: 0.0939\n",
      "Epoch 13/50\n",
      "235/235 [==============================] - 1s 5ms/step - loss: 0.0948 - val_loss: 0.0932\n",
      "Epoch 14/50\n",
      "235/235 [==============================] - 1s 5ms/step - loss: 0.0944 - val_loss: 0.0931\n",
      "Epoch 15/50\n",
      "235/235 [==============================] - 1s 5ms/step - loss: 0.0942 - val_loss: 0.0927\n",
      "Epoch 16/50\n",
      "235/235 [==============================] - 1s 4ms/step - loss: 0.0940 - val_loss: 0.0926\n",
      "Epoch 17/50\n",
      "235/235 [==============================] - 1s 4ms/step - loss: 0.0938 - val_loss: 0.0925\n",
      "Epoch 18/50\n",
      "235/235 [==============================] - 1s 4ms/step - loss: 0.0937 - val_loss: 0.0923\n",
      "Epoch 19/50\n",
      "235/235 [==============================] - 1s 4ms/step - loss: 0.0936 - val_loss: 0.0923\n",
      "Epoch 20/50\n",
      "235/235 [==============================] - 1s 4ms/step - loss: 0.0935 - val_loss: 0.0922\n",
      "Epoch 21/50\n",
      "235/235 [==============================] - 1s 4ms/step - loss: 0.0934 - val_loss: 0.0922\n",
      "Epoch 22/50\n",
      "235/235 [==============================] - 1s 5ms/step - loss: 0.0933 - val_loss: 0.0921\n",
      "Epoch 23/50\n",
      "235/235 [==============================] - 1s 4ms/step - loss: 0.0933 - val_loss: 0.0921\n",
      "Epoch 24/50\n",
      "235/235 [==============================] - 1s 5ms/step - loss: 0.0932 - val_loss: 0.0921\n",
      "Epoch 25/50\n",
      "235/235 [==============================] - 1s 4ms/step - loss: 0.0932 - val_loss: 0.0920\n",
      "Epoch 26/50\n",
      "235/235 [==============================] - 1s 4ms/step - loss: 0.0932 - val_loss: 0.0920\n",
      "Epoch 27/50\n",
      "235/235 [==============================] - 1s 4ms/step - loss: 0.0931 - val_loss: 0.0919\n",
      "Epoch 28/50\n",
      "235/235 [==============================] - 1s 5ms/step - loss: 0.0931 - val_loss: 0.0919\n",
      "Epoch 29/50\n",
      "235/235 [==============================] - 1s 4ms/step - loss: 0.0931 - val_loss: 0.0919\n",
      "Epoch 30/50\n",
      "235/235 [==============================] - 1s 5ms/step - loss: 0.0930 - val_loss: 0.0918\n",
      "Epoch 31/50\n",
      "235/235 [==============================] - 1s 5ms/step - loss: 0.0930 - val_loss: 0.0918\n",
      "Epoch 32/50\n",
      "235/235 [==============================] - 1s 5ms/step - loss: 0.0930 - val_loss: 0.0918\n",
      "Epoch 33/50\n",
      "235/235 [==============================] - 1s 5ms/step - loss: 0.0930 - val_loss: 0.0918\n",
      "Epoch 34/50\n",
      "235/235 [==============================] - 1s 4ms/step - loss: 0.0929 - val_loss: 0.0918\n",
      "Epoch 35/50\n",
      "235/235 [==============================] - 1s 6ms/step - loss: 0.0929 - val_loss: 0.0918\n",
      "Epoch 36/50\n",
      "235/235 [==============================] - 1s 5ms/step - loss: 0.0929 - val_loss: 0.0918\n",
      "Epoch 37/50\n",
      "235/235 [==============================] - 1s 5ms/step - loss: 0.0929 - val_loss: 0.0918\n",
      "Epoch 38/50\n",
      "235/235 [==============================] - 1s 5ms/step - loss: 0.0929 - val_loss: 0.0917\n",
      "Epoch 39/50\n",
      "235/235 [==============================] - 1s 5ms/step - loss: 0.0929 - val_loss: 0.0917\n",
      "Epoch 40/50\n",
      "235/235 [==============================] - 1s 5ms/step - loss: 0.0928 - val_loss: 0.0917\n",
      "Epoch 41/50\n",
      "235/235 [==============================] - 1s 5ms/step - loss: 0.0928 - val_loss: 0.0918\n",
      "Epoch 42/50\n",
      "235/235 [==============================] - 1s 5ms/step - loss: 0.0928 - val_loss: 0.0917\n",
      "Epoch 43/50\n",
      "235/235 [==============================] - 1s 5ms/step - loss: 0.0928 - val_loss: 0.0916\n",
      "Epoch 44/50\n",
      "235/235 [==============================] - 1s 5ms/step - loss: 0.0928 - val_loss: 0.0917\n",
      "Epoch 45/50\n",
      "235/235 [==============================] - 1s 5ms/step - loss: 0.0928 - val_loss: 0.0916\n",
      "Epoch 46/50\n",
      "235/235 [==============================] - 1s 5ms/step - loss: 0.0927 - val_loss: 0.0916\n",
      "Epoch 47/50\n",
      "235/235 [==============================] - 1s 5ms/step - loss: 0.0927 - val_loss: 0.0916\n",
      "Epoch 48/50\n",
      "235/235 [==============================] - 1s 5ms/step - loss: 0.0927 - val_loss: 0.0916\n",
      "Epoch 49/50\n",
      "235/235 [==============================] - 1s 5ms/step - loss: 0.0927 - val_loss: 0.0916\n",
      "Epoch 50/50\n",
      "235/235 [==============================] - 1s 5ms/step - loss: 0.0927 - val_loss: 0.0915\n"
     ]
    },
    {
     "data": {
      "text/plain": [
       "<keras.callbacks.History at 0x115a37c6df0>"
      ]
     },
     "execution_count": 5,
     "metadata": {},
     "output_type": "execute_result"
    }
   ],
   "source": [
    "# Trening\n",
    "autoencoder.fit(x_train, x_train, epochs=50, batch_size=256, shuffle=True, validation_data=(x_test, x_test))"
   ]
  },
  {
   "cell_type": "code",
   "execution_count": 6,
   "id": "cd9f0752",
   "metadata": {},
   "outputs": [],
   "source": [
    "# Generujemy obrazy:\n",
    "encoded_imgs = encoder.predict(x_test)\n",
    "decoded_imgs = decoder.predict(encoded_imgs)"
   ]
  },
  {
   "cell_type": "code",
   "execution_count": 7,
   "id": "9e7bb6fc",
   "metadata": {},
   "outputs": [
    {
     "data": {
      "image/png": "[encoded data removed]",
      "text/plain": [
       "<Figure size 1440x288 with 20 Axes>"
      ]
     },
     "metadata": {
      "needs_background": "light"
     },
     "output_type": "display_data"
    }
   ],
   "source": [
    "n = 10  # How many digits we will display\n",
    "plt.figure(figsize=(20, 4))\n",
    "for i in range(n):\n",
    "    # Display original\n",
    "    ax = plt.subplot(2, n, i + 1)\n",
    "    plt.imshow(x_test[i].reshape(28, 28))\n",
    "    ax.get_xaxis().set_visible(False)\n",
    "    ax.get_yaxis().set_visible(False)\n",
    "    \n",
    "    # Display reconstruction\n",
    "    ax = plt.subplot(2, n, i + 1 + n)\n",
    "    plt.imshow(decoded_imgs[i].reshape(28, 28))\n",
    "    ax.get_xaxis().set_visible(False)\n",
    "    ax.get_yaxis().set_visible(False)\n",
    "plt.show()"
   ]
  },
  {
   "cell_type": "markdown",
   "id": "a0474d62",
   "metadata": {},
   "source": [
    "Tak wyglądają zakodowane obiekty:"
   ]
  },
  {
   "cell_type": "code",
   "execution_count": 8,
   "id": "7bf0a58f",
   "metadata": {},
   "outputs": [
    {
     "data": {
      "image/png": "[encoded data removed]",
      "text/plain": [
       "<Figure size 7200x288 with 10 Axes>"
      ]
     },
     "metadata": {
      "needs_background": "light"
     },
     "output_type": "display_data"
    }
   ],
   "source": [
    "n = 10  # How many digits we will display\n",
    "plt.figure(figsize=(100, 4))\n",
    "for i in range(n):\n",
    "    # Display original\n",
    "    ax = plt.subplot(n, 1, i + 1)\n",
    "    plt.imshow(encoded_imgs[i].reshape(1, -1))\n",
    "    ax.get_xaxis().set_visible(False)\n",
    "    ax.get_yaxis().set_visible(False)"
   ]
  },
  {
   "cell_type": "markdown",
   "id": "3245ba07",
   "metadata": {},
   "source": [
    "## 2.2 Dodatkowe ograniczenie dla enkodera\n",
    "\n",
    "W poprzednim przykładzie jedynym ograniczeniem jakie narzuciliśmy było ograniczenie liczby perceptronów w ukrytej warstwie (32). W takie sytuacji otrzymujemy zwykle przybliżenie PCA, za pomocą którego również można uogólniać obrazy. W celu dodatkowego ograczania szczegółowości kodowania można narzucić regularyzację w warstwie kodującej. W ten sposób można zwiększyć rzadkość w warstwie kodującej czyli zwiększyć kompresję informacji względem PCA."
   ]
  },
  {
   "cell_type": "code",
   "execution_count": 9,
   "id": "67398fef",
   "metadata": {
    "scrolled": true
   },
   "outputs": [
    {
     "name": "stdout",
     "output_type": "stream",
     "text": [
      "Epoch 1/100\n",
      "235/235 [==============================] - 2s 5ms/step - loss: 0.2866 - val_loss: 0.1983\n",
      "Epoch 2/100\n",
      "235/235 [==============================] - 1s 5ms/step - loss: 0.1789 - val_loss: 0.1621\n",
      "Epoch 3/100\n",
      "235/235 [==============================] - 1s 5ms/step - loss: 0.1532 - val_loss: 0.1433\n",
      "Epoch 4/100\n",
      "235/235 [==============================] - 1s 5ms/step - loss: 0.1384 - val_loss: 0.1317\n",
      "Epoch 5/100\n",
      "235/235 [==============================] - 1s 5ms/step - loss: 0.1286 - val_loss: 0.1234\n",
      "Epoch 6/100\n",
      "235/235 [==============================] - 1s 5ms/step - loss: 0.1215 - val_loss: 0.1174\n",
      "Epoch 7/100\n",
      "235/235 [==============================] - 1s 5ms/step - loss: 0.1165 - val_loss: 0.1132\n",
      "Epoch 8/100\n",
      "235/235 [==============================] - 1s 5ms/step - loss: 0.1129 - val_loss: 0.1104\n",
      "Epoch 9/100\n",
      "235/235 [==============================] - 1s 5ms/step - loss: 0.1105 - val_loss: 0.1083\n",
      "Epoch 10/100\n",
      "235/235 [==============================] - 1s 5ms/step - loss: 0.1089 - val_loss: 0.1070\n",
      "Epoch 11/100\n",
      "235/235 [==============================] - 1s 5ms/step - loss: 0.1077 - val_loss: 0.1060\n",
      "Epoch 12/100\n",
      "235/235 [==============================] - 1s 5ms/step - loss: 0.1068 - val_loss: 0.1052\n",
      "Epoch 13/100\n",
      "235/235 [==============================] - 1s 5ms/step - loss: 0.1061 - val_loss: 0.1046\n",
      "Epoch 14/100\n",
      "235/235 [==============================] - 1s 5ms/step - loss: 0.1055 - val_loss: 0.1041\n",
      "Epoch 15/100\n",
      "235/235 [==============================] - 1s 6ms/step - loss: 0.1049 - val_loss: 0.1037\n",
      "Epoch 16/100\n",
      "235/235 [==============================] - 1s 5ms/step - loss: 0.1045 - val_loss: 0.1031\n",
      "Epoch 17/100\n",
      "235/235 [==============================] - 1s 5ms/step - loss: 0.1041 - val_loss: 0.1027\n",
      "Epoch 18/100\n",
      "235/235 [==============================] - 1s 5ms/step - loss: 0.1037 - val_loss: 0.1024\n",
      "Epoch 19/100\n",
      "235/235 [==============================] - 1s 5ms/step - loss: 0.1034 - val_loss: 0.1021\n",
      "Epoch 20/100\n",
      "235/235 [==============================] - 1s 5ms/step - loss: 0.1031 - val_loss: 0.1018\n",
      "Epoch 21/100\n",
      "235/235 [==============================] - 1s 5ms/step - loss: 0.1028 - val_loss: 0.1016\n",
      "Epoch 22/100\n",
      "235/235 [==============================] - 1s 5ms/step - loss: 0.1025 - val_loss: 0.1013\n",
      "Epoch 23/100\n",
      "235/235 [==============================] - 1s 5ms/step - loss: 0.1023 - val_loss: 0.1011\n",
      "Epoch 24/100\n",
      "235/235 [==============================] - 1s 5ms/step - loss: 0.1021 - val_loss: 0.1009\n",
      "Epoch 25/100\n",
      "235/235 [==============================] - 1s 5ms/step - loss: 0.1019 - val_loss: 0.1008\n",
      "Epoch 26/100\n",
      "235/235 [==============================] - 1s 5ms/step - loss: 0.1017 - val_loss: 0.1006\n",
      "Epoch 27/100\n",
      "235/235 [==============================] - 1s 5ms/step - loss: 0.1015 - val_loss: 0.1003\n",
      "Epoch 28/100\n",
      "235/235 [==============================] - 1s 5ms/step - loss: 0.1013 - val_loss: 0.1002\n",
      "Epoch 29/100\n",
      "235/235 [==============================] - 1s 5ms/step - loss: 0.1012 - val_loss: 0.1000\n",
      "Epoch 30/100\n",
      "235/235 [==============================] - 1s 5ms/step - loss: 0.1010 - val_loss: 0.0998\n",
      "Epoch 31/100\n",
      "235/235 [==============================] - 1s 5ms/step - loss: 0.1008 - val_loss: 0.0997\n",
      "Epoch 32/100\n",
      "235/235 [==============================] - 1s 5ms/step - loss: 0.1007 - val_loss: 0.0996\n",
      "Epoch 33/100\n",
      "235/235 [==============================] - 1s 5ms/step - loss: 0.1006 - val_loss: 0.0994\n",
      "Epoch 34/100\n",
      "235/235 [==============================] - 1s 5ms/step - loss: 0.1004 - val_loss: 0.0994\n",
      "Epoch 35/100\n",
      "235/235 [==============================] - 1s 5ms/step - loss: 0.1003 - val_loss: 0.0993\n",
      "Epoch 36/100\n",
      "235/235 [==============================] - 1s 5ms/step - loss: 0.1002 - val_loss: 0.0991\n",
      "Epoch 37/100\n",
      "235/235 [==============================] - 1s 5ms/step - loss: 0.1001 - val_loss: 0.0990\n",
      "Epoch 38/100\n",
      "235/235 [==============================] - 1s 5ms/step - loss: 0.1000 - val_loss: 0.0989\n",
      "Epoch 39/100\n",
      "235/235 [==============================] - 1s 5ms/step - loss: 0.0999 - val_loss: 0.0989\n",
      "Epoch 40/100\n",
      "235/235 [==============================] - 1s 5ms/step - loss: 0.0998 - val_loss: 0.0987\n",
      "Epoch 41/100\n",
      "235/235 [==============================] - 1s 5ms/step - loss: 0.0997 - val_loss: 0.0986\n",
      "Epoch 42/100\n",
      "235/235 [==============================] - 1s 5ms/step - loss: 0.0996 - val_loss: 0.0985\n",
      "Epoch 43/100\n",
      "235/235 [==============================] - 1s 5ms/step - loss: 0.0995 - val_loss: 0.0984\n",
      "Epoch 44/100\n",
      "235/235 [==============================] - 1s 5ms/step - loss: 0.0994 - val_loss: 0.0983\n",
      "Epoch 45/100\n",
      "235/235 [==============================] - 1s 5ms/step - loss: 0.0993 - val_loss: 0.0982\n",
      "Epoch 46/100\n",
      "235/235 [==============================] - 1s 5ms/step - loss: 0.0992 - val_loss: 0.0982\n",
      "Epoch 47/100\n",
      "235/235 [==============================] - 1s 5ms/step - loss: 0.0992 - val_loss: 0.0981\n",
      "Epoch 48/100\n",
      "235/235 [==============================] - 1s 5ms/step - loss: 0.0991 - val_loss: 0.0980\n",
      "Epoch 49/100\n",
      "235/235 [==============================] - 1s 5ms/step - loss: 0.0990 - val_loss: 0.0980\n",
      "Epoch 50/100\n",
      "235/235 [==============================] - 1s 5ms/step - loss: 0.0989 - val_loss: 0.0979\n",
      "Epoch 51/100\n",
      "235/235 [==============================] - 1s 5ms/step - loss: 0.0989 - val_loss: 0.0978\n",
      "Epoch 52/100\n",
      "235/235 [==============================] - 1s 5ms/step - loss: 0.0988 - val_loss: 0.0978\n",
      "Epoch 53/100\n",
      "235/235 [==============================] - 1s 5ms/step - loss: 0.0987 - val_loss: 0.0977\n",
      "Epoch 54/100\n",
      "235/235 [==============================] - 1s 5ms/step - loss: 0.0987 - val_loss: 0.0977\n",
      "Epoch 55/100\n",
      "235/235 [==============================] - 1s 5ms/step - loss: 0.0986 - val_loss: 0.0975\n",
      "Epoch 56/100\n",
      "235/235 [==============================] - 1s 5ms/step - loss: 0.0985 - val_loss: 0.0975\n",
      "Epoch 57/100\n",
      "235/235 [==============================] - 1s 5ms/step - loss: 0.0985 - val_loss: 0.0975\n",
      "Epoch 58/100\n",
      "235/235 [==============================] - 1s 5ms/step - loss: 0.0984 - val_loss: 0.0974\n",
      "Epoch 59/100\n",
      "235/235 [==============================] - 1s 5ms/step - loss: 0.0984 - val_loss: 0.0973\n",
      "Epoch 60/100\n",
      "235/235 [==============================] - 1s 5ms/step - loss: 0.0983 - val_loss: 0.0973\n",
      "Epoch 61/100\n",
      "235/235 [==============================] - 1s 5ms/step - loss: 0.0983 - val_loss: 0.0973\n",
      "Epoch 62/100\n",
      "235/235 [==============================] - 1s 5ms/step - loss: 0.0982 - val_loss: 0.0972\n",
      "Epoch 63/100\n",
      "235/235 [==============================] - 1s 5ms/step - loss: 0.0982 - val_loss: 0.0972\n",
      "Epoch 64/100\n",
      "235/235 [==============================] - 1s 5ms/step - loss: 0.0981 - val_loss: 0.0971\n",
      "Epoch 65/100\n",
      "235/235 [==============================] - 1s 5ms/step - loss: 0.0981 - val_loss: 0.0971\n",
      "Epoch 66/100\n",
      "235/235 [==============================] - 1s 5ms/step - loss: 0.0980 - val_loss: 0.0970\n",
      "Epoch 67/100\n",
      "235/235 [==============================] - 1s 5ms/step - loss: 0.0980 - val_loss: 0.0969\n",
      "Epoch 68/100\n",
      "235/235 [==============================] - 1s 5ms/step - loss: 0.0979 - val_loss: 0.0969\n",
      "Epoch 69/100\n",
      "235/235 [==============================] - 1s 5ms/step - loss: 0.0979 - val_loss: 0.0970\n",
      "Epoch 70/100\n",
      "235/235 [==============================] - 1s 5ms/step - loss: 0.0978 - val_loss: 0.0968\n",
      "Epoch 71/100\n",
      "235/235 [==============================] - 1s 5ms/step - loss: 0.0978 - val_loss: 0.0968\n",
      "Epoch 72/100\n",
      "235/235 [==============================] - 1s 5ms/step - loss: 0.0977 - val_loss: 0.0967\n",
      "Epoch 73/100\n",
      "235/235 [==============================] - 1s 5ms/step - loss: 0.0977 - val_loss: 0.0967\n",
      "Epoch 74/100\n",
      "235/235 [==============================] - 1s 5ms/step - loss: 0.0976 - val_loss: 0.0966\n",
      "Epoch 75/100\n",
      "235/235 [==============================] - 1s 5ms/step - loss: 0.0976 - val_loss: 0.0967\n",
      "Epoch 76/100\n",
      "235/235 [==============================] - 1s 5ms/step - loss: 0.0976 - val_loss: 0.0966\n",
      "Epoch 77/100\n",
      "235/235 [==============================] - 1s 5ms/step - loss: 0.0975 - val_loss: 0.0966\n",
      "Epoch 78/100\n",
      "235/235 [==============================] - 1s 5ms/step - loss: 0.0975 - val_loss: 0.0966\n",
      "Epoch 79/100\n",
      "235/235 [==============================] - 1s 5ms/step - loss: 0.0975 - val_loss: 0.0965\n",
      "Epoch 80/100\n",
      "235/235 [==============================] - 1s 5ms/step - loss: 0.0974 - val_loss: 0.0965\n",
      "Epoch 81/100\n",
      "235/235 [==============================] - 1s 5ms/step - loss: 0.0974 - val_loss: 0.0965\n",
      "Epoch 82/100\n",
      "235/235 [==============================] - 1s 5ms/step - loss: 0.0973 - val_loss: 0.0964\n",
      "Epoch 83/100\n",
      "235/235 [==============================] - 1s 5ms/step - loss: 0.0973 - val_loss: 0.0963\n",
      "Epoch 84/100\n",
      "235/235 [==============================] - 1s 4ms/step - loss: 0.0973 - val_loss: 0.0964\n",
      "Epoch 85/100\n",
      "235/235 [==============================] - 1s 5ms/step - loss: 0.0972 - val_loss: 0.0963\n",
      "Epoch 86/100\n",
      "235/235 [==============================] - 1s 5ms/step - loss: 0.0972 - val_loss: 0.0962\n",
      "Epoch 87/100\n",
      "235/235 [==============================] - 1s 5ms/step - loss: 0.0972 - val_loss: 0.0962\n",
      "Epoch 88/100\n",
      "235/235 [==============================] - 1s 5ms/step - loss: 0.0971 - val_loss: 0.0962\n",
      "Epoch 89/100\n",
      "235/235 [==============================] - 1s 5ms/step - loss: 0.0971 - val_loss: 0.0961\n",
      "Epoch 90/100\n",
      "235/235 [==============================] - 1s 5ms/step - loss: 0.0971 - val_loss: 0.0961\n",
      "Epoch 91/100\n",
      "235/235 [==============================] - 1s 5ms/step - loss: 0.0970 - val_loss: 0.0961\n",
      "Epoch 92/100\n",
      "235/235 [==============================] - 1s 5ms/step - loss: 0.0970 - val_loss: 0.0961\n",
      "Epoch 93/100\n",
      "235/235 [==============================] - 1s 5ms/step - loss: 0.0970 - val_loss: 0.0960\n",
      "Epoch 94/100\n",
      "235/235 [==============================] - 1s 5ms/step - loss: 0.0970 - val_loss: 0.0961\n",
      "Epoch 95/100\n",
      "235/235 [==============================] - 1s 5ms/step - loss: 0.0969 - val_loss: 0.0960\n",
      "Epoch 96/100\n",
      "235/235 [==============================] - 1s 5ms/step - loss: 0.0969 - val_loss: 0.0960\n",
      "Epoch 97/100\n",
      "235/235 [==============================] - 1s 5ms/step - loss: 0.0969 - val_loss: 0.0960\n",
      "Epoch 98/100\n",
      "235/235 [==============================] - 1s 5ms/step - loss: 0.0968 - val_loss: 0.0958\n",
      "Epoch 99/100\n",
      "235/235 [==============================] - 1s 5ms/step - loss: 0.0968 - val_loss: 0.0958\n",
      "Epoch 100/100\n",
      "235/235 [==============================] - 1s 5ms/step - loss: 0.0968 - val_loss: 0.0959\n"
     ]
    },
    {
     "data": {
      "text/plain": [
       "<keras.callbacks.History at 0x115acde0b50>"
      ]
     },
     "execution_count": 9,
     "metadata": {},
     "output_type": "execute_result"
    }
   ],
   "source": [
    "# Architektura\n",
    "input_img = keras.Input(shape=(784,))\n",
    "encoded = layers.Dense(encoding_dim, activation='relu',\n",
    "                activity_regularizer=regularizers.l1(10e-5))(input_img)\n",
    "decoded = layers.Dense(784, activation='sigmoid')(encoded)\n",
    "autoencoder = keras.Model(input_img, decoded)\n",
    "# Kompilacja\n",
    "autoencoder.compile(optimizer='Adam', loss='binary_crossentropy')\n",
    "# Trening\n",
    "autoencoder.fit(x_train, x_train, epochs=100, batch_size=256, shuffle=True, validation_data=(x_test, x_test))"
   ]
  },
  {
   "cell_type": "code",
   "execution_count": 10,
   "id": "02c50601",
   "metadata": {},
   "outputs": [
    {
     "data": {
      "text/plain": [
       "8.556738"
      ]
     },
     "execution_count": 10,
     "metadata": {},
     "output_type": "execute_result"
    }
   ],
   "source": [
    "# Średnia wartosci w poprzednich prognozach\n",
    "encoded_imgs.mean()"
   ]
  },
  {
   "cell_type": "code",
   "execution_count": 11,
   "id": "ef3c99e4",
   "metadata": {},
   "outputs": [],
   "source": [
    "# Generujemy obrazy:\n",
    "encoded_imgs = encoder.predict(x_test)\n",
    "decoded_imgs = decoder.predict(encoded_imgs)"
   ]
  },
  {
   "cell_type": "code",
   "execution_count": 12,
   "id": "e0335d22",
   "metadata": {},
   "outputs": [
    {
     "data": {
      "text/plain": [
       "8.556738"
      ]
     },
     "execution_count": 12,
     "metadata": {},
     "output_type": "execute_result"
    }
   ],
   "source": [
    "# Średnia wartosci w nowych prognozach\n",
    "encoded_imgs.mean()"
   ]
  },
  {
   "cell_type": "code",
   "execution_count": 13,
   "id": "51f9c6f3",
   "metadata": {},
   "outputs": [
    {
     "data": {
      "image/png": "[encoded data removed]",
      "text/plain": [
       "<Figure size 1440x288 with 20 Axes>"
      ]
     },
     "metadata": {
      "needs_background": "light"
     },
     "output_type": "display_data"
    }
   ],
   "source": [
    "# A sama transformacja bardzo zbliżona\n",
    "n = 10  \n",
    "plt.figure(figsize=(20, 4))\n",
    "for i in range(n):\n",
    "    # Display original\n",
    "    ax = plt.subplot(2, n, i + 1)\n",
    "    plt.imshow(x_test[i].reshape(28, 28))\n",
    "    ax.get_xaxis().set_visible(False)\n",
    "    ax.get_yaxis().set_visible(False)\n",
    "    \n",
    "    # Display reconstruction\n",
    "    ax = plt.subplot(2, n, i + 1 + n)\n",
    "    plt.imshow(decoded_imgs[i].reshape(28, 28))\n",
    "    ax.get_xaxis().set_visible(False)\n",
    "    ax.get_yaxis().set_visible(False)\n",
    "plt.show()"
   ]
  },
  {
   "cell_type": "markdown",
   "id": "d7f8bc9c",
   "metadata": {},
   "source": [
    "## 2.3 Deep autoencoder\n",
    "\n",
    "Wykonajmy teraz encoder z dwie dodatkowymi warstwami kodującymi i rozkodowującymi."
   ]
  },
  {
   "cell_type": "code",
   "execution_count": 14,
   "id": "74d5f398",
   "metadata": {},
   "outputs": [],
   "source": [
    "input_img = keras.Input(shape=(784,))\n",
    "encoded = layers.Dense(128, activation='relu')(input_img)\n",
    "encoded = layers.Dense(64, activation='relu')(encoded)\n",
    "encoded = layers.Dense(32, activation='relu')(encoded)\n",
    "\n",
    "decoded = layers.Dense(64, activation='relu')(encoded)\n",
    "decoded = layers.Dense(128, activation='relu')(decoded)\n",
    "decoded = layers.Dense(784, activation='sigmoid')(decoded)"
   ]
  },
  {
   "cell_type": "code",
   "execution_count": 15,
   "id": "446680a7",
   "metadata": {},
   "outputs": [
    {
     "name": "stdout",
     "output_type": "stream",
     "text": [
      "Epoch 1/100\n",
      "235/235 [==============================] - 2s 7ms/step - loss: 0.2417 - val_loss: 0.1596\n",
      "Epoch 2/100\n",
      "235/235 [==============================] - 2s 7ms/step - loss: 0.1456 - val_loss: 0.1334\n",
      "Epoch 3/100\n",
      "235/235 [==============================] - 2s 7ms/step - loss: 0.1282 - val_loss: 0.1202\n",
      "Epoch 4/100\n",
      "235/235 [==============================] - 2s 7ms/step - loss: 0.1180 - val_loss: 0.1134\n",
      "Epoch 5/100\n",
      "235/235 [==============================] - 2s 7ms/step - loss: 0.1126 - val_loss: 0.1089\n",
      "Epoch 6/100\n",
      "235/235 [==============================] - 2s 7ms/step - loss: 0.1084 - val_loss: 0.1056\n",
      "Epoch 7/100\n",
      "235/235 [==============================] - 2s 7ms/step - loss: 0.1054 - val_loss: 0.1033\n",
      "Epoch 8/100\n",
      "235/235 [==============================] - 2s 7ms/step - loss: 0.1030 - val_loss: 0.1016\n",
      "Epoch 9/100\n",
      "235/235 [==============================] - 2s 7ms/step - loss: 0.1010 - val_loss: 0.0995\n",
      "Epoch 10/100\n",
      "235/235 [==============================] - 2s 7ms/step - loss: 0.0994 - val_loss: 0.0975\n",
      "Epoch 11/100\n",
      "235/235 [==============================] - 2s 7ms/step - loss: 0.0978 - val_loss: 0.0958\n",
      "Epoch 12/100\n",
      "235/235 [==============================] - 2s 7ms/step - loss: 0.0965 - val_loss: 0.0946\n",
      "Epoch 13/100\n",
      "235/235 [==============================] - 2s 7ms/step - loss: 0.0953 - val_loss: 0.0938\n",
      "Epoch 14/100\n",
      "235/235 [==============================] - 2s 7ms/step - loss: 0.0942 - val_loss: 0.0930\n",
      "Epoch 15/100\n",
      "235/235 [==============================] - 2s 8ms/step - loss: 0.0934 - val_loss: 0.0927\n",
      "Epoch 16/100\n",
      "235/235 [==============================] - 2s 7ms/step - loss: 0.0927 - val_loss: 0.0914\n",
      "Epoch 17/100\n",
      "235/235 [==============================] - 2s 7ms/step - loss: 0.0920 - val_loss: 0.0910\n",
      "Epoch 18/100\n",
      "235/235 [==============================] - 2s 7ms/step - loss: 0.0915 - val_loss: 0.0907\n",
      "Epoch 19/100\n",
      "235/235 [==============================] - 2s 7ms/step - loss: 0.0909 - val_loss: 0.0898\n",
      "Epoch 20/100\n",
      "235/235 [==============================] - 2s 7ms/step - loss: 0.0904 - val_loss: 0.0896\n",
      "Epoch 21/100\n",
      "235/235 [==============================] - 2s 7ms/step - loss: 0.0900 - val_loss: 0.0887\n",
      "Epoch 22/100\n",
      "235/235 [==============================] - 2s 7ms/step - loss: 0.0895 - val_loss: 0.0886\n",
      "Epoch 23/100\n",
      "235/235 [==============================] - 2s 7ms/step - loss: 0.0890 - val_loss: 0.0879\n",
      "Epoch 24/100\n",
      "235/235 [==============================] - 2s 7ms/step - loss: 0.0886 - val_loss: 0.0877\n",
      "Epoch 25/100\n",
      "235/235 [==============================] - 2s 7ms/step - loss: 0.0882 - val_loss: 0.0873\n",
      "Epoch 26/100\n",
      "235/235 [==============================] - 2s 7ms/step - loss: 0.0879 - val_loss: 0.0874\n",
      "Epoch 27/100\n",
      "235/235 [==============================] - 2s 7ms/step - loss: 0.0875 - val_loss: 0.0869\n",
      "Epoch 28/100\n",
      "235/235 [==============================] - 2s 7ms/step - loss: 0.0872 - val_loss: 0.0864\n",
      "Epoch 29/100\n",
      "235/235 [==============================] - 2s 7ms/step - loss: 0.0869 - val_loss: 0.0866\n",
      "Epoch 30/100\n",
      "235/235 [==============================] - 2s 7ms/step - loss: 0.0866 - val_loss: 0.0860\n",
      "Epoch 31/100\n",
      "235/235 [==============================] - 2s 7ms/step - loss: 0.0864 - val_loss: 0.0857\n",
      "Epoch 32/100\n",
      "235/235 [==============================] - 2s 7ms/step - loss: 0.0861 - val_loss: 0.0855\n",
      "Epoch 33/100\n",
      "235/235 [==============================] - 2s 7ms/step - loss: 0.0859 - val_loss: 0.0857\n",
      "Epoch 34/100\n",
      "235/235 [==============================] - 2s 7ms/step - loss: 0.0857 - val_loss: 0.0849\n",
      "Epoch 35/100\n",
      "235/235 [==============================] - 2s 7ms/step - loss: 0.0855 - val_loss: 0.0850\n",
      "Epoch 36/100\n",
      "235/235 [==============================] - 2s 7ms/step - loss: 0.0852 - val_loss: 0.0848\n",
      "Epoch 37/100\n",
      "235/235 [==============================] - 2s 7ms/step - loss: 0.0851 - val_loss: 0.0844\n",
      "Epoch 38/100\n",
      "235/235 [==============================] - 2s 7ms/step - loss: 0.0848 - val_loss: 0.0843\n",
      "Epoch 39/100\n",
      "235/235 [==============================] - 2s 7ms/step - loss: 0.0847 - val_loss: 0.0842\n",
      "Epoch 40/100\n",
      "235/235 [==============================] - 2s 7ms/step - loss: 0.0845 - val_loss: 0.0839\n",
      "Epoch 41/100\n",
      "235/235 [==============================] - 2s 7ms/step - loss: 0.0844 - val_loss: 0.0838\n",
      "Epoch 42/100\n",
      "235/235 [==============================] - 2s 7ms/step - loss: 0.0842 - val_loss: 0.0837\n",
      "Epoch 43/100\n",
      "235/235 [==============================] - 2s 7ms/step - loss: 0.0841 - val_loss: 0.0835\n",
      "Epoch 44/100\n",
      "235/235 [==============================] - 2s 7ms/step - loss: 0.0840 - val_loss: 0.0835\n",
      "Epoch 45/100\n",
      "235/235 [==============================] - 2s 7ms/step - loss: 0.0838 - val_loss: 0.0834\n",
      "Epoch 46/100\n",
      "235/235 [==============================] - 2s 7ms/step - loss: 0.0837 - val_loss: 0.0832\n",
      "Epoch 47/100\n",
      "235/235 [==============================] - 2s 7ms/step - loss: 0.0836 - val_loss: 0.0835\n",
      "Epoch 48/100\n",
      "235/235 [==============================] - 2s 7ms/step - loss: 0.0835 - val_loss: 0.0828\n",
      "Epoch 49/100\n",
      "235/235 [==============================] - 2s 7ms/step - loss: 0.0834 - val_loss: 0.0829\n",
      "Epoch 50/100\n",
      "235/235 [==============================] - 2s 7ms/step - loss: 0.0833 - val_loss: 0.0829\n",
      "Epoch 51/100\n",
      "235/235 [==============================] - 2s 7ms/step - loss: 0.0832 - val_loss: 0.0830\n",
      "Epoch 52/100\n",
      "235/235 [==============================] - 2s 7ms/step - loss: 0.0831 - val_loss: 0.0826\n",
      "Epoch 53/100\n",
      "235/235 [==============================] - 2s 7ms/step - loss: 0.0831 - val_loss: 0.0827\n",
      "Epoch 54/100\n",
      "235/235 [==============================] - 2s 7ms/step - loss: 0.0830 - val_loss: 0.0826\n",
      "Epoch 55/100\n",
      "235/235 [==============================] - 2s 7ms/step - loss: 0.0829 - val_loss: 0.0824\n",
      "Epoch 56/100\n",
      "235/235 [==============================] - 2s 7ms/step - loss: 0.0828 - val_loss: 0.0824\n",
      "Epoch 57/100\n",
      "235/235 [==============================] - 2s 7ms/step - loss: 0.0828 - val_loss: 0.0822\n",
      "Epoch 58/100\n",
      "235/235 [==============================] - 2s 7ms/step - loss: 0.0827 - val_loss: 0.0823\n",
      "Epoch 59/100\n",
      "235/235 [==============================] - 2s 7ms/step - loss: 0.0826 - val_loss: 0.0822\n",
      "Epoch 60/100\n",
      "235/235 [==============================] - 2s 7ms/step - loss: 0.0826 - val_loss: 0.0822\n",
      "Epoch 61/100\n",
      "235/235 [==============================] - 2s 7ms/step - loss: 0.0826 - val_loss: 0.0822\n",
      "Epoch 62/100\n",
      "235/235 [==============================] - 2s 7ms/step - loss: 0.0825 - val_loss: 0.0827\n",
      "Epoch 63/100\n",
      "235/235 [==============================] - 2s 7ms/step - loss: 0.0824 - val_loss: 0.0820\n",
      "Epoch 64/100\n",
      "235/235 [==============================] - 2s 7ms/step - loss: 0.0823 - val_loss: 0.0820\n",
      "Epoch 65/100\n",
      "235/235 [==============================] - 2s 7ms/step - loss: 0.0823 - val_loss: 0.0820\n",
      "Epoch 66/100\n",
      "235/235 [==============================] - 2s 7ms/step - loss: 0.0822 - val_loss: 0.0820\n",
      "Epoch 67/100\n",
      "235/235 [==============================] - 2s 7ms/step - loss: 0.0822 - val_loss: 0.0819\n",
      "Epoch 68/100\n",
      "235/235 [==============================] - 2s 7ms/step - loss: 0.0821 - val_loss: 0.0823\n",
      "Epoch 69/100\n",
      "235/235 [==============================] - 2s 7ms/step - loss: 0.0821 - val_loss: 0.0819\n",
      "Epoch 70/100\n",
      "235/235 [==============================] - 2s 7ms/step - loss: 0.0820 - val_loss: 0.0817\n",
      "Epoch 71/100\n",
      "235/235 [==============================] - 2s 7ms/step - loss: 0.0820 - val_loss: 0.0817\n",
      "Epoch 72/100\n",
      "235/235 [==============================] - 2s 7ms/step - loss: 0.0820 - val_loss: 0.0818\n",
      "Epoch 73/100\n",
      "235/235 [==============================] - 2s 7ms/step - loss: 0.0819 - val_loss: 0.0814\n",
      "Epoch 74/100\n",
      "235/235 [==============================] - 2s 7ms/step - loss: 0.0818 - val_loss: 0.0816\n",
      "Epoch 75/100\n",
      "235/235 [==============================] - 2s 9ms/step - loss: 0.0818 - val_loss: 0.0816\n",
      "Epoch 76/100\n",
      "235/235 [==============================] - 175s 747ms/step - loss: 0.0817 - val_loss: 0.0815\n",
      "Epoch 77/100\n",
      "235/235 [==============================] - 2s 10ms/step - loss: 0.0817 - val_loss: 0.0815\n",
      "Epoch 78/100\n",
      "235/235 [==============================] - 2s 8ms/step - loss: 0.0817 - val_loss: 0.0815\n",
      "Epoch 79/100\n",
      "235/235 [==============================] - 2s 7ms/step - loss: 0.0817 - val_loss: 0.0812\n",
      "Epoch 80/100\n",
      "235/235 [==============================] - 2s 7ms/step - loss: 0.0816 - val_loss: 0.0815\n",
      "Epoch 81/100\n",
      "235/235 [==============================] - 2s 7ms/step - loss: 0.0816 - val_loss: 0.0815\n",
      "Epoch 82/100\n",
      "235/235 [==============================] - 2s 7ms/step - loss: 0.0816 - val_loss: 0.0813\n",
      "Epoch 83/100\n",
      "235/235 [==============================] - 2s 7ms/step - loss: 0.0815 - val_loss: 0.0813\n",
      "Epoch 84/100\n",
      "235/235 [==============================] - 2s 7ms/step - loss: 0.0815 - val_loss: 0.0813\n",
      "Epoch 85/100\n",
      "235/235 [==============================] - 2s 7ms/step - loss: 0.0815 - val_loss: 0.0812\n",
      "Epoch 86/100\n",
      "235/235 [==============================] - 2s 7ms/step - loss: 0.0814 - val_loss: 0.0811\n",
      "Epoch 87/100\n",
      "235/235 [==============================] - 2s 7ms/step - loss: 0.0814 - val_loss: 0.0812\n",
      "Epoch 88/100\n",
      "235/235 [==============================] - 2s 7ms/step - loss: 0.0814 - val_loss: 0.0812\n",
      "Epoch 89/100\n",
      "235/235 [==============================] - 2s 7ms/step - loss: 0.0813 - val_loss: 0.0811\n",
      "Epoch 90/100\n",
      "235/235 [==============================] - 2s 7ms/step - loss: 0.0813 - val_loss: 0.0814\n",
      "Epoch 91/100\n",
      "235/235 [==============================] - 2s 7ms/step - loss: 0.0813 - val_loss: 0.0811\n",
      "Epoch 92/100\n",
      "235/235 [==============================] - 2s 7ms/step - loss: 0.0812 - val_loss: 0.0811\n",
      "Epoch 93/100\n",
      "235/235 [==============================] - 2s 7ms/step - loss: 0.0813 - val_loss: 0.0811\n",
      "Epoch 94/100\n",
      "235/235 [==============================] - 2s 7ms/step - loss: 0.0812 - val_loss: 0.0810\n",
      "Epoch 95/100\n",
      "235/235 [==============================] - 2s 7ms/step - loss: 0.0812 - val_loss: 0.0812\n",
      "Epoch 96/100\n",
      "235/235 [==============================] - 2s 7ms/step - loss: 0.0812 - val_loss: 0.0810\n",
      "Epoch 97/100\n",
      "235/235 [==============================] - 2s 7ms/step - loss: 0.0812 - val_loss: 0.0808\n",
      "Epoch 98/100\n",
      "235/235 [==============================] - 2s 7ms/step - loss: 0.0811 - val_loss: 0.0810\n",
      "Epoch 99/100\n",
      "235/235 [==============================] - 2s 7ms/step - loss: 0.0811 - val_loss: 0.0808\n",
      "Epoch 100/100\n",
      "235/235 [==============================] - 2s 7ms/step - loss: 0.0811 - val_loss: 0.0810\n"
     ]
    },
    {
     "data": {
      "text/plain": [
       "<keras.callbacks.History at 0x115acd2eee0>"
      ]
     },
     "execution_count": 15,
     "metadata": {},
     "output_type": "execute_result"
    }
   ],
   "source": [
    "autoencoder = keras.Model(input_img, decoded)\n",
    "autoencoder.compile(optimizer='adam', loss='binary_crossentropy')\n",
    "\n",
    "autoencoder.fit(x_train, x_train,\n",
    "                epochs=100,\n",
    "                batch_size=256,\n",
    "                shuffle=True,\n",
    "                validation_data=(x_test, x_test))\n"
   ]
  },
  {
   "cell_type": "markdown",
   "id": "0469e8f3",
   "metadata": {},
   "source": [
    "Osiągnęliśmy lepsze dopasowanie. Popatrzmy na wizualizację wyników:"
   ]
  },
  {
   "cell_type": "code",
   "execution_count": 16,
   "id": "19006429",
   "metadata": {},
   "outputs": [],
   "source": [
    "# Generujemy obrazy:\n",
    "encoded_imgs = encoder.predict(x_test)\n",
    "decoded_imgs = decoder.predict(encoded_imgs)"
   ]
  },
  {
   "cell_type": "code",
   "execution_count": 17,
   "id": "a6583e50",
   "metadata": {},
   "outputs": [
    {
     "data": {
      "image/png": "[encoded data removed]",
      "text/plain": [
       "<Figure size 1440x288 with 20 Axes>"
      ]
     },
     "metadata": {
      "needs_background": "light"
     },
     "output_type": "display_data"
    }
   ],
   "source": [
    "# A sama transformacja bardzo zbliżona\n",
    "n = 10  \n",
    "plt.figure(figsize=(20, 4))\n",
    "for i in range(n):\n",
    "    # Display original\n",
    "    ax = plt.subplot(2, n, i + 1)\n",
    "    plt.imshow(x_test[i].reshape(28, 28))\n",
    "    ax.get_xaxis().set_visible(False)\n",
    "    ax.get_yaxis().set_visible(False)\n",
    "    \n",
    "    # Display reconstruction\n",
    "    ax = plt.subplot(2, n, i + 1 + n)\n",
    "    plt.imshow(decoded_imgs[i].reshape(28, 28))\n",
    "    ax.get_xaxis().set_visible(False)\n",
    "    ax.get_yaxis().set_visible(False)\n",
    "plt.show()"
   ]
  },
  {
   "cell_type": "markdown",
   "id": "c5cf257e",
   "metadata": {},
   "source": [
    "## 2.4 Convolutional autoencoder\n",
    "\n",
    "Ponieważ znamy sieci konwolucyjne, spójrzmy na przykład wykorzystania filtrów w autoencoderach."
   ]
  },
  {
   "cell_type": "code",
   "execution_count": 18,
   "id": "801f11b0",
   "metadata": {},
   "outputs": [
    {
     "name": "stdout",
     "output_type": "stream",
     "text": [
      "Model: \"model_5\"\n",
      "_________________________________________________________________\n",
      " Layer (type)                Output Shape              Param #   \n",
      "=================================================================\n",
      " input_5 (InputLayer)        [(None, 28, 28, 1)]       0         \n",
      "                                                                 \n",
      " conv2d (Conv2D)             (None, 28, 28, 16)        160       \n",
      "                                                                 \n",
      " max_pooling2d (MaxPooling2D  (None, 14, 14, 16)       0         \n",
      " )                                                               \n",
      "                                                                 \n",
      " conv2d_1 (Conv2D)           (None, 14, 14, 8)         1160      \n",
      "                                                                 \n",
      " max_pooling2d_1 (MaxPooling  (None, 7, 7, 8)          0         \n",
      " 2D)                                                             \n",
      "                                                                 \n",
      " conv2d_2 (Conv2D)           (None, 7, 7, 8)           584       \n",
      "                                                                 \n",
      " max_pooling2d_2 (MaxPooling  (None, 4, 4, 8)          0         \n",
      " 2D)                                                             \n",
      "                                                                 \n",
      " conv2d_3 (Conv2D)           (None, 4, 4, 8)           584       \n",
      "                                                                 \n",
      " up_sampling2d (UpSampling2D  (None, 8, 8, 8)          0         \n",
      " )                                                               \n",
      "                                                                 \n",
      " conv2d_4 (Conv2D)           (None, 8, 8, 8)           584       \n",
      "                                                                 \n",
      " up_sampling2d_1 (UpSampling  (None, 16, 16, 8)        0         \n",
      " 2D)                                                             \n",
      "                                                                 \n",
      " conv2d_5 (Conv2D)           (None, 14, 14, 16)        1168      \n",
      "                                                                 \n",
      " up_sampling2d_2 (UpSampling  (None, 28, 28, 16)       0         \n",
      " 2D)                                                             \n",
      "                                                                 \n",
      " conv2d_6 (Conv2D)           (None, 28, 28, 1)         145       \n",
      "                                                                 \n",
      "=================================================================\n",
      "Total params: 4,385\n",
      "Trainable params: 4,385\n",
      "Non-trainable params: 0\n",
      "_________________________________________________________________\n"
     ]
    }
   ],
   "source": [
    "# Architektura sieci\n",
    "input_img = keras.Input(shape=(28, 28, 1))\n",
    "\n",
    "x = layers.Conv2D(16, (3, 3), activation='relu', padding='same')(input_img)\n",
    "x = layers.MaxPooling2D((2, 2), padding='same')(x)\n",
    "x = layers.Conv2D(8, (3, 3), activation='relu', padding='same')(x)\n",
    "x = layers.MaxPooling2D((2, 2), padding='same')(x)\n",
    "x = layers.Conv2D(8, (3, 3), activation='relu', padding='same')(x)\n",
    "\n",
    "encoded = layers.MaxPooling2D((2, 2), padding='same')(x)\n",
    "\n",
    "x = layers.Conv2D(8, (3, 3), activation='relu', padding='same')(encoded)\n",
    "x = layers.UpSampling2D((2, 2))(x)\n",
    "x = layers.Conv2D(8, (3, 3), activation='relu', padding='same')(x)\n",
    "x = layers.UpSampling2D((2, 2))(x)\n",
    "x = layers.Conv2D(16, (3, 3), activation='relu')(x)\n",
    "x = layers.UpSampling2D((2, 2))(x)\n",
    "\n",
    "decoded = layers.Conv2D(1, (3, 3), activation='sigmoid', padding='same')(x)\n",
    "\n",
    "autoencoder = keras.Model(input_img, decoded)\n",
    "autoencoder.compile(optimizer='adam', loss='binary_crossentropy')\n",
    "autoencoder.summary()"
   ]
  },
  {
   "cell_type": "markdown",
   "id": "63332e5a",
   "metadata": {},
   "source": [
    "Wczytujemy jeszcze raz dane - tym razem powinny być tensorem 3D."
   ]
  },
  {
   "cell_type": "code",
   "execution_count": 19,
   "id": "1122142c",
   "metadata": {},
   "outputs": [],
   "source": [
    "(x_train, _), (x_test, _) = mnist.load_data()\n",
    "\n",
    "x_train = x_train.astype('float32') / 255.\n",
    "x_test = x_test.astype('float32') / 255.\n",
    "x_train = np.reshape(x_train, (len(x_train), 28, 28, 1))\n",
    "x_test = np.reshape(x_test, (len(x_test), 28, 28, 1))"
   ]
  },
  {
   "cell_type": "code",
   "execution_count": 20,
   "id": "7d53a860",
   "metadata": {},
   "outputs": [
    {
     "data": {
      "text/html": [
       "\n",
       "      <iframe id=\"tensorboard-frame-d1bfeec1b217ccbd\" width=\"100%\" height=\"800\" frameborder=\"0\">\n",
       "      </iframe>\n",
       "      <script>\n",
       "        (function() {\n",
       "          const frame = document.getElementById(\"tensorboard-frame-d1bfeec1b217ccbd\");\n",
       "          const url = new URL(\"/\", window.location);\n",
       "          const port = 6006;\n",
       "          if (port) {\n",
       "            url.port = port;\n",
       "          }\n",
       "          frame.src = url;\n",
       "        })();\n",
       "      </script>\n",
       "    "
      ],
      "text/plain": [
       "<IPython.core.display.HTML object>"
      ]
     },
     "metadata": {},
     "output_type": "display_data"
    }
   ],
   "source": [
    "%load_ext tensorboard\n",
    "%tensorboard --logdir='tmp'"
   ]
  },
  {
   "cell_type": "code",
   "execution_count": 21,
   "id": "1d836284",
   "metadata": {
    "scrolled": true
   },
   "outputs": [
    {
     "name": "stdout",
     "output_type": "stream",
     "text": [
      "Epoch 1/50\n",
      "469/469 [==============================] - 41s 87ms/step - loss: 0.2113 - val_loss: 0.1433\n",
      "Epoch 2/50\n",
      "469/469 [==============================] - 46s 98ms/step - loss: 0.1340 - val_loss: 0.1268\n",
      "Epoch 3/50\n",
      "469/469 [==============================] - 41s 88ms/step - loss: 0.1227 - val_loss: 0.1177\n",
      "Epoch 4/50\n",
      "469/469 [==============================] - 41s 87ms/step - loss: 0.1161 - val_loss: 0.1122\n",
      "Epoch 5/50\n",
      "469/469 [==============================] - 42s 90ms/step - loss: 0.1118 - val_loss: 0.1090\n",
      "Epoch 6/50\n",
      "469/469 [==============================] - 40s 85ms/step - loss: 0.1091 - val_loss: 0.1072\n",
      "Epoch 7/50\n",
      "469/469 [==============================] - 38s 82ms/step - loss: 0.1071 - val_loss: 0.1049\n",
      "Epoch 8/50\n",
      "469/469 [==============================] - 40s 84ms/step - loss: 0.1055 - val_loss: 0.1037\n",
      "Epoch 9/50\n",
      "469/469 [==============================] - 44s 93ms/step - loss: 0.1042 - val_loss: 0.1023\n",
      "Epoch 10/50\n",
      "469/469 [==============================] - 40s 85ms/step - loss: 0.1030 - val_loss: 0.1011\n",
      "Epoch 11/50\n",
      "469/469 [==============================] - 41s 87ms/step - loss: 0.1020 - val_loss: 0.1003\n",
      "Epoch 12/50\n",
      "469/469 [==============================] - 41s 88ms/step - loss: 0.1011 - val_loss: 0.0996\n",
      "Epoch 13/50\n",
      "469/469 [==============================] - 38s 82ms/step - loss: 0.1002 - val_loss: 0.0991\n",
      "Epoch 14/50\n",
      "469/469 [==============================] - 40s 85ms/step - loss: 0.0996 - val_loss: 0.0981\n",
      "Epoch 15/50\n",
      "469/469 [==============================] - 39s 84ms/step - loss: 0.0989 - val_loss: 0.0977\n",
      "Epoch 16/50\n",
      "469/469 [==============================] - 39s 82ms/step - loss: 0.0984 - val_loss: 0.0968\n",
      "Epoch 17/50\n",
      "469/469 [==============================] - 40s 84ms/step - loss: 0.0979 - val_loss: 0.0969\n",
      "Epoch 18/50\n",
      "469/469 [==============================] - 38s 81ms/step - loss: 0.0975 - val_loss: 0.0961\n",
      "Epoch 19/50\n",
      "469/469 [==============================] - 38s 82ms/step - loss: 0.0972 - val_loss: 0.0958\n",
      "Epoch 20/50\n",
      "469/469 [==============================] - 39s 83ms/step - loss: 0.0969 - val_loss: 0.0957\n",
      "Epoch 21/50\n",
      "469/469 [==============================] - 38s 82ms/step - loss: 0.0966 - val_loss: 0.0953\n",
      "Epoch 22/50\n",
      "469/469 [==============================] - 38s 82ms/step - loss: 0.0962 - val_loss: 0.0962\n",
      "Epoch 23/50\n",
      "469/469 [==============================] - 39s 84ms/step - loss: 0.0960 - val_loss: 0.0948\n",
      "Epoch 24/50\n",
      "469/469 [==============================] - 39s 83ms/step - loss: 0.0957 - val_loss: 0.0948\n",
      "Epoch 25/50\n",
      "469/469 [==============================] - 1663s 4s/step - loss: 0.0956 - val_loss: 0.0942\n",
      "Epoch 26/50\n",
      "469/469 [==============================] - 56s 119ms/step - loss: 0.0953 - val_loss: 0.0939\n",
      "Epoch 27/50\n",
      "469/469 [==============================] - 49s 104ms/step - loss: 0.0951 - val_loss: 0.0938\n",
      "Epoch 28/50\n",
      "469/469 [==============================] - 47s 101ms/step - loss: 0.0949 - val_loss: 0.0935\n",
      "Epoch 29/50\n",
      "469/469 [==============================] - 47s 99ms/step - loss: 0.0947 - val_loss: 0.0934\n",
      "Epoch 30/50\n",
      "469/469 [==============================] - 47s 100ms/step - loss: 0.0945 - val_loss: 0.0932\n",
      "Epoch 31/50\n",
      "469/469 [==============================] - 47s 100ms/step - loss: 0.0943 - val_loss: 0.0929\n",
      "Epoch 32/50\n",
      "469/469 [==============================] - 46s 99ms/step - loss: 0.0941 - val_loss: 0.0929\n",
      "Epoch 33/50\n",
      "469/469 [==============================] - 46s 97ms/step - loss: 0.0940 - val_loss: 0.0929\n",
      "Epoch 34/50\n",
      "469/469 [==============================] - 43s 91ms/step - loss: 0.0938 - val_loss: 0.0935\n",
      "Epoch 35/50\n",
      "469/469 [==============================] - 43s 91ms/step - loss: 0.0937 - val_loss: 0.0925\n",
      "Epoch 36/50\n",
      "469/469 [==============================] - 44s 93ms/step - loss: 0.0935 - val_loss: 0.0924\n",
      "Epoch 37/50\n",
      "469/469 [==============================] - 50s 106ms/step - loss: 0.0934 - val_loss: 0.0923\n",
      "Epoch 38/50\n",
      "469/469 [==============================] - 45s 96ms/step - loss: 0.0932 - val_loss: 0.0922\n",
      "Epoch 39/50\n",
      "469/469 [==============================] - 42s 90ms/step - loss: 0.0931 - val_loss: 0.0918\n",
      "Epoch 40/50\n",
      "469/469 [==============================] - 42s 90ms/step - loss: 0.0930 - val_loss: 0.0916\n",
      "Epoch 41/50\n",
      "469/469 [==============================] - 53s 114ms/step - loss: 0.0928 - val_loss: 0.0921\n",
      "Epoch 42/50\n",
      "469/469 [==============================] - 50s 107ms/step - loss: 0.0927 - val_loss: 0.0916\n",
      "Epoch 43/50\n",
      "469/469 [==============================] - 44s 93ms/step - loss: 0.0925 - val_loss: 0.0912\n",
      "Epoch 44/50\n",
      "469/469 [==============================] - 47s 99ms/step - loss: 0.0924 - val_loss: 0.0916\n",
      "Epoch 45/50\n",
      "469/469 [==============================] - 52s 111ms/step - loss: 0.0923 - val_loss: 0.0913\n",
      "Epoch 46/50\n",
      "469/469 [==============================] - 44s 94ms/step - loss: 0.0922 - val_loss: 0.0908\n",
      "Epoch 47/50\n",
      "469/469 [==============================] - 43s 91ms/step - loss: 0.0921 - val_loss: 0.0909\n",
      "Epoch 48/50\n",
      "469/469 [==============================] - 48s 103ms/step - loss: 0.0920 - val_loss: 0.0910\n",
      "Epoch 49/50\n",
      "469/469 [==============================] - 42s 91ms/step - loss: 0.0918 - val_loss: 0.0908\n",
      "Epoch 50/50\n",
      "469/469 [==============================] - 41s 88ms/step - loss: 0.0918 - val_loss: 0.0906\n"
     ]
    },
    {
     "data": {
      "text/plain": [
       "<keras.callbacks.History at 0x115a672aca0>"
      ]
     },
     "execution_count": 21,
     "metadata": {},
     "output_type": "execute_result"
    }
   ],
   "source": [
    "from keras.callbacks import TensorBoard\n",
    "\n",
    "autoencoder.fit(x_train, x_train,\n",
    "                epochs=50,\n",
    "                batch_size=128,\n",
    "                shuffle=True,\n",
    "                validation_data=(x_test, x_test),\n",
    "                callbacks=[TensorBoard(log_dir='./tmp')])\n"
   ]
  },
  {
   "cell_type": "code",
   "execution_count": 22,
   "id": "c007ed76",
   "metadata": {},
   "outputs": [
    {
     "data": {
      "image/png": "[encoded data removed]",
      "text/plain": [
       "<Figure size 1440x288 with 20 Axes>"
      ]
     },
     "metadata": {
      "needs_background": "light"
     },
     "output_type": "display_data"
    }
   ],
   "source": [
    "decoded_imgs = autoencoder.predict(x_test)\n",
    "\n",
    "n = 10\n",
    "plt.figure(figsize=(20, 4))\n",
    "for i in range(1, n + 1):\n",
    "    # Display original\n",
    "    ax = plt.subplot(2, n, i)\n",
    "    plt.imshow(x_test[i].reshape(28, 28))\n",
    "    plt.gray()\n",
    "    ax.get_xaxis().set_visible(False)\n",
    "    ax.get_yaxis().set_visible(False)\n",
    "\n",
    "    # Display reconstruction\n",
    "    ax = plt.subplot(2, n, i + n)\n",
    "    plt.imshow(decoded_imgs[i].reshape(28, 28))\n",
    "    plt.gray()\n",
    "    ax.get_xaxis().set_visible(False)\n",
    "    ax.get_yaxis().set_visible(False)\n",
    "plt.show()"
   ]
  },
  {
   "cell_type": "code",
   "execution_count": 23,
   "id": "69bc0013",
   "metadata": {},
   "outputs": [
    {
     "data": {
      "image/png": "[encoded data removed]",
      "text/plain": [
       "<Figure size 1440x576 with 10 Axes>"
      ]
     },
     "metadata": {
      "needs_background": "light"
     },
     "output_type": "display_data"
    }
   ],
   "source": [
    "encoder = keras.Model(input_img, encoded)\n",
    "encoded_imgs = encoder.predict(x_test)\n",
    "\n",
    "n = 10\n",
    "plt.figure(figsize=(20, 8))\n",
    "for i in range(1, n + 1):\n",
    "    ax = plt.subplot(1, n, i)\n",
    "    plt.imshow(encoded_imgs[i].reshape((4, 4 * 8)).T)\n",
    "    plt.gray()\n",
    "    ax.get_xaxis().set_visible(False)\n",
    "    ax.get_yaxis().set_visible(False)\n",
    "plt.show()"
   ]
  },
  {
   "cell_type": "markdown",
   "id": "dbd6fb8a",
   "metadata": {},
   "source": [
    "## 2.5 Przykład z odszumianiem obrazu\n",
    "\n",
    "Jak powiedzieliśmy, jedną z funkcji autoenkoderów jest odszumianie obrazów. Dodajmy szum do naszych cyfr, żeby przekonać się czy autoenkoder sobie z tym poradzi:"
   ]
  },
  {
   "cell_type": "code",
   "execution_count": 24,
   "id": "91d31a56",
   "metadata": {},
   "outputs": [],
   "source": [
    "(x_train, _), (x_test, _) = mnist.load_data()\n",
    "\n",
    "x_train = x_train.astype('float32') / 255.\n",
    "x_test = x_test.astype('float32') / 255.\n",
    "x_train = np.reshape(x_train, (len(x_train), 28, 28, 1))\n",
    "x_test = np.reshape(x_test, (len(x_test), 28, 28, 1))\n",
    "\n",
    "noise_factor = 0.5\n",
    "x_train_noisy = x_train + noise_factor * np.random.normal(loc=0.0, scale=1.0, size=x_train.shape) \n",
    "x_test_noisy = x_test + noise_factor * np.random.normal(loc=0.0, scale=1.0, size=x_test.shape) \n",
    "\n",
    "x_train_noisy = np.clip(x_train_noisy, 0., 1.)\n",
    "x_test_noisy = np.clip(x_test_noisy, 0., 1.)"
   ]
  },
  {
   "cell_type": "code",
   "execution_count": 25,
   "id": "5d67e5c2",
   "metadata": {},
   "outputs": [
    {
     "data": {
      "image/png": "[encoded data removed]",
      "text/plain": [
       "<Figure size 1440x144 with 10 Axes>"
      ]
     },
     "metadata": {
      "needs_background": "light"
     },
     "output_type": "display_data"
    }
   ],
   "source": [
    "n = 10\n",
    "plt.figure(figsize=(20, 2))\n",
    "for i in range(1, n + 1):\n",
    "    ax = plt.subplot(1, n, i)\n",
    "    plt.imshow(x_test_noisy[i].reshape(28, 28))\n",
    "    plt.gray()\n",
    "    ax.get_xaxis().set_visible(False)\n",
    "    ax.get_yaxis().set_visible(False)\n",
    "plt.show()"
   ]
  },
  {
   "cell_type": "markdown",
   "id": "da1811a5",
   "metadata": {},
   "source": [
    "Architekturę zaplanujemy tą samą co ostatnio:"
   ]
  },
  {
   "cell_type": "code",
   "execution_count": 26,
   "id": "fb65ccc1",
   "metadata": {},
   "outputs": [],
   "source": [
    "input_img = keras.Input(shape=(28, 28, 1))\n",
    "\n",
    "x = layers.Conv2D(32, (3, 3), activation='relu', padding='same')(input_img)\n",
    "x = layers.MaxPooling2D((2, 2), padding='same')(x)\n",
    "x = layers.Conv2D(32, (3, 3), activation='relu', padding='same')(x)\n",
    "encoded = layers.MaxPooling2D((2, 2), padding='same')(x)\n",
    "\n",
    "# At this point the representation is (7, 7, 32)\n",
    "\n",
    "x = layers.Conv2D(32, (3, 3), activation='relu', padding='same')(encoded)\n",
    "x = layers.UpSampling2D((2, 2))(x)\n",
    "x = layers.Conv2D(32, (3, 3), activation='relu', padding='same')(x)\n",
    "x = layers.UpSampling2D((2, 2))(x)\n",
    "decoded = layers.Conv2D(1, (3, 3), activation='sigmoid', padding='same')(x)\n",
    "\n",
    "autoencoder = keras.Model(input_img, decoded)\n",
    "autoencoder.compile(optimizer='adam', loss='binary_crossentropy')\n"
   ]
  },
  {
   "cell_type": "markdown",
   "id": "f39044c5",
   "metadata": {},
   "source": [
    "Trenowanie modelu przez sto epok:"
   ]
  },
  {
   "cell_type": "code",
   "execution_count": 27,
   "id": "38da3c5a",
   "metadata": {},
   "outputs": [
    {
     "name": "stdout",
     "output_type": "stream",
     "text": [
      "Epoch 1/100\n",
      "469/469 [==============================] - 89s 189ms/step - loss: 0.1648 - val_loss: 0.1166\n",
      "Epoch 2/100\n",
      "469/469 [==============================] - 82s 176ms/step - loss: 0.1136 - val_loss: 0.1090\n",
      "Epoch 3/100\n",
      "469/469 [==============================] - 91s 195ms/step - loss: 0.1081 - val_loss: 0.1060\n",
      "Epoch 4/100\n",
      "469/469 [==============================] - 81s 174ms/step - loss: 0.1050 - val_loss: 0.1032\n",
      "Epoch 5/100\n",
      "469/469 [==============================] - 93s 199ms/step - loss: 0.1032 - val_loss: 0.1015\n",
      "Epoch 6/100\n",
      "469/469 [==============================] - 84s 180ms/step - loss: 0.1019 - val_loss: 0.1008\n",
      "Epoch 7/100\n",
      "469/469 [==============================] - 87s 186ms/step - loss: 0.1008 - val_loss: 0.0998\n",
      "Epoch 8/100\n",
      "469/469 [==============================] - 87s 186ms/step - loss: 0.1000 - val_loss: 0.0988\n",
      "Epoch 9/100\n",
      "469/469 [==============================] - 92s 196ms/step - loss: 0.0993 - val_loss: 0.0982\n",
      "Epoch 10/100\n",
      "469/469 [==============================] - 89s 190ms/step - loss: 0.0987 - val_loss: 0.0977\n",
      "Epoch 11/100\n",
      "469/469 [==============================] - 86s 184ms/step - loss: 0.0982 - val_loss: 0.0974\n",
      "Epoch 12/100\n",
      "469/469 [==============================] - 85s 181ms/step - loss: 0.0978 - val_loss: 0.0968\n",
      "Epoch 13/100\n",
      "469/469 [==============================] - 89s 191ms/step - loss: 0.0974 - val_loss: 0.0965\n",
      "Epoch 14/100\n",
      "469/469 [==============================] - 83s 178ms/step - loss: 0.0971 - val_loss: 0.0963\n",
      "Epoch 15/100\n",
      "469/469 [==============================] - 92s 196ms/step - loss: 0.0967 - val_loss: 0.0969\n",
      "Epoch 16/100\n",
      "469/469 [==============================] - 91s 194ms/step - loss: 0.0965 - val_loss: 0.0958\n",
      "Epoch 17/100\n",
      "469/469 [==============================] - 90s 192ms/step - loss: 0.0963 - val_loss: 0.0955\n",
      "Epoch 18/100\n",
      "469/469 [==============================] - 88s 189ms/step - loss: 0.0961 - val_loss: 0.0953\n",
      "Epoch 19/100\n",
      "469/469 [==============================] - 86s 184ms/step - loss: 0.0959 - val_loss: 0.0953\n",
      "Epoch 20/100\n",
      "469/469 [==============================] - 92s 196ms/step - loss: 0.0957 - val_loss: 0.0952\n",
      "Epoch 21/100\n",
      "469/469 [==============================] - 82s 175ms/step - loss: 0.0956 - val_loss: 0.0952\n",
      "Epoch 22/100\n",
      "469/469 [==============================] - 95s 203ms/step - loss: 0.0955 - val_loss: 0.0950\n",
      "Epoch 23/100\n",
      "469/469 [==============================] - 88s 188ms/step - loss: 0.0953 - val_loss: 0.0949\n",
      "Epoch 24/100\n",
      "469/469 [==============================] - 94s 201ms/step - loss: 0.0952 - val_loss: 0.0948\n",
      "Epoch 25/100\n",
      "469/469 [==============================] - 83s 176ms/step - loss: 0.0951 - val_loss: 0.0947\n",
      "Epoch 26/100\n",
      "469/469 [==============================] - 90s 191ms/step - loss: 0.0950 - val_loss: 0.0945\n",
      "Epoch 27/100\n",
      "469/469 [==============================] - 83s 176ms/step - loss: 0.0950 - val_loss: 0.0945\n",
      "Epoch 28/100\n",
      "469/469 [==============================] - 92s 195ms/step - loss: 0.0948 - val_loss: 0.0946\n",
      "Epoch 29/100\n",
      "469/469 [==============================] - 81s 172ms/step - loss: 0.0948 - val_loss: 0.0949\n",
      "Epoch 30/100\n",
      "469/469 [==============================] - 91s 193ms/step - loss: 0.0947 - val_loss: 0.0943\n",
      "Epoch 31/100\n",
      "469/469 [==============================] - 87s 185ms/step - loss: 0.0947 - val_loss: 0.0942\n",
      "Epoch 32/100\n",
      "469/469 [==============================] - 90s 192ms/step - loss: 0.0946 - val_loss: 0.0942\n",
      "Epoch 33/100\n",
      "469/469 [==============================] - 84s 178ms/step - loss: 0.0945 - val_loss: 0.0942\n",
      "Epoch 34/100\n",
      "469/469 [==============================] - 92s 197ms/step - loss: 0.0945 - val_loss: 0.0943\n",
      "Epoch 35/100\n",
      "469/469 [==============================] - 82s 175ms/step - loss: 0.0944 - val_loss: 0.0941\n",
      "Epoch 36/100\n",
      "469/469 [==============================] - 90s 192ms/step - loss: 0.0944 - val_loss: 0.0940\n",
      "Epoch 37/100\n",
      "469/469 [==============================] - 85s 181ms/step - loss: 0.0943 - val_loss: 0.0942\n",
      "Epoch 38/100\n",
      "469/469 [==============================] - 94s 200ms/step - loss: 0.0943 - val_loss: 0.0939\n",
      "Epoch 39/100\n",
      "469/469 [==============================] - 87s 186ms/step - loss: 0.0942 - val_loss: 0.0941\n",
      "Epoch 40/100\n",
      "469/469 [==============================] - 94s 200ms/step - loss: 0.0942 - val_loss: 0.0941\n",
      "Epoch 41/100\n",
      "469/469 [==============================] - 87s 185ms/step - loss: 0.0942 - val_loss: 0.0940\n",
      "Epoch 42/100\n",
      "469/469 [==============================] - 94s 201ms/step - loss: 0.0941 - val_loss: 0.0940\n",
      "Epoch 43/100\n",
      "469/469 [==============================] - 92s 196ms/step - loss: 0.0941 - val_loss: 0.0940\n",
      "Epoch 44/100\n",
      "469/469 [==============================] - 93s 197ms/step - loss: 0.0941 - val_loss: 0.0939\n",
      "Epoch 45/100\n",
      "469/469 [==============================] - 86s 184ms/step - loss: 0.0940 - val_loss: 0.0938\n",
      "Epoch 46/100\n",
      "469/469 [==============================] - 90s 191ms/step - loss: 0.0940 - val_loss: 0.0938\n",
      "Epoch 47/100\n",
      "469/469 [==============================] - 91s 193ms/step - loss: 0.0940 - val_loss: 0.0937\n",
      "Epoch 48/100\n",
      "469/469 [==============================] - 94s 200ms/step - loss: 0.0940 - val_loss: 0.0937\n",
      "Epoch 49/100\n",
      "469/469 [==============================] - 84s 180ms/step - loss: 0.0940 - val_loss: 0.0937\n",
      "Epoch 50/100\n",
      "469/469 [==============================] - 92s 197ms/step - loss: 0.0939 - val_loss: 0.0937\n",
      "Epoch 51/100\n",
      "469/469 [==============================] - 85s 182ms/step - loss: 0.0939 - val_loss: 0.0937\n",
      "Epoch 52/100\n",
      "469/469 [==============================] - 94s 201ms/step - loss: 0.0939 - val_loss: 0.0937\n",
      "Epoch 53/100\n",
      "469/469 [==============================] - 79s 168ms/step - loss: 0.0938 - val_loss: 0.0938\n",
      "Epoch 54/100\n",
      "469/469 [==============================] - 88s 188ms/step - loss: 0.0938 - val_loss: 0.0938\n",
      "Epoch 55/100\n",
      "469/469 [==============================] - 86s 184ms/step - loss: 0.0938 - val_loss: 0.0937\n",
      "Epoch 56/100\n",
      "469/469 [==============================] - 80s 170ms/step - loss: 0.0938 - val_loss: 0.0936\n",
      "Epoch 57/100\n",
      "469/469 [==============================] - 89s 189ms/step - loss: 0.0937 - val_loss: 0.0942\n",
      "Epoch 58/100\n",
      "469/469 [==============================] - 83s 177ms/step - loss: 0.0938 - val_loss: 0.0937\n",
      "Epoch 59/100\n",
      "469/469 [==============================] - 82s 176ms/step - loss: 0.0937 - val_loss: 0.0940\n",
      "Epoch 60/100\n",
      "469/469 [==============================] - 99s 212ms/step - loss: 0.0937 - val_loss: 0.0937\n",
      "Epoch 61/100\n",
      "469/469 [==============================] - 85s 181ms/step - loss: 0.0937 - val_loss: 0.0937\n",
      "Epoch 62/100\n",
      "469/469 [==============================] - 92s 195ms/step - loss: 0.0937 - val_loss: 0.0937\n",
      "Epoch 63/100\n",
      "469/469 [==============================] - 92s 197ms/step - loss: 0.0937 - val_loss: 0.0934\n",
      "Epoch 64/100\n",
      "469/469 [==============================] - 88s 188ms/step - loss: 0.0936 - val_loss: 0.0937\n",
      "Epoch 65/100\n",
      "469/469 [==============================] - 85s 181ms/step - loss: 0.0936 - val_loss: 0.0935\n",
      "Epoch 66/100\n",
      "469/469 [==============================] - 87s 186ms/step - loss: 0.0936 - val_loss: 0.0937\n",
      "Epoch 67/100\n",
      "469/469 [==============================] - 91s 193ms/step - loss: 0.0936 - val_loss: 0.0936\n",
      "Epoch 68/100\n",
      "469/469 [==============================] - 82s 174ms/step - loss: 0.0936 - val_loss: 0.0935\n",
      "Epoch 69/100\n",
      "469/469 [==============================] - 93s 199ms/step - loss: 0.0936 - val_loss: 0.0935\n",
      "Epoch 70/100\n",
      "469/469 [==============================] - 89s 191ms/step - loss: 0.0935 - val_loss: 0.0936\n",
      "Epoch 71/100\n",
      "469/469 [==============================] - 84s 178ms/step - loss: 0.0935 - val_loss: 0.0938\n",
      "Epoch 72/100\n",
      "469/469 [==============================] - 92s 197ms/step - loss: 0.0935 - val_loss: 0.0934\n",
      "Epoch 73/100\n",
      "469/469 [==============================] - 85s 181ms/step - loss: 0.0935 - val_loss: 0.0935\n",
      "Epoch 74/100\n",
      "469/469 [==============================] - 102s 217ms/step - loss: 0.0935 - val_loss: 0.0937\n",
      "Epoch 75/100\n",
      "469/469 [==============================] - 87s 185ms/step - loss: 0.0935 - val_loss: 0.0938\n",
      "Epoch 76/100\n",
      "469/469 [==============================] - 100s 213ms/step - loss: 0.0935 - val_loss: 0.0939\n",
      "Epoch 77/100\n",
      "469/469 [==============================] - 87s 185ms/step - loss: 0.0935 - val_loss: 0.0934\n",
      "Epoch 78/100\n",
      "469/469 [==============================] - 95s 202ms/step - loss: 0.0935 - val_loss: 0.0934\n",
      "Epoch 79/100\n"
     ]
    },
    {
     "name": "stdout",
     "output_type": "stream",
     "text": [
      "469/469 [==============================] - 97s 206ms/step - loss: 0.0934 - val_loss: 0.0934\n",
      "Epoch 80/100\n",
      "469/469 [==============================] - 86s 184ms/step - loss: 0.0934 - val_loss: 0.0934\n",
      "Epoch 81/100\n",
      "469/469 [==============================] - 93s 198ms/step - loss: 0.0934 - val_loss: 0.0933\n",
      "Epoch 82/100\n",
      "469/469 [==============================] - 82s 174ms/step - loss: 0.0934 - val_loss: 0.0934\n",
      "Epoch 83/100\n",
      "469/469 [==============================] - 93s 198ms/step - loss: 0.0934 - val_loss: 0.0932\n",
      "Epoch 84/100\n",
      "469/469 [==============================] - 81s 172ms/step - loss: 0.0934 - val_loss: 0.0933\n",
      "Epoch 85/100\n",
      "469/469 [==============================] - 93s 198ms/step - loss: 0.0933 - val_loss: 0.0933\n",
      "Epoch 86/100\n",
      "469/469 [==============================] - 86s 184ms/step - loss: 0.0934 - val_loss: 0.0938\n",
      "Epoch 87/100\n",
      "469/469 [==============================] - 88s 189ms/step - loss: 0.0933 - val_loss: 0.0934\n",
      "Epoch 88/100\n",
      "469/469 [==============================] - 90s 193ms/step - loss: 0.0933 - val_loss: 0.0933\n",
      "Epoch 89/100\n",
      "469/469 [==============================] - 86s 183ms/step - loss: 0.0933 - val_loss: 0.0932\n",
      "Epoch 90/100\n",
      "469/469 [==============================] - 87s 185ms/step - loss: 0.0933 - val_loss: 0.0937\n",
      "Epoch 91/100\n",
      "469/469 [==============================] - 84s 179ms/step - loss: 0.0933 - val_loss: 0.0932\n",
      "Epoch 92/100\n",
      "469/469 [==============================] - 87s 185ms/step - loss: 0.0933 - val_loss: 0.0932\n",
      "Epoch 93/100\n",
      "469/469 [==============================] - 90s 191ms/step - loss: 0.0933 - val_loss: 0.0932\n",
      "Epoch 94/100\n",
      "469/469 [==============================] - 89s 190ms/step - loss: 0.0932 - val_loss: 0.0933\n",
      "Epoch 95/100\n",
      "469/469 [==============================] - 84s 179ms/step - loss: 0.0932 - val_loss: 0.0934\n",
      "Epoch 96/100\n",
      "469/469 [==============================] - 90s 192ms/step - loss: 0.0933 - val_loss: 0.0934\n",
      "Epoch 97/100\n",
      "469/469 [==============================] - 88s 187ms/step - loss: 0.0933 - val_loss: 0.0935\n",
      "Epoch 98/100\n",
      "469/469 [==============================] - 84s 179ms/step - loss: 0.0932 - val_loss: 0.0932\n",
      "Epoch 99/100\n",
      "469/469 [==============================] - 93s 198ms/step - loss: 0.0932 - val_loss: 0.0934\n",
      "Epoch 100/100\n",
      "469/469 [==============================] - 82s 175ms/step - loss: 0.0932 - val_loss: 0.0935\n"
     ]
    },
    {
     "data": {
      "text/plain": [
       "<keras.callbacks.History at 0x115ac9abf40>"
      ]
     },
     "execution_count": 27,
     "metadata": {},
     "output_type": "execute_result"
    }
   ],
   "source": [
    "autoencoder.fit(x_train_noisy, x_train,\n",
    "                epochs=100,\n",
    "                batch_size=128,\n",
    "                shuffle=True,\n",
    "                validation_data=(x_test_noisy, x_test),\n",
    "                callbacks=[TensorBoard(log_dir='/tmp/tb', histogram_freq=0, write_graph=False)])\n"
   ]
  },
  {
   "cell_type": "markdown",
   "id": "a82c4a67",
   "metadata": {},
   "source": [
    "### Więcej informacji:\n",
    "* https://blog.keras.io/building-autoencoders-in-keras.html"
   ]
  }
 ],
 "metadata": {
  "kernelspec": {
   "display_name": "Python 3 (ipykernel)",
   "language": "python",
   "name": "python3"
  },
  "language_info": {
   "codemirror_mode": {
    "name": "ipython",
    "version": 3
   },
   "file_extension": ".py",
   "mimetype": "text/x-python",
   "name": "python",
   "nbconvert_exporter": "python",
   "pygments_lexer": "ipython3",
   "version": "3.10.10"
  }
 },
 "nbformat": 4,
 "nbformat_minor": 5
}
