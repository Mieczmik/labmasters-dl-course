{
 "cells": [
  {
   "cell_type": "markdown",
   "id": "61341201",
   "metadata": {},
   "source": [
    "![alt text](img/LM.png)\n",
    "# Kurs: Deep Learning, Text Mining i XAI w Pythonie\n",
    "\n",
    "## Autor: Piotr Ćwiakowski\n",
    "\n",
    "### Lekcja 6. NLP: Uczenie nadzorowane i nienadzorowane"
   ]
  },
  {
   "cell_type": "markdown",
   "id": "646055b3",
   "metadata": {},
   "source": [
    "# Zadanie 1. \n",
    "\n",
    "Wczytaj zbiór `Womens Clothing E-Commerce Reviews.csv` i następnie wykonaj poniższe polecenia:\n",
    "\n",
    "- policz liczbę słów w każdej recenzji (i wyniki zaprezentuj za pomocą histogramu),\n",
    "- sentyment w każdej recenzji (i wyniki zaprezentuj za pomocą histogramu),\n",
    "- prawdopodobieństwo pozytywnej recenzji (i wyniki zaprezentuj za pomocą histogramu),\n",
    "- korelację między ratingiem a prawdopodobieństwem pozytywnej recenzji,\n",
    "\n",
    "Policz średni sentyment ze względu na Departamenty, Dywizje i Rodzaje ubrań. Czy klienci tak samo są zadowoleni ze wszystkich typów ubrań?"
   ]
  },
  {
   "cell_type": "code",
   "execution_count": 11,
   "id": "ef85c893",
   "metadata": {
    "scrolled": true
   },
   "outputs": [
    {
     "data": {
      "text/html": [
       "<div>\n",
       "<style scoped>\n",
       "    .dataframe tbody tr th:only-of-type {\n",
       "        vertical-align: middle;\n",
       "    }\n",
       "\n",
       "    .dataframe tbody tr th {\n",
       "        vertical-align: top;\n",
       "    }\n",
       "\n",
       "    .dataframe thead th {\n",
       "        text-align: right;\n",
       "    }\n",
       "</style>\n",
       "<table border=\"1\" class=\"dataframe\">\n",
       "  <thead>\n",
       "    <tr style=\"text-align: right;\">\n",
       "      <th></th>\n",
       "      <th>Age</th>\n",
       "      <th>Review Text</th>\n",
       "      <th>Rating</th>\n",
       "      <th>Recommended IND</th>\n",
       "      <th>Positive Feedback Count</th>\n",
       "      <th>Division Name</th>\n",
       "      <th>Department Name</th>\n",
       "      <th>Class Name</th>\n",
       "    </tr>\n",
       "    <tr>\n",
       "      <th>Clothing ID</th>\n",
       "      <th></th>\n",
       "      <th></th>\n",
       "      <th></th>\n",
       "      <th></th>\n",
       "      <th></th>\n",
       "      <th></th>\n",
       "      <th></th>\n",
       "      <th></th>\n",
       "    </tr>\n",
       "  </thead>\n",
       "  <tbody>\n",
       "    <tr>\n",
       "      <th>767</th>\n",
       "      <td>33</td>\n",
       "      <td>Absolutely wonderful - silky and sexy and comf...</td>\n",
       "      <td>4</td>\n",
       "      <td>1</td>\n",
       "      <td>0</td>\n",
       "      <td>Initmates</td>\n",
       "      <td>Intimate</td>\n",
       "      <td>Intimates</td>\n",
       "    </tr>\n",
       "    <tr>\n",
       "      <th>1080</th>\n",
       "      <td>34</td>\n",
       "      <td>Love this dress!  it's sooo pretty.  i happene...</td>\n",
       "      <td>5</td>\n",
       "      <td>1</td>\n",
       "      <td>4</td>\n",
       "      <td>General</td>\n",
       "      <td>Dresses</td>\n",
       "      <td>Dresses</td>\n",
       "    </tr>\n",
       "    <tr>\n",
       "      <th>1077</th>\n",
       "      <td>60</td>\n",
       "      <td>I had such high hopes for this dress and reall...</td>\n",
       "      <td>3</td>\n",
       "      <td>0</td>\n",
       "      <td>0</td>\n",
       "      <td>General</td>\n",
       "      <td>Dresses</td>\n",
       "      <td>Dresses</td>\n",
       "    </tr>\n",
       "    <tr>\n",
       "      <th>1049</th>\n",
       "      <td>50</td>\n",
       "      <td>I love, love, love this jumpsuit. it's fun, fl...</td>\n",
       "      <td>5</td>\n",
       "      <td>1</td>\n",
       "      <td>0</td>\n",
       "      <td>General Petite</td>\n",
       "      <td>Bottoms</td>\n",
       "      <td>Pants</td>\n",
       "    </tr>\n",
       "    <tr>\n",
       "      <th>847</th>\n",
       "      <td>47</td>\n",
       "      <td>This shirt is very flattering to all due to th...</td>\n",
       "      <td>5</td>\n",
       "      <td>1</td>\n",
       "      <td>6</td>\n",
       "      <td>General</td>\n",
       "      <td>Tops</td>\n",
       "      <td>Blouses</td>\n",
       "    </tr>\n",
       "  </tbody>\n",
       "</table>\n",
       "</div>"
      ],
      "text/plain": [
       "             Age                                        Review Text  Rating  \\\n",
       "Clothing ID                                                                   \n",
       "767           33  Absolutely wonderful - silky and sexy and comf...       4   \n",
       "1080          34  Love this dress!  it's sooo pretty.  i happene...       5   \n",
       "1077          60  I had such high hopes for this dress and reall...       3   \n",
       "1049          50  I love, love, love this jumpsuit. it's fun, fl...       5   \n",
       "847           47  This shirt is very flattering to all due to th...       5   \n",
       "\n",
       "             Recommended IND  Positive Feedback Count   Division Name  \\\n",
       "Clothing ID                                                             \n",
       "767                        1                        0       Initmates   \n",
       "1080                       1                        4         General   \n",
       "1077                       0                        0         General   \n",
       "1049                       1                        0  General Petite   \n",
       "847                        1                        6         General   \n",
       "\n",
       "            Department Name Class Name  \n",
       "Clothing ID                             \n",
       "767                Intimate  Intimates  \n",
       "1080                Dresses    Dresses  \n",
       "1077                Dresses    Dresses  \n",
       "1049                Bottoms      Pants  \n",
       "847                    Tops    Blouses  "
      ]
     },
     "execution_count": 11,
     "metadata": {},
     "output_type": "execute_result"
    }
   ],
   "source": [
    "import pandas as pd\n",
    "from textblob import TextBlob\n",
    "df = pd.read_csv('dataTM/Womens Clothing E-Commerce Reviews.csv')\n",
    "\n",
    "df.drop('Unnamed: 0', axis=1, inplace=True)\n",
    "df.drop('Title', axis=1, inplace=True)\n",
    "df.set_index('Clothing ID', inplace=True)\n",
    "df = df[~df['Review Text'].isnull()]\n",
    "\n",
    "def preprocess(ReviewText):\n",
    "    ReviewText = ReviewText.str.replace(\"(<br/>)\", \"\", regex=True)\n",
    "    ReviewText = ReviewText.str.replace('(<a).*(>).*(</a>)', '', regex=True)\n",
    "    ReviewText = ReviewText.str.replace('(&amp)', '', regex=True)\n",
    "    ReviewText = ReviewText.str.replace('(&gt)', '', regex=True)\n",
    "    ReviewText = ReviewText.str.replace('(&lt)', '', regex=True)\n",
    "    ReviewText = ReviewText.str.replace('(\\xa0)', ' ', regex=True)  \n",
    "    return ReviewText\n",
    "df['Review Text'] = preprocess(df['Review Text'])\n",
    "df.head()"
   ]
  },
  {
   "cell_type": "markdown",
   "id": "10b441ad",
   "metadata": {},
   "source": [
    "Następnie przygotuj Document Term Matrix i policz:\n",
    "\n",
    "- 20 najpopularniejszych słów (po usunięciu stopwords (i może lematyzacji?)\n",
    "- 20 najpopularniejszych bigramów."
   ]
  },
  {
   "cell_type": "markdown",
   "id": "af79197a",
   "metadata": {},
   "source": [
    "## Zadanie 2. \n",
    "\n",
    "Wczytaj zbiór `paper.p` i wykonaj segmentację danych. Możesz użyć innej techniki niż KMeans."
   ]
  },
  {
   "cell_type": "code",
   "execution_count": null,
   "id": "2678c0b5",
   "metadata": {},
   "outputs": [],
   "source": []
  },
  {
   "cell_type": "markdown",
   "id": "7871e946",
   "metadata": {},
   "source": [
    "# Zadanie 3. \n",
    "\n",
    "Wczytaj zbiór `paper.p` i wykonaj analizę tematów metodą LDA."
   ]
  },
  {
   "cell_type": "code",
   "execution_count": null,
   "id": "bada670b",
   "metadata": {},
   "outputs": [],
   "source": []
  },
  {
   "cell_type": "markdown",
   "id": "17de6172",
   "metadata": {},
   "source": [
    "# Zadanie 4.\n",
    "\n",
    "Wczytaj zbiór z recenzjami filmów (przygotowany podczas poprzednich zajęć), stwórz DTM i wykonaj model prognozujący czy recenzja jest pozytywna czy negatywna."
   ]
  },
  {
   "cell_type": "code",
   "execution_count": null,
   "id": "ded1b18d",
   "metadata": {},
   "outputs": [],
   "source": []
  },
  {
   "cell_type": "markdown",
   "id": "f0e623d5",
   "metadata": {},
   "source": [
    "# Zadanie 5.\n",
    "Wczytaj zbiór `Restaurant_Reviews.tsv` i wykonaj model przewidujący sentyment klientów."
   ]
  },
  {
   "cell_type": "code",
   "execution_count": null,
   "id": "bd8a6cf2",
   "metadata": {},
   "outputs": [],
   "source": []
  }
 ],
 "metadata": {
  "kernelspec": {
   "display_name": "Python 3 (ipykernel)",
   "language": "python",
   "name": "python3"
  },
  "language_info": {
   "codemirror_mode": {
    "name": "ipython",
    "version": 3
   },
   "file_extension": ".py",
   "mimetype": "text/x-python",
   "name": "python",
   "nbconvert_exporter": "python",
   "pygments_lexer": "ipython3",
   "version": "3.10.9"
  }
 },
 "nbformat": 4,
 "nbformat_minor": 5
}
